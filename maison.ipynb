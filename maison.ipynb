{
 "metadata": {
  "language_info": {
   "codemirror_mode": {
    "name": "ipython",
    "version": 3
   },
   "file_extension": ".py",
   "mimetype": "text/x-python",
   "name": "python",
   "nbconvert_exporter": "python",
   "pygments_lexer": "ipython3",
   "version": "3.6.11-final"
  },
  "orig_nbformat": 2,
  "kernelspec": {
   "name": "Python 3.6.11 64-bit",
   "display_name": "Python 3.6.11 64-bit",
   "metadata": {
    "interpreter": {
     "hash": "15519de8fbb6136aa09e019b0b4b08d477217ed268095a8a98a95fc8a7dafa78"
    }
   }
  }
 },
 "nbformat": 4,
 "nbformat_minor": 2,
 "cells": [
  {
   "cell_type": "code",
   "execution_count": 1,
   "metadata": {
    "tags": []
   },
   "outputs": [],
   "source": [
    "import pandas as pd\n",
    "import matplotlib.pyplot as plt\n",
    "\n",
    "from modules.csvLoader import csvLoader\n",
    "\n",
    "%load_ext autoreload\n",
    "%autoreload 2"
   ]
  },
  {
   "source": [
    "## Lecture des csv"
   ],
   "cell_type": "markdown",
   "metadata": {}
  },
  {
   "cell_type": "code",
   "execution_count": 2,
   "metadata": {
    "tags": []
   },
   "outputs": [
    {
     "output_type": "stream",
     "name": "stdout",
     "text": "Successfully loaded  maison.csv\n"
    }
   ],
   "source": [
    "maison_filtre = csvLoader.load('maison')"
   ]
  },
  {
   "source": [
    "## Observation sur les types de mutation et leur influence sur la valeur de la maison\n",
    "```\n",
    "nb  Vente  :\t 489535 \tsoit\t 99.55  % des maisons\n",
    "nb  Vente en l'état  :\t 253 \tsoit\t 0.05  % des maisons\n",
    "nb  Echange  :\t 694 \t        soit\t 0.14  % des maisons\n",
    "nb  Adjudication  :\t 1124 \tsoit\t 0.23  % des maisons\n",
    "nb  Vente terrain à  :\t 132 \tsoit\t 0.03  % des maisons\n",
    "nb  Expropriation  :\t 10 \tsoit\t 0.0  % des maisons\n",
    "\n",
    "                                    Valeur fonciere\n",
    "Nature mutation                                    \n",
    "Adjudication                              142,767 €\n",
    "Echange                                   179,116 €\n",
    "Expropriation                             158,253 €\n",
    "Vente                                     372,797 €\n",
    "Vente en l'état futur d'achèvement      2,006,223 €\n",
    "```"
   ],
   "cell_type": "markdown",
   "metadata": {}
  },
  {
   "cell_type": "code",
   "execution_count": 3,
   "metadata": {
    "tags": []
   },
   "outputs": [
    {
     "output_type": "stream",
     "name": "stdout",
     "text": "nb  Vente  :\t 489535 \tsoit\t 99.55  % des maisons\nnb  Vente en l&#39;état  :\t 253 \tsoit\t 0.05  % des maisons\nnb  Echange  :\t 694 \tsoit\t 0.14  % des maisons\nnb  Adjudication  :\t 1124 \tsoit\t 0.23  % des maisons\nnb  Vente terrain à  :\t 132 \tsoit\t 0.03  % des maisons\nnb  Expropriation  :\t 10 \tsoit\t 0.0  % des maisons\n\nValeur moyenne par type de bien\n                                    Valeur fonciere\nNature mutation                                    \nAdjudication                              142,767 €\nEchange                                   179,116 €\nExpropriation                             158,253 €\nVente                                     372,797 €\nVente en l&#39;état futur d&#39;achèvement      2,006,223 €\n\n491748\n489535\n"
    }
   ],
   "source": [
    "mutations = maison_filtre['Nature mutation'].drop_duplicates().tolist()\n",
    "for mutation in mutations:\n",
    "    df = maison_filtre[maison_filtre['Nature mutation']==mutation]\n",
    "    print('nb ', mutation[:15], ' :\\t', len(df), '\\tsoit\\t', round(len(df)/len(maison_filtre)*100, 2), ' % des maisons' )\n",
    "\n",
    "del(mutations, df)\n",
    "\n",
    "print()\n",
    "print('Valeur moyenne par type de bien')\n",
    "maison_valeur = maison_filtre[['Nature mutation', 'Valeur fonciere']]\n",
    "pd.options.display.float_format = '{:,.0f} €'.format\n",
    "print( maison_valeur.groupby(['Nature mutation']).mean().head() )\n",
    "\n",
    "del(maison_valeur)\n",
    "\n",
    "print()\n",
    "print(len(maison_filtre))\n",
    "\n",
    "maison_filtre = maison_filtre[maison_filtre['Nature mutation'] == 'Vente']\n",
    "\n",
    "print(len(maison_filtre))"
   ]
  },
  {
   "cell_type": "code",
   "execution_count": 4,
   "metadata": {
    "tags": []
   },
   "outputs": [
    {
     "output_type": "stream",
     "name": "stdout",
     "text": "0  pièces :\t 631 \tsoit\t 0.13  % des maisons\n1  pièces :\t 13363 \tsoit\t 2.73  % des maisons\n2  pièces :\t 34131 \tsoit\t 6.97  % des maisons\n3  pièces :\t 92487 \tsoit\t 18.89  % des maisons\n4  pièces :\t 154406 \tsoit\t 31.54  % des maisons\n5  pièces :\t 115475 \tsoit\t 23.59  % des maisons\n6  pièces :\t 49123 \tsoit\t 10.03  % des maisons\n7  pièces :\t 18327 \tsoit\t 3.74  % des maisons\n8  pièces :\t 6794 \tsoit\t 1.39  % des maisons\n9  pièces :\t 2545 \tsoit\t 0.52  % des maisons\n10  pièces :\t 1078 \tsoit\t 0.22  % des maisons\n11  pièces :\t 510 \tsoit\t 0.1  % des maisons\n12  pièces :\t 289 \tsoit\t 0.06  % des maisons\n13  pièces :\t 120 \tsoit\t 0.02  % des maisons\n14  pièces :\t 91 \tsoit\t 0.02  % des maisons\n15  pièces :\t 63 \tsoit\t 0.01  % des maisons\n16  pièces :\t 23 \tsoit\t 0.0  % des maisons\n17  pièces :\t 10 \tsoit\t 0.0  % des maisons\n18  pièces :\t 15 \tsoit\t 0.0  % des maisons\n19  pièces :\t 6 \tsoit\t 0.0  % des maisons\n20  pièces :\t 8 \tsoit\t 0.0  % des maisons\n21  pièces :\t 1 \tsoit\t 0.0  % des maisons\n22  pièces :\t 6 \tsoit\t 0.0  % des maisons\n23  pièces :\t 6 \tsoit\t 0.0  % des maisons\n24  pièces :\t 5 \tsoit\t 0.0  % des maisons\n25  pièces :\t 6 \tsoit\t 0.0  % des maisons\n27  pièces :\t 1 \tsoit\t 0.0  % des maisons\n30  pièces :\t 1 \tsoit\t 0.0  % des maisons\n31  pièces :\t 3 \tsoit\t 0.0  % des maisons\n32  pièces :\t 1 \tsoit\t 0.0  % des maisons\n33  pièces :\t 1 \tsoit\t 0.0  % des maisons\n34  pièces :\t 1 \tsoit\t 0.0  % des maisons\n35  pièces :\t 2 \tsoit\t 0.0  % des maisons\n41  pièces :\t 1 \tsoit\t 0.0  % des maisons\n50  pièces :\t 1 \tsoit\t 0.0  % des maisons\n53  pièces :\t 2 \tsoit\t 0.0  % des maisons\n54  pièces :\t 1 \tsoit\t 0.0  % des maisons\n67  pièces :\t 1 \tsoit\t 0.0  % des maisons\n"
    }
   ],
   "source": [
    "nb_pieces = maison_filtre['Nombre pieces principales'].drop_duplicates().tolist()\n",
    "nb_pieces.sort()\n",
    "for piece in nb_pieces:\n",
    "    df = maison_filtre[maison_filtre['Nombre pieces principales']==piece]\n",
    "    print(int(piece), ' pièces :\\t', len(df), '\\tsoit\\t', round(len(df)/len(maison_filtre)*100, 2), ' % des maisons' )\n",
    "\n",
    "del(nb_pieces, df)"
   ]
  },
  {
   "cell_type": "code",
   "execution_count": 5,
   "metadata": {
    "tags": []
   },
   "outputs": [
    {
     "output_type": "stream",
     "name": "stdout",
     "text": "489535\n463949\n2  pièces : 34131 \tsoit\t 7.36  % des maisons\n3  pièces : 92487 \tsoit\t 19.93  % des maisons\n4  pièces : 154406 \tsoit\t 33.28  % des maisons\n5  pièces : 115475 \tsoit\t 24.89  % des maisons\n6  pièces : 49123 \tsoit\t 10.59  % des maisons\n7  pièces : 18327 \tsoit\t 3.95  % des maisons\n"
    }
   ],
   "source": [
    "if len(maison_filtre) < 450000:\n",
    "    raise SystemExit(\"Ce traitement a déjà été effectué !\")\n",
    "\n",
    "\n",
    "limite_basse, limite_haute = maison_filtre['Nombre pieces principales'].quantile([0.05, 0.95])\n",
    "\n",
    "print(len(maison_filtre))\n",
    "maison_filtre = maison_filtre.query(\"{low}<=`Nombre pieces principales`<={high}\".format(low=limite_basse,high=limite_haute))\n",
    "del(limite_basse, limite_haute)\n",
    "print(len(maison_filtre))\n",
    "\n",
    "nb_pieces = maison_filtre['Nombre pieces principales'].drop_duplicates().tolist()\n",
    "nb_pieces.sort()\n",
    "df = pd.DataFrame()\n",
    "for piece in nb_pieces:\n",
    "    df = maison_filtre[maison_filtre['Nombre pieces principales']==piece]\n",
    "    print(int(piece), ' pièces :', len(df), '\\tsoit\\t', round(len(df)/len(maison_filtre)*100, 2), ' % des maisons' )\n",
    "\n",
    "del(nb_pieces, df)"
   ]
  },
  {
   "cell_type": "code",
   "execution_count": 6,
   "metadata": {},
   "outputs": [],
   "source": [
    "csvLoader.save(maison_filtre, 'maison_filtre', save_index=False)"
   ]
  }
 ]
}