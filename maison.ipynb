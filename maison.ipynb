{
 "metadata": {
  "language_info": {
   "codemirror_mode": {
    "name": "ipython",
    "version": 3
   },
   "file_extension": ".py",
   "mimetype": "text/x-python",
   "name": "python",
   "nbconvert_exporter": "python",
   "pygments_lexer": "ipython3",
   "version": "3.6.11-final"
  },
  "orig_nbformat": 2,
  "kernelspec": {
   "name": "Python 3.6.11 64-bit",
   "display_name": "Python 3.6.11 64-bit",
   "metadata": {
    "interpreter": {
     "hash": "15519de8fbb6136aa09e019b0b4b08d477217ed268095a8a98a95fc8a7dafa78"
    }
   }
  }
 },
 "nbformat": 4,
 "nbformat_minor": 2,
 "cells": [
  {
   "cell_type": "code",
   "execution_count": 1,
   "metadata": {
    "tags": []
   },
   "outputs": [],
   "source": [
    "import pandas as pd\n",
    "import matplotlib.pyplot as plt\n",
    "\n",
    "from modules.csvLoader import csvLoader\n",
    "\n",
    "%load_ext autoreload\n",
    "%autoreload 2"
   ]
  },
  {
   "source": [
    "## Lecture des csv"
   ],
   "cell_type": "markdown",
   "metadata": {}
  },
  {
   "cell_type": "code",
   "execution_count": 2,
   "metadata": {
    "tags": []
   },
   "outputs": [
    {
     "output_type": "stream",
     "name": "stdout",
     "text": "Successfully loaded  maison_filtre.csv\n"
    }
   ],
   "source": [
    "maison_filtre = csvLoader.load('maison_filtre')"
   ]
  },
  {
   "source": [
    "## Observation sur les types de mutation et leur influence sur la valeur de la maison\n",
    "```\n",
    "nb  Vente  :\t 489535 \tsoit\t 99.55  % des maisons\n",
    "nb  Vente en l'état  :\t 253 \tsoit\t 0.05  % des maisons\n",
    "nb  Echange  :\t 694 \t        soit\t 0.14  % des maisons\n",
    "nb  Adjudication  :\t 1124 \tsoit\t 0.23  % des maisons\n",
    "nb  Vente terrain à  :\t 132 \tsoit\t 0.03  % des maisons\n",
    "nb  Expropriation  :\t 10 \tsoit\t 0.0  % des maisons\n",
    "\n",
    "                                    Valeur fonciere\n",
    "Nature mutation                                    \n",
    "Adjudication                              142,767 €\n",
    "Echange                                   179,116 €\n",
    "Expropriation                             158,253 €\n",
    "Vente                                     372,797 €\n",
    "Vente en l'état futur d'achèvement      2,006,223 €\n",
    "```"
   ],
   "cell_type": "markdown",
   "metadata": {}
  },
  {
   "cell_type": "code",
   "execution_count": 3,
   "metadata": {
    "tags": []
   },
   "outputs": [
    {
     "output_type": "stream",
     "name": "stdout",
     "text": "nb  Vente  :\t 489535 \tsoit\t 99.55  % des maisons\nnb  Vente en l&#39;état  :\t 253 \tsoit\t 0.05  % des maisons\nnb  Echange  :\t 694 \tsoit\t 0.14  % des maisons\nnb  Adjudication  :\t 1124 \tsoit\t 0.23  % des maisons\nnb  Vente terrain à  :\t 132 \tsoit\t 0.03  % des maisons\nnb  Expropriation  :\t 10 \tsoit\t 0.0  % des maisons\n\nValeur moyenne par type de bien\n                                    Valeur fonciere\nNature mutation                                    \nAdjudication                              142,767 €\nEchange                                   179,116 €\nExpropriation                             158,253 €\nVente                                     372,797 €\nVente en l&#39;état futur d&#39;achèvement      2,006,223 €\n\n491748\n489535\n"
    }
   ],
   "source": [
    "cols = maison_filtre['Nature mutation'].drop_duplicates().tolist()\n",
    "for col in cols:\n",
    "    df = maison_filtre[maison_filtre['Nature mutation']==col]\n",
    "    print('nb ', col[:15], ' :\\t', len(df), '\\tsoit\\t', round(len(df)/len(maison_filtre)*100, 2), ' % des maisons' )\n",
    "\n",
    "del(cols, df)\n",
    "\n",
    "print()\n",
    "print('Valeur moyenne par type de bien')\n",
    "maison_valeur = maison_filtre[['Nature mutation', 'Valeur fonciere']]\n",
    "pd.options.display.float_format = '{:,.0f} €'.format\n",
    "print( maison_valeur.groupby(['Nature mutation']).mean().head() )\n",
    "\n",
    "del(maison_valeur)\n",
    "\n",
    "print()\n",
    "print(len(maison_filtre))\n",
    "maison_filtre = maison_filtre[maison_filtre['Nature mutation'] == 'Vente']\n",
    "print(len(maison_filtre))"
   ]
  },
  {
   "cell_type": "code",
   "execution_count": null,
   "metadata": {},
   "outputs": [],
   "source": []
  }
 ]
}