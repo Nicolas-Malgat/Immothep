{
 "metadata": {
  "language_info": {
   "codemirror_mode": {
    "name": "ipython",
    "version": 3
   },
   "file_extension": ".py",
   "mimetype": "text/x-python",
   "name": "python",
   "nbconvert_exporter": "python",
   "pygments_lexer": "ipython3",
   "version": 3
  },
  "orig_nbformat": 2
 },
 "nbformat": 4,
 "nbformat_minor": 2,
 "cells": [
  {
   "cell_type": "code",
   "execution_count": null,
   "metadata": {},
   "outputs": [],
   "source": [
    "import pandas as pd\n",
    "import matplotlib.pyplot as plt\n",
    "\n",
    "from modules.loader import ImmothepDataLoader\n",
    "loader = ImmothepDataLoader()\n",
    "del(ImmothepDataLoader)\n",
    "\n",
    "from modules.csvLoader import csvLoader\n",
    "\n",
    "DATASET_PATH = '../datas/RAW/'\n",
    "\n",
    "%load_ext autoreload\n",
    "%autoreload 2"
   ]
  },
  {
   "source": [
    "## Lecture des csv"
   ],
   "cell_type": "markdown",
   "metadata": {}
  },
  {
   "cell_type": "code",
   "execution_count": null,
   "metadata": {},
   "outputs": [],
   "source": [
    "maison_filtre = csvLoader.load('maison_filtre')"
   ]
  },
  {
   "source": [
    "## Observation sur les types de mutation et leur influence sur la valeur de la maison\n",
    "```\n",
    "Vente\n",
    "Vente en l'état futur d'achèvement\n",
    "Echange\n",
    "Adjudication\n",
    "Vente terrain à bâtir\n",
    "Expropriation\n",
    "```"
   ],
   "cell_type": "markdown",
   "metadata": {}
  },
  {
   "cell_type": "code",
   "execution_count": null,
   "metadata": {},
   "outputs": [],
   "source": [
    "maison_valeur = maison_filtre[['Nature mutation', 'Valeur fonciere']]\n",
    "\n",
    "print(maison_valeur.groupby(by='Nature mutation').sum())\n",
    "\n",
    "# vente = maison_filtre[valeurs_foncieres['Nature mutation'] == 'Vente']\n",
    "# vente_achevement = maison_filtre[valeurs_foncieres['Nature mutation'] == \"Vente en l'état futur d'achèvement\"]\n",
    "# echange = maison_filtre[valeurs_foncieres['Nature mutation'] == \"Echange\"]\n",
    "# adjudication = maison_filtre[valeurs_foncieres['Nature mutation'] == \"Adjudication\"]\n",
    "# vente_terrain = maison_filtre[valeurs_foncieres['Nature mutation'] == \"Vente terrain à bâtir\"]\n",
    "# expropriation = maison_filtre[valeurs_foncieres['Nature mutation'] == \"Expropriation\"]\n",
    "\n",
    "# print('nb vente :\\t', len(vente), '\\tsoit\\t', round(len(vente)/len(maison_filtre)*100), ' % des maisons' )\n",
    "# print('nb vente_achevement :\\t', len(vente_achevement), '\\tsoit\\t', round(len(vente_achevement)/len(maison_filtre)*100, 1), ' % des maisons' )\n",
    "# print('nb echange :\\t', len(echange), '\\tsoit\\t', round(len(echange)/len(maison_filtre)*100, 1), ' % des maisons' )\n",
    "# print('nb adjudication :\\t', len(adjudication), '\\tsoit\\t', round(len(adjudication)/len(maison_filtre)*100, 1), ' % des maisons' )\n",
    "# print('nb vente_terrain :\\t', len(vente_terrain), '\\tsoit\\t', round(len(vente_terrain)/len(maison_filtre)*100, 1), ' % des maisons' )\n",
    "# print('nb expropriation :\\t', len(expropriation), '\\tsoit\\t', round(len(expropriation)/len(maison_filtre)*100, 1), ' % des maisons' )\n",
    "\n",
    "# print()\n",
    "\n",
    "# del(vente, vente_achevement, echange, adjudication, vente_terrain, expropriation)"
   ]
  }
 ]
}