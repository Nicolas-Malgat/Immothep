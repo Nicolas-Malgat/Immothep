{
 "metadata": {
  "language_info": {
   "codemirror_mode": {
    "name": "ipython",
    "version": 3
   },
   "file_extension": ".py",
   "mimetype": "text/x-python",
   "name": "python",
   "nbconvert_exporter": "python",
   "pygments_lexer": "ipython3",
   "version": "3.6.11-final"
  },
  "orig_nbformat": 2,
  "kernelspec": {
   "name": "Python 3.6.11 64-bit ('immobilier': conda)",
   "display_name": "Python 3.6.11 64-bit ('immobilier': conda)",
   "metadata": {
    "interpreter": {
     "hash": "15519de8fbb6136aa09e019b0b4b08d477217ed268095a8a98a95fc8a7dafa78"
    }
   }
  }
 },
 "nbformat": 4,
 "nbformat_minor": 2,
 "cells": [
  {
   "cell_type": "code",
   "execution_count": 2,
   "metadata": {
    "tags": []
   },
   "outputs": [
    {
     "output_type": "stream",
     "name": "stdout",
     "text": [
      "The autoreload extension is already loaded. To reload it, use:\n  %reload_ext autoreload\n"
     ]
    }
   ],
   "source": [
    "import pandas as pd\n",
    "import matplotlib.pyplot as plt\n",
    "import seaborn as sns\n",
    "\n",
    "from modules.csvLoader import csvLoader\n",
    "\n",
    "%load_ext autoreload\n",
    "%autoreload 2"
   ]
  },
  {
   "source": [
    "## Définition de fonctions utiles"
   ],
   "cell_type": "markdown",
   "metadata": {}
  },
  {
   "cell_type": "code",
   "execution_count": 3,
   "metadata": {},
   "outputs": [],
   "source": [
    "def drop_extreme(df, colonne, low_qt, high_qt):\n",
    "    limite_basse, limite_haute = df[colonne].quantile([low_qt, high_qt])\n",
    "    return df.query(\"{low}<=`{colonne}`<={high}\".format(low=limite_basse,high=limite_haute,colonne=colonne))"
   ]
  },
  {
   "source": [
    "## Lecture des csv"
   ],
   "cell_type": "markdown",
   "metadata": {}
  },
  {
   "cell_type": "code",
   "execution_count": 4,
   "metadata": {
    "tags": []
   },
   "outputs": [
    {
     "output_type": "stream",
     "name": "stdout",
     "text": [
      "Successfully loaded  maison.csv\n"
     ]
    }
   ],
   "source": [
    "maison_filtre = csvLoader.load('maison')"
   ]
  },
  {
   "source": [
    "## Observation sur les types de mutation et leur influence sur la valeur de la maison"
   ],
   "cell_type": "markdown",
   "metadata": {}
  },
  {
   "cell_type": "code",
   "execution_count": 5,
   "metadata": {
    "tags": []
   },
   "outputs": [
    {
     "output_type": "stream",
     "name": "stdout",
     "text": [
      "nb  Vente  :\t 489535 \tsoit\t 99.55  % des maisons\n",
      "nb  Vente en l'état  :\t 253 \tsoit\t 0.05  % des maisons\n",
      "nb  Echange  :\t 694 \tsoit\t 0.14  % des maisons\n",
      "nb  Adjudication  :\t 1124 \tsoit\t 0.23  % des maisons\n",
      "nb  Vente terrain à  :\t 132 \tsoit\t 0.03  % des maisons\n",
      "nb  Expropriation  :\t 10 \tsoit\t 0.0  % des maisons\n",
      "\n",
      "Valeur moyenne par type de bien\n",
      "                                    Valeur fonciere\n",
      "Nature mutation                                    \n",
      "Adjudication                           1.427672e+05\n",
      "Echange                                1.791159e+05\n",
      "Expropriation                          1.582530e+05\n",
      "Vente                                  3.727974e+05\n",
      "Vente en l'état futur d'achèvement     2.006223e+06\n",
      "\n",
      "491748\n",
      "489535\n"
     ]
    }
   ],
   "source": [
    "mutations = maison_filtre['Nature mutation'].drop_duplicates().tolist()\n",
    "for mutation in mutations:\n",
    "    df = maison_filtre[maison_filtre['Nature mutation']==mutation]\n",
    "    print('nb ', mutation[:15], ' :\\t', len(df), '\\tsoit\\t', round(len(df)/len(maison_filtre)*100, 2), ' % des maisons' )\n",
    "\n",
    "del(mutation, mutations, df)\n",
    "\n",
    "print()\n",
    "print('Valeur moyenne par type de bien')\n",
    "maison_valeur = maison_filtre[['Nature mutation', 'Valeur fonciere']]\n",
    "print( maison_valeur.groupby(['Nature mutation']).mean().head() )\n",
    "\n",
    "del(maison_valeur)\n",
    "\n",
    "print()\n",
    "print(len(maison_filtre))\n",
    "maison_filtre = maison_filtre[maison_filtre['Nature mutation'] == 'Vente']\n",
    "print(len(maison_filtre))"
   ]
  },
  {
   "source": [
    "## Observation sur les ventes groupées/dupliquées"
   ],
   "cell_type": "markdown",
   "metadata": {}
  },
  {
   "cell_type": "code",
   "execution_count": 6,
   "metadata": {
    "tags": []
   },
   "outputs": [
    {
     "output_type": "stream",
     "name": "stdout",
     "text": [
      "489535\n",
      "411491\n",
      "3  pièces : 92487 \tsoit\t 22.48  % des maisons\n",
      "4  pièces : 154406 \tsoit\t 37.52  % des maisons\n",
      "5  pièces : 115475 \tsoit\t 28.06  % des maisons\n",
      "6  pièces : 49123 \tsoit\t 11.94  % des maisons\n"
     ]
    }
   ],
   "source": [
    "print(len(maison_filtre))\n",
    "maison_filtre = drop_extreme(maison_filtre, 'Nombre pieces principales', 0.1, 0.9)\n",
    "print(len(maison_filtre))\n",
    "\n",
    "nb_pieces = maison_filtre['Nombre pieces principales'].drop_duplicates().tolist()\n",
    "nb_pieces.sort()\n",
    "for piece in nb_pieces:\n",
    "    df = maison_filtre[maison_filtre['Nombre pieces principales']==piece]\n",
    "    print(int(piece), ' pièces :', len(df), '\\tsoit\\t', round(len(df)/len(maison_filtre)*100, 2), ' % des maisons' )\n",
    "\n",
    "del(nb_pieces, df, piece)"
   ]
  },
  {
   "source": [
    "## Filtre sur les colonnes inutiles et concatenation des colonnes 'Surface Carrez' et 'Surface reelle'"
   ],
   "cell_type": "markdown",
   "metadata": {}
  },
  {
   "cell_type": "code",
   "execution_count": 7,
   "metadata": {
    "tags": []
   },
   "outputs": [
    {
     "output_type": "stream",
     "name": "stdout",
     "text": [
      "411491\n",
      "372302\n"
     ]
    }
   ],
   "source": [
    "# maison_filtre[maison_filtre['Surface'] < 140]['Surface'].hist(bins=50)\n",
    "\n",
    "print(len(maison_filtre))\n",
    "maison_filtre = drop_extreme(maison_filtre, 'Surface', 0.1, 0.9)\n",
    "print(len(maison_filtre))\n",
    "print(maison_filtre['Surface'].min(), maison_filtre['Surface'].max())"
   ]
  },
  {
   "source": [
    "## Suppression des extremes de 'Surface terrain'\n",
    "\n",
    "Note: aucune corrrelation notable à retirer, je drop la colonne après filtre"
   ],
   "cell_type": "markdown",
   "metadata": {}
  },
  {
   "cell_type": "code",
   "execution_count": 8,
   "metadata": {
    "tags": []
   },
   "outputs": [
    {
     "output_type": "stream",
     "name": "stdout",
     "text": [
      "372302\n",
      "335083\n"
     ]
    }
   ],
   "source": [
    "# maison_filtre[maison_filtre['Surface terrain'] < 960]['Surface terrain'].hist(bins=50)\n",
    "\n",
    "print(len(maison_filtre))\n",
    "maison_filtre = drop_extreme(maison_filtre, 'Surface terrain', 0.1, 0.90)\n",
    "print(len(maison_filtre))\n",
    "print(maison_filtre['Surface terrain'].min(), maison_filtre['Surface terrain'].max())\n",
    "\n",
    "# maison_filtre = maison_filtre.drop(columns=['Surface terrain'])"
   ]
  },
  {
   "source": [
    "## Suppression des extremes de 'Valeur fonciere'"
   ],
   "cell_type": "markdown",
   "metadata": {}
  },
  {
   "cell_type": "code",
   "execution_count": 10,
   "metadata": {
    "tags": []
   },
   "outputs": [
    {
     "output_type": "stream",
     "name": "stdout",
     "text": [
      "174138\n156783\n"
     ]
    }
   ],
   "source": [
    "# maison_filtre[maison_filtre['Valeur fonciere'] < 450000.0]['Valeur fonciere'].hist(bins=50)\n",
    "\n",
    "print(len(maison_filtre))\n",
    "maison_filtre = drop_extreme(maison_filtre, 'Valeur fonciere', 0.05, 0.95)\n",
    "print(len(maison_filtre))\n",
    "# print(maison_filtre['Valeur fonciere'].min(), maison_filtre['Valeur fonciere'].max())"
   ]
  },
  {
   "source": [
    "## Observation du prix au m²"
   ],
   "cell_type": "markdown",
   "metadata": {}
  },
  {
   "cell_type": "code",
   "execution_count": 11,
   "metadata": {},
   "outputs": [],
   "source": [
    "maison_filtre['Prix metre carre'] = maison_filtre['Valeur fonciere']/maison_filtre['Surface']\n",
    "valeur_surface = maison_filtre.groupby('Code postal')['Prix metre carre'].mean()\n",
    "\n",
    "#Generation du csv prix au metre carre\n",
    "csvLoader.save(valeur_surface, 'prix_metre_maison.csv')\n",
    "\n",
    "maison_filtre = maison_filtre.merge(valeur_surface, on='Code postal')\n",
    "maison_filtre = maison_filtre.drop(columns=['Prix metre carre_x'])\n",
    "maison_filtre = maison_filtre.rename(columns={'Prix metre carre_y':'Prix metre carre'})\n",
    "\n",
    "# Je test d'éliminer les extrèmes de prix au m²\n",
    "# print(len(maison_filtre))\n",
    "# maison_filtre = drop_extreme(maison_filtre, 'Prix metre carre', 0.05, 0.95)\n",
    "# print(len(maison_filtre))\n",
    "\n",
    "maison_filtre = maison_filtre.drop(columns=['Code postal'])\n",
    "# del(valeur_surface)\n",
    "\n",
    "# print(maison_filtre['Prix metre carre'].min(), maison_filtre['Prix metre carre'].max())\n",
    "# maison_filtre['Prix metre carre'].hist()"
   ]
  },
  {
   "source": [
    "# Analyses et Graphs"
   ],
   "cell_type": "markdown",
   "metadata": {}
  },
  {
   "source": [
    "## Relation de la surface du terrain (Y) avec le prix (X)"
   ],
   "cell_type": "markdown",
   "metadata": {}
  },
  {
   "cell_type": "code",
   "execution_count": 11,
   "metadata": {
    "tags": []
   },
   "outputs": [],
   "source": [
    "# nb_sample = round(0.1*len(maison_filtre))\n",
    "# print('taille du sample : ', nb_sample)\n",
    "# plot = maison_filtre.sample(n=nb_sample).plot.scatter(x='Surface terrain', y='Valeur fonciere', c='DarkBlue', s=1)\n",
    "# del(nb_sample, plot)"
   ]
  },
  {
   "source": [
    "## Relation de la surface (Y) avec le prix (X)"
   ],
   "cell_type": "markdown",
   "metadata": {}
  },
  {
   "cell_type": "code",
   "execution_count": 13,
   "metadata": {},
   "outputs": [],
   "source": [
    "# nb_sample = round(0.1*len(maison_filtre))\n",
    "# print('taille du sample : ', nb_sample)\n",
    "# plot = maison_filtre.sample(n=nb_sample).plot.scatter(x='Surface', y='Valeur fonciere', c='DarkBlue', s=1)\n",
    "# del(nb_sample, plot)\n",
    "# maison_filtre['Surface'].hist(bins=10)"
   ]
  },
  {
   "source": [
    "## Relation du prix au metre (Y) avec le prix (X)"
   ],
   "cell_type": "markdown",
   "metadata": {}
  },
  {
   "cell_type": "code",
   "execution_count": 14,
   "metadata": {},
   "outputs": [],
   "source": [
    "# nb_sample = round(0.1*len(maison_filtre))\n",
    "# print('taille du sample : ', nb_sample)\n",
    "# plot = maison_filtre.sample(n=nb_sample).plot.scatter(x='Prix metre carre', y='Valeur fonciere', c='DarkBlue', s=1)\n",
    "# del(nb_sample, plot)"
   ]
  },
  {
   "cell_type": "code",
   "execution_count": 15,
   "metadata": {},
   "outputs": [],
   "source": [
    "# maison_filtre['Valeur fonciere'].hist(bins=15)"
   ]
  },
  {
   "source": [
    "## Recherche de correlation"
   ],
   "cell_type": "markdown",
   "metadata": {}
  },
  {
   "cell_type": "code",
   "execution_count": 12,
   "metadata": {
    "tags": []
   },
   "outputs": [],
   "source": [
    "# matrice = maison_filtre.corr().round(2)\n",
    "# sns.heatmap(data=matrice, annot=True)\n",
    "# del(matrice)"
   ]
  },
  {
   "cell_type": "code",
   "execution_count": 13,
   "metadata": {},
   "outputs": [
    {
     "output_type": "stream",
     "name": "stdout",
     "text": [
      "156783\n"
     ]
    }
   ],
   "source": [
    "print(len(maison_filtre))\n",
    "csvLoader.save(maison_filtre, 'maison_filtre', save_index=False)"
   ]
  }
 ]
}