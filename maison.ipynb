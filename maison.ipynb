{
 "metadata": {
  "language_info": {
   "codemirror_mode": {
    "name": "ipython",
    "version": 3
   },
   "file_extension": ".py",
   "mimetype": "text/x-python",
   "name": "python",
   "nbconvert_exporter": "python",
   "pygments_lexer": "ipython3",
   "version": "3.6.11-final"
  },
  "orig_nbformat": 2,
  "kernelspec": {
   "name": "Python 3.6.11 64-bit ('immobilier': conda)",
   "display_name": "Python 3.6.11 64-bit ('immobilier': conda)",
   "metadata": {
    "interpreter": {
     "hash": "15519de8fbb6136aa09e019b0b4b08d477217ed268095a8a98a95fc8a7dafa78"
    }
   }
  }
 },
 "nbformat": 4,
 "nbformat_minor": 2,
 "cells": [
  {
   "cell_type": "code",
   "execution_count": 1,
   "metadata": {
    "tags": []
   },
   "outputs": [],
   "source": [
    "import pandas as pd\n",
    "import matplotlib.pyplot as plt\n",
    "import seaborn as sns\n",
    "\n",
    "from modules.csvLoader import csvLoader\n",
    "\n",
    "%load_ext autoreload\n",
    "%autoreload 2"
   ]
  },
  {
   "source": [
    "## Définition de fonctions utiles"
   ],
   "cell_type": "markdown",
   "metadata": {}
  },
  {
   "cell_type": "code",
   "execution_count": 2,
   "metadata": {},
   "outputs": [],
   "source": [
    "def drop_extreme(df, colonne, low_qt, high_qt):\n",
    "    limite_basse, limite_haute = df[colonne].quantile([low_qt, high_qt])\n",
    "    return df.query(\"{low}<=`{colonne}`<={high}\".format(low=limite_basse,high=limite_haute,colonne=colonne))"
   ]
  },
  {
   "source": [
    "## Lecture des csv"
   ],
   "cell_type": "markdown",
   "metadata": {}
  },
  {
   "cell_type": "code",
   "execution_count": 3,
   "metadata": {
    "tags": []
   },
   "outputs": [
    {
     "output_type": "stream",
     "name": "stdout",
     "text": [
      "Successfully loaded  maison.csv\n"
     ]
    }
   ],
   "source": [
    "maison_filtre = csvLoader.load('maison')"
   ]
  },
  {
   "source": [
    "## Observation sur les types de mutation et leur influence sur la valeur de la maison"
   ],
   "cell_type": "markdown",
   "metadata": {}
  },
  {
   "cell_type": "code",
   "execution_count": 4,
   "metadata": {
    "tags": []
   },
   "outputs": [
    {
     "output_type": "stream",
     "name": "stdout",
     "text": [
      "nb  Vente  :\t 489535 \tsoit\t 99.55  % des maisons\n",
      "nb  Vente en l'état  :\t 253 \tsoit\t 0.05  % des maisons\n",
      "nb  Echange  :\t 694 \tsoit\t 0.14  % des maisons\n",
      "nb  Adjudication  :\t 1124 \tsoit\t 0.23  % des maisons\n",
      "nb  Vente terrain à  :\t 132 \tsoit\t 0.03  % des maisons\n",
      "nb  Expropriation  :\t 10 \tsoit\t 0.0  % des maisons\n",
      "\n",
      "Valeur moyenne par type de bien\n",
      "                                    Valeur fonciere\n",
      "Nature mutation                                    \n",
      "Adjudication                           1.427672e+05\n",
      "Echange                                1.791159e+05\n",
      "Expropriation                          1.582530e+05\n",
      "Vente                                  3.727974e+05\n",
      "Vente en l'état futur d'achèvement     2.006223e+06\n",
      "\n",
      "491748\n",
      "489535\n"
     ]
    }
   ],
   "source": [
    "mutations = maison_filtre['Nature mutation'].drop_duplicates().tolist()\n",
    "for mutation in mutations:\n",
    "    df = maison_filtre[maison_filtre['Nature mutation']==mutation]\n",
    "    print('nb ', mutation[:15], ' :\\t', len(df), '\\tsoit\\t', round(len(df)/len(maison_filtre)*100, 2), ' % des maisons' )\n",
    "\n",
    "del(mutation, mutations, df)\n",
    "\n",
    "print()\n",
    "print('Valeur moyenne par type de bien')\n",
    "maison_valeur = maison_filtre[['Nature mutation', 'Valeur fonciere']]\n",
    "print( maison_valeur.groupby(['Nature mutation']).mean().head() )\n",
    "\n",
    "del(maison_valeur)\n",
    "\n",
    "print()\n",
    "print(len(maison_filtre))\n",
    "maison_filtre = maison_filtre[maison_filtre['Nature mutation'] == 'Vente']\n",
    "print(len(maison_filtre))"
   ]
  },
  {
   "source": [
    "## Observation sur les ventes groupées/dupliquées"
   ],
   "cell_type": "markdown",
   "metadata": {}
  },
  {
   "cell_type": "code",
   "execution_count": 5,
   "metadata": {},
   "outputs": [
    {
     "output_type": "stream",
     "name": "stdout",
     "text": [
      "489535\n",
      "310798\n"
     ]
    }
   ],
   "source": [
    "print(len(maison_filtre))\n",
    "maison_filtre = maison_filtre.drop_duplicates(['Date mutation', 'Valeur fonciere', 'Code postal'], keep=False)\n",
    "print(len(maison_filtre))"
   ]
  },
  {
   "source": [
    "## Supression des extremes de nombre de pieces"
   ],
   "cell_type": "markdown",
   "metadata": {}
  },
  {
   "cell_type": "code",
   "execution_count": 6,
   "metadata": {
    "tags": []
   },
   "outputs": [
    {
     "output_type": "stream",
     "name": "stdout",
     "text": [
      "310798\n",
      "268215\n",
      "3  pièces : 63178 \tsoit\t 23.55  % des maisons\n",
      "4  pièces : 103255 \tsoit\t 38.5  % des maisons\n",
      "5  pièces : 73352 \tsoit\t 27.35  % des maisons\n",
      "6  pièces : 28430 \tsoit\t 10.6  % des maisons\n"
     ]
    }
   ],
   "source": [
    "print(len(maison_filtre))\n",
    "maison_filtre = drop_extreme(maison_filtre, 'Nombre pieces principales', 0.1, 0.9)\n",
    "print(len(maison_filtre))\n",
    "\n",
    "nb_pieces = maison_filtre['Nombre pieces principales'].drop_duplicates().tolist()\n",
    "nb_pieces.sort()\n",
    "for piece in nb_pieces:\n",
    "    df = maison_filtre[maison_filtre['Nombre pieces principales']==piece]\n",
    "    print(int(piece), ' pièces :', len(df), '\\tsoit\\t', round(len(df)/len(maison_filtre)*100, 2), ' % des maisons' )\n",
    "\n",
    "del(nb_pieces, df, piece)"
   ]
  },
  {
   "source": [
    "## Filtre sur les colonnes inutiles et concatenation des colonnes 'Surface Carrez' et 'Surface reelle'"
   ],
   "cell_type": "markdown",
   "metadata": {}
  },
  {
   "cell_type": "code",
   "execution_count": 7,
   "metadata": {},
   "outputs": [],
   "source": [
    "maison_filtre = maison_filtre[['Nature mutation', 'Valeur fonciere', 'Code postal', 'Voie', 'Commune', 'Surface Carrez du 1er lot', 'Nombre de lots', 'Type local', 'Surface reelle bati', 'Nombre pieces principales', 'Surface terrain']]\n",
    "\n",
    "import math\n",
    "\n",
    "def set_surface(row):\n",
    "    if not math.isnan(row['Surface Carrez du 1er lot']):\n",
    "        return row['Surface Carrez du 1er lot']\n",
    "    return row['Surface reelle bati']\n",
    "\n",
    "maison_filtre['Surface'] = maison_filtre.apply(set_surface, axis=1)\n",
    "maison_filtre = maison_filtre.drop(columns=['Surface Carrez du 1er lot', 'Surface reelle bati', 'Nombre de lots'])"
   ]
  },
  {
   "source": [
    "## Supression des extremes de Surface"
   ],
   "cell_type": "markdown",
   "metadata": {}
  },
  {
   "cell_type": "code",
   "execution_count": 8,
   "metadata": {
    "tags": []
   },
   "outputs": [
    {
     "output_type": "stream",
     "name": "stdout",
     "text": [
      "268215\n217372\n64.0 140.0\n"
     ]
    }
   ],
   "source": [
    "# maison_filtre[maison_filtre['Surface'] < 140]['Surface'].hist(bins=50)\n",
    "\n",
    "print(len(maison_filtre))\n",
    "maison_filtre = drop_extreme(maison_filtre, 'Surface', 0.1, 0.9)\n",
    "print(len(maison_filtre))\n",
    "print(maison_filtre['Surface'].min(), maison_filtre['Surface'].max())"
   ]
  },
  {
   "source": [
    "## Suppression des extremes de 'Surface terrain'\n",
    "\n",
    "Note: aucune corrrelation notable à retirer, je drop la colonne après filtre"
   ],
   "cell_type": "markdown",
   "metadata": {}
  },
  {
   "cell_type": "code",
   "execution_count": 9,
   "metadata": {
    "tags": []
   },
   "outputs": [
    {
     "output_type": "stream",
     "name": "stdout",
     "text": [
      "217372\n174138\n127.0 960.0\n"
     ]
    }
   ],
   "source": [
    "# maison_filtre[maison_filtre['Surface terrain'] < 960]['Surface terrain'].hist(bins=50)\n",
    "\n",
    "print(len(maison_filtre))\n",
    "maison_filtre = drop_extreme(maison_filtre, 'Surface terrain', 0.1, 0.90)\n",
    "print(len(maison_filtre))\n",
    "print(maison_filtre['Surface terrain'].min(), maison_filtre['Surface terrain'].max())\n",
    "\n",
    "# maison_filtre = maison_filtre.drop(columns=['Surface terrain'])"
   ]
  },
  {
   "source": [
    "## Suppression des extremes de 'Valeur fonciere'"
   ],
   "cell_type": "markdown",
   "metadata": {}
  },
  {
   "cell_type": "code",
   "execution_count": 10,
   "metadata": {
    "tags": []
   },
   "outputs": [
    {
     "output_type": "stream",
     "name": "stdout",
     "text": [
      "174138\n156783\n"
     ]
    }
   ],
   "source": [
    "# maison_filtre[maison_filtre['Valeur fonciere'] < 450000.0]['Valeur fonciere'].hist(bins=50)\n",
    "\n",
    "print(len(maison_filtre))\n",
    "maison_filtre = drop_extreme(maison_filtre, 'Valeur fonciere', 0.05, 0.95)\n",
    "print(len(maison_filtre))\n",
    "# print(maison_filtre['Valeur fonciere'].min(), maison_filtre['Valeur fonciere'].max())"
   ]
  },
  {
   "source": [
    "## Observation du prix au m²"
   ],
   "cell_type": "markdown",
   "metadata": {}
  },
  {
   "cell_type": "code",
   "execution_count": 11,
   "metadata": {},
   "outputs": [],
   "source": [
    "maison_filtre['Prix metre carre'] = maison_filtre['Valeur fonciere']/maison_filtre['Surface']\n",
    "valeur_surface = maison_filtre.groupby('Code postal')['Prix metre carre'].mean()\n",
    "\n",
    "#Generation du csv prix au metre carre\n",
    "csvLoader.save(valeur_surface, 'prix_metre_maison.csv')\n",
    "\n",
    "maison_filtre = maison_filtre.merge(valeur_surface, on='Code postal')\n",
    "maison_filtre = maison_filtre.drop(columns=['Prix metre carre_x'])\n",
    "maison_filtre = maison_filtre.rename(columns={'Prix metre carre_y':'Prix metre carre'})\n",
    "\n",
    "# Je test d'éliminer les extrèmes de prix au m²\n",
    "# print(len(maison_filtre))\n",
    "# maison_filtre = drop_extreme(maison_filtre, 'Prix metre carre', 0.05, 0.95)\n",
    "# print(len(maison_filtre))\n",
    "\n",
    "maison_filtre = maison_filtre.drop(columns=['Code postal'])\n",
    "del(valeur_surface)\n",
    "\n",
    "# print(maison_filtre['Prix metre carre'].min(), maison_filtre['Prix metre carre'].max())\n",
    "# maison_filtre['Prix metre carre'].hist()"
   ]
  },
  {
   "source": [
    "# Analyses et Graphs"
   ],
   "cell_type": "markdown",
   "metadata": {}
  },
  {
   "source": [
    "## Relation de la surface du terrain (Y) avec le prix (X)"
   ],
   "cell_type": "markdown",
   "metadata": {}
  },
  {
   "cell_type": "code",
   "execution_count": 12,
   "metadata": {
    "tags": []
   },
   "outputs": [],
   "source": [
    "# nb_sample = round(0.1*len(maison_filtre))\n",
    "# print('taille du sample : ', nb_sample)\n",
    "# plot = maison_filtre.sample(n=nb_sample).plot.scatter(x='Surface terrain', y='Valeur fonciere', c='DarkBlue', s=1)\n",
    "# del(nb_sample, plot)"
   ]
  },
  {
   "source": [
    "## Relation de la surface (Y) avec le prix (X)"
   ],
   "cell_type": "markdown",
   "metadata": {}
  },
  {
   "cell_type": "code",
   "execution_count": 13,
   "metadata": {},
   "outputs": [],
   "source": [
    "# nb_sample = round(0.1*len(maison_filtre))\n",
    "# print('taille du sample : ', nb_sample)\n",
    "# plot = maison_filtre.sample(n=nb_sample).plot.scatter(x='Surface', y='Valeur fonciere', c='DarkBlue', s=1)\n",
    "# del(nb_sample, plot)\n",
    "# maison_filtre['Surface'].hist(bins=10)"
   ]
  },
  {
   "source": [
    "## Relation du prix au metre (Y) avec le prix (X)"
   ],
   "cell_type": "markdown",
   "metadata": {}
  },
  {
   "cell_type": "code",
   "execution_count": 14,
   "metadata": {},
   "outputs": [],
   "source": [
    "# nb_sample = round(0.1*len(maison_filtre))\n",
    "# print('taille du sample : ', nb_sample)\n",
    "# plot = maison_filtre.sample(n=nb_sample).plot.scatter(x='Prix metre carre', y='Valeur fonciere', c='DarkBlue', s=1)\n",
    "# del(nb_sample, plot)"
   ]
  },
  {
   "cell_type": "code",
   "execution_count": 15,
   "metadata": {},
   "outputs": [],
   "source": [
    "# maison_filtre['Valeur fonciere'].hist(bins=15)"
   ]
  },
  {
   "source": [
    "## Recherche de correlation"
   ],
   "cell_type": "markdown",
   "metadata": {}
  },
  {
   "cell_type": "code",
   "execution_count": 16,
   "metadata": {
    "tags": []
   },
   "outputs": [
    {
     "output_type": "display_data",
     "data": {
      "text/plain": "<Figure size 432x288 with 2 Axes>",
      "image/svg+xml": "<?xml version=\"1.0\" encoding=\"utf-8\" standalone=\"no\"?>\r\n<!DOCTYPE svg PUBLIC \"-//W3C//DTD SVG 1.1//EN\"\r\n  \"http://www.w3.org/Graphics/SVG/1.1/DTD/svg11.dtd\">\r\n<!-- Created with matplotlib (https://matplotlib.org/) -->\r\n<svg height=\"375.332969pt\" version=\"1.1\" viewBox=\"0 0 472.448875 375.332969\" width=\"472.448875pt\" xmlns=\"http://www.w3.org/2000/svg\" xmlns:xlink=\"http://www.w3.org/1999/xlink\">\r\n <metadata>\r\n  <rdf:RDF xmlns:cc=\"http://creativecommons.org/ns#\" xmlns:dc=\"http://purl.org/dc/elements/1.1/\" xmlns:rdf=\"http://www.w3.org/1999/02/22-rdf-syntax-ns#\">\r\n   <cc:Work>\r\n    <dc:type rdf:resource=\"http://purl.org/dc/dcmitype/StillImage\"/>\r\n    <dc:date>2020-10-15T22:53:52.706511</dc:date>\r\n    <dc:format>image/svg+xml</dc:format>\r\n    <dc:creator>\r\n     <cc:Agent>\r\n      <dc:title>Matplotlib v3.3.1, https://matplotlib.org/</dc:title>\r\n     </cc:Agent>\r\n    </dc:creator>\r\n   </cc:Work>\r\n  </rdf:RDF>\r\n </metadata>\r\n <defs>\r\n  <style type=\"text/css\">*{stroke-linecap:butt;stroke-linejoin:round;}</style>\r\n </defs>\r\n <g id=\"figure_1\">\r\n  <g id=\"patch_1\">\r\n   <path d=\"M 0 375.332969 \r\nL 472.448875 375.332969 \r\nL 472.448875 0 \r\nL 0 0 \r\nz\r\n\" style=\"fill:none;\"/>\r\n  </g>\r\n  <g id=\"axes_1\">\r\n   <g id=\"patch_2\">\r\n    <path d=\"M 146.89375 228.439219 \r\nL 414.73375 228.439219 \r\nL 414.73375 10.999219 \r\nL 146.89375 10.999219 \r\nz\r\n\" style=\"fill:#ffffff;\"/>\r\n   </g>\r\n   <g id=\"QuadMesh_1\">\r\n    <path clip-path=\"url(#p05969d3853)\" d=\"M 146.89375 10.999219 \r\nL 200.46175 10.999219 \r\nL 200.46175 54.487219 \r\nL 146.89375 54.487219 \r\nL 146.89375 10.999219 \r\n\" style=\"fill:#faebdd;\"/>\r\n    <path clip-path=\"url(#p05969d3853)\" d=\"M 200.46175 10.999219 \r\nL 254.02975 10.999219 \r\nL 254.02975 54.487219 \r\nL 200.46175 54.487219 \r\nL 200.46175 10.999219 \r\n\" style=\"fill:#641f54;\"/>\r\n    <path clip-path=\"url(#p05969d3853)\" d=\"M 254.02975 10.999219 \r\nL 307.59775 10.999219 \r\nL 307.59775 54.487219 \r\nL 254.02975 54.487219 \r\nL 254.02975 10.999219 \r\n\" style=\"fill:#3f1b43;\"/>\r\n    <path clip-path=\"url(#p05969d3853)\" d=\"M 307.59775 10.999219 \r\nL 361.16575 10.999219 \r\nL 361.16575 54.487219 \r\nL 307.59775 54.487219 \r\nL 307.59775 10.999219 \r\n\" style=\"fill:#861e5b;\"/>\r\n    <path clip-path=\"url(#p05969d3853)\" d=\"M 361.16575 10.999219 \r\nL 414.73375 10.999219 \r\nL 414.73375 54.487219 \r\nL 361.16575 54.487219 \r\nL 361.16575 10.999219 \r\n\" style=\"fill:#f6a178;\"/>\r\n    <path clip-path=\"url(#p05969d3853)\" d=\"M 146.89375 54.487219 \r\nL 200.46175 54.487219 \r\nL 200.46175 97.975219 \r\nL 146.89375 97.975219 \r\nL 146.89375 54.487219 \r\n\" style=\"fill:#641f54;\"/>\r\n    <path clip-path=\"url(#p05969d3853)\" d=\"M 200.46175 54.487219 \r\nL 254.02975 54.487219 \r\nL 254.02975 97.975219 \r\nL 200.46175 97.975219 \r\nL 200.46175 54.487219 \r\n\" style=\"fill:#faebdd;\"/>\r\n    <path clip-path=\"url(#p05969d3853)\" d=\"M 254.02975 54.487219 \r\nL 307.59775 54.487219 \r\nL 307.59775 97.975219 \r\nL 254.02975 97.975219 \r\nL 254.02975 54.487219 \r\n\" style=\"fill:#481c48;\"/>\r\n    <path clip-path=\"url(#p05969d3853)\" d=\"M 307.59775 54.487219 \r\nL 361.16575 54.487219 \r\nL 361.16575 97.975219 \r\nL 307.59775 97.975219 \r\nL 307.59775 54.487219 \r\n\" style=\"fill:#db2946;\"/>\r\n    <path clip-path=\"url(#p05969d3853)\" d=\"M 361.16575 54.487219 \r\nL 414.73375 54.487219 \r\nL 414.73375 97.975219 \r\nL 361.16575 97.975219 \r\nL 361.16575 54.487219 \r\n\" style=\"fill:#37193f;\"/>\r\n    <path clip-path=\"url(#p05969d3853)\" d=\"M 146.89375 97.975219 \r\nL 200.46175 97.975219 \r\nL 200.46175 141.463219 \r\nL 146.89375 141.463219 \r\nL 146.89375 97.975219 \r\n\" style=\"fill:#3f1b43;\"/>\r\n    <path clip-path=\"url(#p05969d3853)\" d=\"M 200.46175 97.975219 \r\nL 254.02975 97.975219 \r\nL 254.02975 141.463219 \r\nL 200.46175 141.463219 \r\nL 200.46175 97.975219 \r\n\" style=\"fill:#481c48;\"/>\r\n    <path clip-path=\"url(#p05969d3853)\" d=\"M 254.02975 97.975219 \r\nL 307.59775 97.975219 \r\nL 307.59775 141.463219 \r\nL 254.02975 141.463219 \r\nL 254.02975 97.975219 \r\n\" style=\"fill:#faebdd;\"/>\r\n    <path clip-path=\"url(#p05969d3853)\" d=\"M 307.59775 97.975219 \r\nL 361.16575 97.975219 \r\nL 361.16575 141.463219 \r\nL 307.59775 141.463219 \r\nL 307.59775 97.975219 \r\n\" style=\"fill:#691f55;\"/>\r\n    <path clip-path=\"url(#p05969d3853)\" d=\"M 361.16575 97.975219 \r\nL 414.73375 97.975219 \r\nL 414.73375 141.463219 \r\nL 361.16575 141.463219 \r\nL 361.16575 97.975219 \r\n\" style=\"fill:#03051a;\"/>\r\n    <path clip-path=\"url(#p05969d3853)\" d=\"M 146.89375 141.463219 \r\nL 200.46175 141.463219 \r\nL 200.46175 184.951219 \r\nL 146.89375 184.951219 \r\nL 146.89375 141.463219 \r\n\" style=\"fill:#861e5b;\"/>\r\n    <path clip-path=\"url(#p05969d3853)\" d=\"M 200.46175 141.463219 \r\nL 254.02975 141.463219 \r\nL 254.02975 184.951219 \r\nL 200.46175 184.951219 \r\nL 200.46175 141.463219 \r\n\" style=\"fill:#db2946;\"/>\r\n    <path clip-path=\"url(#p05969d3853)\" d=\"M 254.02975 141.463219 \r\nL 307.59775 141.463219 \r\nL 307.59775 184.951219 \r\nL 254.02975 184.951219 \r\nL 254.02975 141.463219 \r\n\" style=\"fill:#691f55;\"/>\r\n    <path clip-path=\"url(#p05969d3853)\" d=\"M 307.59775 141.463219 \r\nL 361.16575 141.463219 \r\nL 361.16575 184.951219 \r\nL 307.59775 184.951219 \r\nL 307.59775 141.463219 \r\n\" style=\"fill:#faebdd;\"/>\r\n    <path clip-path=\"url(#p05969d3853)\" d=\"M 361.16575 141.463219 \r\nL 414.73375 141.463219 \r\nL 414.73375 184.951219 \r\nL 361.16575 184.951219 \r\nL 361.16575 141.463219 \r\n\" style=\"fill:#241432;\"/>\r\n    <path clip-path=\"url(#p05969d3853)\" d=\"M 146.89375 184.951219 \r\nL 200.46175 184.951219 \r\nL 200.46175 228.439219 \r\nL 146.89375 228.439219 \r\nL 146.89375 184.951219 \r\n\" style=\"fill:#f6a178;\"/>\r\n    <path clip-path=\"url(#p05969d3853)\" d=\"M 200.46175 184.951219 \r\nL 254.02975 184.951219 \r\nL 254.02975 228.439219 \r\nL 200.46175 228.439219 \r\nL 200.46175 184.951219 \r\n\" style=\"fill:#37193f;\"/>\r\n    <path clip-path=\"url(#p05969d3853)\" d=\"M 254.02975 184.951219 \r\nL 307.59775 184.951219 \r\nL 307.59775 228.439219 \r\nL 254.02975 228.439219 \r\nL 254.02975 184.951219 \r\n\" style=\"fill:#03051a;\"/>\r\n    <path clip-path=\"url(#p05969d3853)\" d=\"M 307.59775 184.951219 \r\nL 361.16575 184.951219 \r\nL 361.16575 228.439219 \r\nL 307.59775 228.439219 \r\nL 307.59775 184.951219 \r\n\" style=\"fill:#241432;\"/>\r\n    <path clip-path=\"url(#p05969d3853)\" d=\"M 361.16575 184.951219 \r\nL 414.73375 184.951219 \r\nL 414.73375 228.439219 \r\nL 361.16575 228.439219 \r\nL 361.16575 184.951219 \r\n\" style=\"fill:#faebdd;\"/>\r\n   </g>\r\n   <g id=\"matplotlib.axis_1\">\r\n    <g id=\"xtick_1\">\r\n     <g id=\"line2d_1\">\r\n      <defs>\r\n       <path d=\"M 0 0 \r\nL 0 3.5 \r\n\" id=\"mde33293be3\" style=\"stroke:#000000;stroke-width:0.8;\"/>\r\n      </defs>\r\n      <g>\r\n       <use style=\"stroke:#000000;stroke-width:0.8;\" x=\"173.67775\" xlink:href=\"#mde33293be3\" y=\"228.439219\"/>\r\n      </g>\r\n     </g>\r\n     <g id=\"text_1\">\r\n      <!-- Valeur fonciere -->\r\n      <g transform=\"translate(176.437125 310.636094)rotate(-90)scale(0.1 -0.1)\">\r\n       <defs>\r\n        <path d=\"M 28.609375 0 \r\nL 0.78125 72.90625 \r\nL 11.078125 72.90625 \r\nL 34.1875 11.53125 \r\nL 57.328125 72.90625 \r\nL 67.578125 72.90625 \r\nL 39.796875 0 \r\nz\r\n\" id=\"DejaVuSans-86\"/>\r\n        <path d=\"M 34.28125 27.484375 \r\nQ 23.390625 27.484375 19.1875 25 \r\nQ 14.984375 22.515625 14.984375 16.5 \r\nQ 14.984375 11.71875 18.140625 8.90625 \r\nQ 21.296875 6.109375 26.703125 6.109375 \r\nQ 34.1875 6.109375 38.703125 11.40625 \r\nQ 43.21875 16.703125 43.21875 25.484375 \r\nL 43.21875 27.484375 \r\nz\r\nM 52.203125 31.203125 \r\nL 52.203125 0 \r\nL 43.21875 0 \r\nL 43.21875 8.296875 \r\nQ 40.140625 3.328125 35.546875 0.953125 \r\nQ 30.953125 -1.421875 24.3125 -1.421875 \r\nQ 15.921875 -1.421875 10.953125 3.296875 \r\nQ 6 8.015625 6 15.921875 \r\nQ 6 25.140625 12.171875 29.828125 \r\nQ 18.359375 34.515625 30.609375 34.515625 \r\nL 43.21875 34.515625 \r\nL 43.21875 35.40625 \r\nQ 43.21875 41.609375 39.140625 45 \r\nQ 35.0625 48.390625 27.6875 48.390625 \r\nQ 23 48.390625 18.546875 47.265625 \r\nQ 14.109375 46.140625 10.015625 43.890625 \r\nL 10.015625 52.203125 \r\nQ 14.9375 54.109375 19.578125 55.046875 \r\nQ 24.21875 56 28.609375 56 \r\nQ 40.484375 56 46.34375 49.84375 \r\nQ 52.203125 43.703125 52.203125 31.203125 \r\nz\r\n\" id=\"DejaVuSans-97\"/>\r\n        <path d=\"M 9.421875 75.984375 \r\nL 18.40625 75.984375 \r\nL 18.40625 0 \r\nL 9.421875 0 \r\nz\r\n\" id=\"DejaVuSans-108\"/>\r\n        <path d=\"M 56.203125 29.59375 \r\nL 56.203125 25.203125 \r\nL 14.890625 25.203125 \r\nQ 15.484375 15.921875 20.484375 11.0625 \r\nQ 25.484375 6.203125 34.421875 6.203125 \r\nQ 39.59375 6.203125 44.453125 7.46875 \r\nQ 49.3125 8.734375 54.109375 11.28125 \r\nL 54.109375 2.78125 \r\nQ 49.265625 0.734375 44.1875 -0.34375 \r\nQ 39.109375 -1.421875 33.890625 -1.421875 \r\nQ 20.796875 -1.421875 13.15625 6.1875 \r\nQ 5.515625 13.8125 5.515625 26.8125 \r\nQ 5.515625 40.234375 12.765625 48.109375 \r\nQ 20.015625 56 32.328125 56 \r\nQ 43.359375 56 49.78125 48.890625 \r\nQ 56.203125 41.796875 56.203125 29.59375 \r\nz\r\nM 47.21875 32.234375 \r\nQ 47.125 39.59375 43.09375 43.984375 \r\nQ 39.0625 48.390625 32.421875 48.390625 \r\nQ 24.90625 48.390625 20.390625 44.140625 \r\nQ 15.875 39.890625 15.1875 32.171875 \r\nz\r\n\" id=\"DejaVuSans-101\"/>\r\n        <path d=\"M 8.5 21.578125 \r\nL 8.5 54.6875 \r\nL 17.484375 54.6875 \r\nL 17.484375 21.921875 \r\nQ 17.484375 14.15625 20.5 10.265625 \r\nQ 23.53125 6.390625 29.59375 6.390625 \r\nQ 36.859375 6.390625 41.078125 11.03125 \r\nQ 45.3125 15.671875 45.3125 23.6875 \r\nL 45.3125 54.6875 \r\nL 54.296875 54.6875 \r\nL 54.296875 0 \r\nL 45.3125 0 \r\nL 45.3125 8.40625 \r\nQ 42.046875 3.421875 37.71875 1 \r\nQ 33.40625 -1.421875 27.6875 -1.421875 \r\nQ 18.265625 -1.421875 13.375 4.4375 \r\nQ 8.5 10.296875 8.5 21.578125 \r\nz\r\nM 31.109375 56 \r\nz\r\n\" id=\"DejaVuSans-117\"/>\r\n        <path d=\"M 41.109375 46.296875 \r\nQ 39.59375 47.171875 37.8125 47.578125 \r\nQ 36.03125 48 33.890625 48 \r\nQ 26.265625 48 22.1875 43.046875 \r\nQ 18.109375 38.09375 18.109375 28.8125 \r\nL 18.109375 0 \r\nL 9.078125 0 \r\nL 9.078125 54.6875 \r\nL 18.109375 54.6875 \r\nL 18.109375 46.1875 \r\nQ 20.953125 51.171875 25.484375 53.578125 \r\nQ 30.03125 56 36.53125 56 \r\nQ 37.453125 56 38.578125 55.875 \r\nQ 39.703125 55.765625 41.0625 55.515625 \r\nz\r\n\" id=\"DejaVuSans-114\"/>\r\n        <path id=\"DejaVuSans-32\"/>\r\n        <path d=\"M 37.109375 75.984375 \r\nL 37.109375 68.5 \r\nL 28.515625 68.5 \r\nQ 23.6875 68.5 21.796875 66.546875 \r\nQ 19.921875 64.59375 19.921875 59.515625 \r\nL 19.921875 54.6875 \r\nL 34.71875 54.6875 \r\nL 34.71875 47.703125 \r\nL 19.921875 47.703125 \r\nL 19.921875 0 \r\nL 10.890625 0 \r\nL 10.890625 47.703125 \r\nL 2.296875 47.703125 \r\nL 2.296875 54.6875 \r\nL 10.890625 54.6875 \r\nL 10.890625 58.5 \r\nQ 10.890625 67.625 15.140625 71.796875 \r\nQ 19.390625 75.984375 28.609375 75.984375 \r\nz\r\n\" id=\"DejaVuSans-102\"/>\r\n        <path d=\"M 30.609375 48.390625 \r\nQ 23.390625 48.390625 19.1875 42.75 \r\nQ 14.984375 37.109375 14.984375 27.296875 \r\nQ 14.984375 17.484375 19.15625 11.84375 \r\nQ 23.34375 6.203125 30.609375 6.203125 \r\nQ 37.796875 6.203125 41.984375 11.859375 \r\nQ 46.1875 17.53125 46.1875 27.296875 \r\nQ 46.1875 37.015625 41.984375 42.703125 \r\nQ 37.796875 48.390625 30.609375 48.390625 \r\nz\r\nM 30.609375 56 \r\nQ 42.328125 56 49.015625 48.375 \r\nQ 55.71875 40.765625 55.71875 27.296875 \r\nQ 55.71875 13.875 49.015625 6.21875 \r\nQ 42.328125 -1.421875 30.609375 -1.421875 \r\nQ 18.84375 -1.421875 12.171875 6.21875 \r\nQ 5.515625 13.875 5.515625 27.296875 \r\nQ 5.515625 40.765625 12.171875 48.375 \r\nQ 18.84375 56 30.609375 56 \r\nz\r\n\" id=\"DejaVuSans-111\"/>\r\n        <path d=\"M 54.890625 33.015625 \r\nL 54.890625 0 \r\nL 45.90625 0 \r\nL 45.90625 32.71875 \r\nQ 45.90625 40.484375 42.875 44.328125 \r\nQ 39.84375 48.1875 33.796875 48.1875 \r\nQ 26.515625 48.1875 22.3125 43.546875 \r\nQ 18.109375 38.921875 18.109375 30.90625 \r\nL 18.109375 0 \r\nL 9.078125 0 \r\nL 9.078125 54.6875 \r\nL 18.109375 54.6875 \r\nL 18.109375 46.1875 \r\nQ 21.34375 51.125 25.703125 53.5625 \r\nQ 30.078125 56 35.796875 56 \r\nQ 45.21875 56 50.046875 50.171875 \r\nQ 54.890625 44.34375 54.890625 33.015625 \r\nz\r\n\" id=\"DejaVuSans-110\"/>\r\n        <path d=\"M 48.78125 52.59375 \r\nL 48.78125 44.1875 \r\nQ 44.96875 46.296875 41.140625 47.34375 \r\nQ 37.3125 48.390625 33.40625 48.390625 \r\nQ 24.65625 48.390625 19.8125 42.84375 \r\nQ 14.984375 37.3125 14.984375 27.296875 \r\nQ 14.984375 17.28125 19.8125 11.734375 \r\nQ 24.65625 6.203125 33.40625 6.203125 \r\nQ 37.3125 6.203125 41.140625 7.25 \r\nQ 44.96875 8.296875 48.78125 10.40625 \r\nL 48.78125 2.09375 \r\nQ 45.015625 0.34375 40.984375 -0.53125 \r\nQ 36.96875 -1.421875 32.421875 -1.421875 \r\nQ 20.0625 -1.421875 12.78125 6.34375 \r\nQ 5.515625 14.109375 5.515625 27.296875 \r\nQ 5.515625 40.671875 12.859375 48.328125 \r\nQ 20.21875 56 33.015625 56 \r\nQ 37.15625 56 41.109375 55.140625 \r\nQ 45.0625 54.296875 48.78125 52.59375 \r\nz\r\n\" id=\"DejaVuSans-99\"/>\r\n        <path d=\"M 9.421875 54.6875 \r\nL 18.40625 54.6875 \r\nL 18.40625 0 \r\nL 9.421875 0 \r\nz\r\nM 9.421875 75.984375 \r\nL 18.40625 75.984375 \r\nL 18.40625 64.59375 \r\nL 9.421875 64.59375 \r\nz\r\n\" id=\"DejaVuSans-105\"/>\r\n       </defs>\r\n       <use xlink:href=\"#DejaVuSans-86\"/>\r\n       <use x=\"60.658203\" xlink:href=\"#DejaVuSans-97\"/>\r\n       <use x=\"121.9375\" xlink:href=\"#DejaVuSans-108\"/>\r\n       <use x=\"149.720703\" xlink:href=\"#DejaVuSans-101\"/>\r\n       <use x=\"211.244141\" xlink:href=\"#DejaVuSans-117\"/>\r\n       <use x=\"274.623047\" xlink:href=\"#DejaVuSans-114\"/>\r\n       <use x=\"315.736328\" xlink:href=\"#DejaVuSans-32\"/>\r\n       <use x=\"347.523438\" xlink:href=\"#DejaVuSans-102\"/>\r\n       <use x=\"382.728516\" xlink:href=\"#DejaVuSans-111\"/>\r\n       <use x=\"443.910156\" xlink:href=\"#DejaVuSans-110\"/>\r\n       <use x=\"507.289062\" xlink:href=\"#DejaVuSans-99\"/>\r\n       <use x=\"562.269531\" xlink:href=\"#DejaVuSans-105\"/>\r\n       <use x=\"590.052734\" xlink:href=\"#DejaVuSans-101\"/>\r\n       <use x=\"651.576172\" xlink:href=\"#DejaVuSans-114\"/>\r\n       <use x=\"690.439453\" xlink:href=\"#DejaVuSans-101\"/>\r\n      </g>\r\n     </g>\r\n    </g>\r\n    <g id=\"xtick_2\">\r\n     <g id=\"line2d_2\">\r\n      <g>\r\n       <use style=\"stroke:#000000;stroke-width:0.8;\" x=\"227.24575\" xlink:href=\"#mde33293be3\" y=\"228.439219\"/>\r\n      </g>\r\n     </g>\r\n     <g id=\"text_2\">\r\n      <!-- Nombre pieces principales -->\r\n      <g transform=\"translate(230.005125 368.132969)rotate(-90)scale(0.1 -0.1)\">\r\n       <defs>\r\n        <path d=\"M 9.8125 72.90625 \r\nL 23.09375 72.90625 \r\nL 55.421875 11.921875 \r\nL 55.421875 72.90625 \r\nL 64.984375 72.90625 \r\nL 64.984375 0 \r\nL 51.703125 0 \r\nL 19.390625 60.984375 \r\nL 19.390625 0 \r\nL 9.8125 0 \r\nz\r\n\" id=\"DejaVuSans-78\"/>\r\n        <path d=\"M 52 44.1875 \r\nQ 55.375 50.25 60.0625 53.125 \r\nQ 64.75 56 71.09375 56 \r\nQ 79.640625 56 84.28125 50.015625 \r\nQ 88.921875 44.046875 88.921875 33.015625 \r\nL 88.921875 0 \r\nL 79.890625 0 \r\nL 79.890625 32.71875 \r\nQ 79.890625 40.578125 77.09375 44.375 \r\nQ 74.3125 48.1875 68.609375 48.1875 \r\nQ 61.625 48.1875 57.5625 43.546875 \r\nQ 53.515625 38.921875 53.515625 30.90625 \r\nL 53.515625 0 \r\nL 44.484375 0 \r\nL 44.484375 32.71875 \r\nQ 44.484375 40.625 41.703125 44.40625 \r\nQ 38.921875 48.1875 33.109375 48.1875 \r\nQ 26.21875 48.1875 22.15625 43.53125 \r\nQ 18.109375 38.875 18.109375 30.90625 \r\nL 18.109375 0 \r\nL 9.078125 0 \r\nL 9.078125 54.6875 \r\nL 18.109375 54.6875 \r\nL 18.109375 46.1875 \r\nQ 21.1875 51.21875 25.484375 53.609375 \r\nQ 29.78125 56 35.6875 56 \r\nQ 41.65625 56 45.828125 52.96875 \r\nQ 50 49.953125 52 44.1875 \r\nz\r\n\" id=\"DejaVuSans-109\"/>\r\n        <path d=\"M 48.6875 27.296875 \r\nQ 48.6875 37.203125 44.609375 42.84375 \r\nQ 40.53125 48.484375 33.40625 48.484375 \r\nQ 26.265625 48.484375 22.1875 42.84375 \r\nQ 18.109375 37.203125 18.109375 27.296875 \r\nQ 18.109375 17.390625 22.1875 11.75 \r\nQ 26.265625 6.109375 33.40625 6.109375 \r\nQ 40.53125 6.109375 44.609375 11.75 \r\nQ 48.6875 17.390625 48.6875 27.296875 \r\nz\r\nM 18.109375 46.390625 \r\nQ 20.953125 51.265625 25.265625 53.625 \r\nQ 29.59375 56 35.59375 56 \r\nQ 45.5625 56 51.78125 48.09375 \r\nQ 58.015625 40.1875 58.015625 27.296875 \r\nQ 58.015625 14.40625 51.78125 6.484375 \r\nQ 45.5625 -1.421875 35.59375 -1.421875 \r\nQ 29.59375 -1.421875 25.265625 0.953125 \r\nQ 20.953125 3.328125 18.109375 8.203125 \r\nL 18.109375 0 \r\nL 9.078125 0 \r\nL 9.078125 75.984375 \r\nL 18.109375 75.984375 \r\nz\r\n\" id=\"DejaVuSans-98\"/>\r\n        <path d=\"M 18.109375 8.203125 \r\nL 18.109375 -20.796875 \r\nL 9.078125 -20.796875 \r\nL 9.078125 54.6875 \r\nL 18.109375 54.6875 \r\nL 18.109375 46.390625 \r\nQ 20.953125 51.265625 25.265625 53.625 \r\nQ 29.59375 56 35.59375 56 \r\nQ 45.5625 56 51.78125 48.09375 \r\nQ 58.015625 40.1875 58.015625 27.296875 \r\nQ 58.015625 14.40625 51.78125 6.484375 \r\nQ 45.5625 -1.421875 35.59375 -1.421875 \r\nQ 29.59375 -1.421875 25.265625 0.953125 \r\nQ 20.953125 3.328125 18.109375 8.203125 \r\nz\r\nM 48.6875 27.296875 \r\nQ 48.6875 37.203125 44.609375 42.84375 \r\nQ 40.53125 48.484375 33.40625 48.484375 \r\nQ 26.265625 48.484375 22.1875 42.84375 \r\nQ 18.109375 37.203125 18.109375 27.296875 \r\nQ 18.109375 17.390625 22.1875 11.75 \r\nQ 26.265625 6.109375 33.40625 6.109375 \r\nQ 40.53125 6.109375 44.609375 11.75 \r\nQ 48.6875 17.390625 48.6875 27.296875 \r\nz\r\n\" id=\"DejaVuSans-112\"/>\r\n        <path d=\"M 44.28125 53.078125 \r\nL 44.28125 44.578125 \r\nQ 40.484375 46.53125 36.375 47.5 \r\nQ 32.28125 48.484375 27.875 48.484375 \r\nQ 21.1875 48.484375 17.84375 46.4375 \r\nQ 14.5 44.390625 14.5 40.28125 \r\nQ 14.5 37.15625 16.890625 35.375 \r\nQ 19.28125 33.59375 26.515625 31.984375 \r\nL 29.59375 31.296875 \r\nQ 39.15625 29.25 43.1875 25.515625 \r\nQ 47.21875 21.78125 47.21875 15.09375 \r\nQ 47.21875 7.46875 41.1875 3.015625 \r\nQ 35.15625 -1.421875 24.609375 -1.421875 \r\nQ 20.21875 -1.421875 15.453125 -0.5625 \r\nQ 10.6875 0.296875 5.421875 2 \r\nL 5.421875 11.28125 \r\nQ 10.40625 8.6875 15.234375 7.390625 \r\nQ 20.0625 6.109375 24.8125 6.109375 \r\nQ 31.15625 6.109375 34.5625 8.28125 \r\nQ 37.984375 10.453125 37.984375 14.40625 \r\nQ 37.984375 18.0625 35.515625 20.015625 \r\nQ 33.0625 21.96875 24.703125 23.78125 \r\nL 21.578125 24.515625 \r\nQ 13.234375 26.265625 9.515625 29.90625 \r\nQ 5.8125 33.546875 5.8125 39.890625 \r\nQ 5.8125 47.609375 11.28125 51.796875 \r\nQ 16.75 56 26.8125 56 \r\nQ 31.78125 56 36.171875 55.265625 \r\nQ 40.578125 54.546875 44.28125 53.078125 \r\nz\r\n\" id=\"DejaVuSans-115\"/>\r\n       </defs>\r\n       <use xlink:href=\"#DejaVuSans-78\"/>\r\n       <use x=\"74.804688\" xlink:href=\"#DejaVuSans-111\"/>\r\n       <use x=\"135.986328\" xlink:href=\"#DejaVuSans-109\"/>\r\n       <use x=\"233.398438\" xlink:href=\"#DejaVuSans-98\"/>\r\n       <use x=\"296.875\" xlink:href=\"#DejaVuSans-114\"/>\r\n       <use x=\"335.738281\" xlink:href=\"#DejaVuSans-101\"/>\r\n       <use x=\"397.261719\" xlink:href=\"#DejaVuSans-32\"/>\r\n       <use x=\"429.048828\" xlink:href=\"#DejaVuSans-112\"/>\r\n       <use x=\"492.525391\" xlink:href=\"#DejaVuSans-105\"/>\r\n       <use x=\"520.308594\" xlink:href=\"#DejaVuSans-101\"/>\r\n       <use x=\"581.832031\" xlink:href=\"#DejaVuSans-99\"/>\r\n       <use x=\"636.8125\" xlink:href=\"#DejaVuSans-101\"/>\r\n       <use x=\"698.335938\" xlink:href=\"#DejaVuSans-115\"/>\r\n       <use x=\"750.435547\" xlink:href=\"#DejaVuSans-32\"/>\r\n       <use x=\"782.222656\" xlink:href=\"#DejaVuSans-112\"/>\r\n       <use x=\"845.699219\" xlink:href=\"#DejaVuSans-114\"/>\r\n       <use x=\"886.8125\" xlink:href=\"#DejaVuSans-105\"/>\r\n       <use x=\"914.595703\" xlink:href=\"#DejaVuSans-110\"/>\r\n       <use x=\"977.974609\" xlink:href=\"#DejaVuSans-99\"/>\r\n       <use x=\"1032.955078\" xlink:href=\"#DejaVuSans-105\"/>\r\n       <use x=\"1060.738281\" xlink:href=\"#DejaVuSans-112\"/>\r\n       <use x=\"1124.214844\" xlink:href=\"#DejaVuSans-97\"/>\r\n       <use x=\"1185.494141\" xlink:href=\"#DejaVuSans-108\"/>\r\n       <use x=\"1213.277344\" xlink:href=\"#DejaVuSans-101\"/>\r\n       <use x=\"1274.800781\" xlink:href=\"#DejaVuSans-115\"/>\r\n      </g>\r\n     </g>\r\n    </g>\r\n    <g id=\"xtick_3\">\r\n     <g id=\"line2d_3\">\r\n      <g>\r\n       <use style=\"stroke:#000000;stroke-width:0.8;\" x=\"280.81375\" xlink:href=\"#mde33293be3\" y=\"228.439219\"/>\r\n      </g>\r\n     </g>\r\n     <g id=\"text_3\">\r\n      <!-- Surface terrain -->\r\n      <g transform=\"translate(283.573125 310.078281)rotate(-90)scale(0.1 -0.1)\">\r\n       <defs>\r\n        <path d=\"M 53.515625 70.515625 \r\nL 53.515625 60.890625 \r\nQ 47.90625 63.578125 42.921875 64.890625 \r\nQ 37.9375 66.21875 33.296875 66.21875 \r\nQ 25.25 66.21875 20.875 63.09375 \r\nQ 16.5 59.96875 16.5 54.203125 \r\nQ 16.5 49.359375 19.40625 46.890625 \r\nQ 22.3125 44.4375 30.421875 42.921875 \r\nL 36.375 41.703125 \r\nQ 47.40625 39.59375 52.65625 34.296875 \r\nQ 57.90625 29 57.90625 20.125 \r\nQ 57.90625 9.515625 50.796875 4.046875 \r\nQ 43.703125 -1.421875 29.984375 -1.421875 \r\nQ 24.8125 -1.421875 18.96875 -0.25 \r\nQ 13.140625 0.921875 6.890625 3.21875 \r\nL 6.890625 13.375 \r\nQ 12.890625 10.015625 18.65625 8.296875 \r\nQ 24.421875 6.59375 29.984375 6.59375 \r\nQ 38.421875 6.59375 43.015625 9.90625 \r\nQ 47.609375 13.234375 47.609375 19.390625 \r\nQ 47.609375 24.75 44.3125 27.78125 \r\nQ 41.015625 30.8125 33.5 32.328125 \r\nL 27.484375 33.5 \r\nQ 16.453125 35.6875 11.515625 40.375 \r\nQ 6.59375 45.0625 6.59375 53.421875 \r\nQ 6.59375 63.09375 13.40625 68.65625 \r\nQ 20.21875 74.21875 32.171875 74.21875 \r\nQ 37.3125 74.21875 42.625 73.28125 \r\nQ 47.953125 72.359375 53.515625 70.515625 \r\nz\r\n\" id=\"DejaVuSans-83\"/>\r\n        <path d=\"M 18.3125 70.21875 \r\nL 18.3125 54.6875 \r\nL 36.8125 54.6875 \r\nL 36.8125 47.703125 \r\nL 18.3125 47.703125 \r\nL 18.3125 18.015625 \r\nQ 18.3125 11.328125 20.140625 9.421875 \r\nQ 21.96875 7.515625 27.59375 7.515625 \r\nL 36.8125 7.515625 \r\nL 36.8125 0 \r\nL 27.59375 0 \r\nQ 17.1875 0 13.234375 3.875 \r\nQ 9.28125 7.765625 9.28125 18.015625 \r\nL 9.28125 47.703125 \r\nL 2.6875 47.703125 \r\nL 2.6875 54.6875 \r\nL 9.28125 54.6875 \r\nL 9.28125 70.21875 \r\nz\r\n\" id=\"DejaVuSans-116\"/>\r\n       </defs>\r\n       <use xlink:href=\"#DejaVuSans-83\"/>\r\n       <use x=\"63.476562\" xlink:href=\"#DejaVuSans-117\"/>\r\n       <use x=\"126.855469\" xlink:href=\"#DejaVuSans-114\"/>\r\n       <use x=\"167.96875\" xlink:href=\"#DejaVuSans-102\"/>\r\n       <use x=\"203.173828\" xlink:href=\"#DejaVuSans-97\"/>\r\n       <use x=\"264.453125\" xlink:href=\"#DejaVuSans-99\"/>\r\n       <use x=\"319.433594\" xlink:href=\"#DejaVuSans-101\"/>\r\n       <use x=\"380.957031\" xlink:href=\"#DejaVuSans-32\"/>\r\n       <use x=\"412.744141\" xlink:href=\"#DejaVuSans-116\"/>\r\n       <use x=\"451.953125\" xlink:href=\"#DejaVuSans-101\"/>\r\n       <use x=\"513.476562\" xlink:href=\"#DejaVuSans-114\"/>\r\n       <use x=\"552.839844\" xlink:href=\"#DejaVuSans-114\"/>\r\n       <use x=\"593.953125\" xlink:href=\"#DejaVuSans-97\"/>\r\n       <use x=\"655.232422\" xlink:href=\"#DejaVuSans-105\"/>\r\n       <use x=\"683.015625\" xlink:href=\"#DejaVuSans-110\"/>\r\n      </g>\r\n     </g>\r\n    </g>\r\n    <g id=\"xtick_4\">\r\n     <g id=\"line2d_4\">\r\n      <g>\r\n       <use style=\"stroke:#000000;stroke-width:0.8;\" x=\"334.38175\" xlink:href=\"#mde33293be3\" y=\"228.439219\"/>\r\n      </g>\r\n     </g>\r\n     <g id=\"text_4\">\r\n      <!-- Surface -->\r\n      <g transform=\"translate(337.141125 273.536094)rotate(-90)scale(0.1 -0.1)\">\r\n       <use xlink:href=\"#DejaVuSans-83\"/>\r\n       <use x=\"63.476562\" xlink:href=\"#DejaVuSans-117\"/>\r\n       <use x=\"126.855469\" xlink:href=\"#DejaVuSans-114\"/>\r\n       <use x=\"167.96875\" xlink:href=\"#DejaVuSans-102\"/>\r\n       <use x=\"203.173828\" xlink:href=\"#DejaVuSans-97\"/>\r\n       <use x=\"264.453125\" xlink:href=\"#DejaVuSans-99\"/>\r\n       <use x=\"319.433594\" xlink:href=\"#DejaVuSans-101\"/>\r\n      </g>\r\n     </g>\r\n    </g>\r\n    <g id=\"xtick_5\">\r\n     <g id=\"line2d_5\">\r\n      <g>\r\n       <use style=\"stroke:#000000;stroke-width:0.8;\" x=\"387.94975\" xlink:href=\"#mde33293be3\" y=\"228.439219\"/>\r\n      </g>\r\n     </g>\r\n     <g id=\"text_5\">\r\n      <!-- Prix metre carre -->\r\n      <g transform=\"translate(390.709125 315.912656)rotate(-90)scale(0.1 -0.1)\">\r\n       <defs>\r\n        <path d=\"M 19.671875 64.796875 \r\nL 19.671875 37.40625 \r\nL 32.078125 37.40625 \r\nQ 38.96875 37.40625 42.71875 40.96875 \r\nQ 46.484375 44.53125 46.484375 51.125 \r\nQ 46.484375 57.671875 42.71875 61.234375 \r\nQ 38.96875 64.796875 32.078125 64.796875 \r\nz\r\nM 9.8125 72.90625 \r\nL 32.078125 72.90625 \r\nQ 44.34375 72.90625 50.609375 67.359375 \r\nQ 56.890625 61.8125 56.890625 51.125 \r\nQ 56.890625 40.328125 50.609375 34.8125 \r\nQ 44.34375 29.296875 32.078125 29.296875 \r\nL 19.671875 29.296875 \r\nL 19.671875 0 \r\nL 9.8125 0 \r\nz\r\n\" id=\"DejaVuSans-80\"/>\r\n        <path d=\"M 54.890625 54.6875 \r\nL 35.109375 28.078125 \r\nL 55.90625 0 \r\nL 45.3125 0 \r\nL 29.390625 21.484375 \r\nL 13.484375 0 \r\nL 2.875 0 \r\nL 24.125 28.609375 \r\nL 4.6875 54.6875 \r\nL 15.28125 54.6875 \r\nL 29.78125 35.203125 \r\nL 44.28125 54.6875 \r\nz\r\n\" id=\"DejaVuSans-120\"/>\r\n       </defs>\r\n       <use xlink:href=\"#DejaVuSans-80\"/>\r\n       <use x=\"58.552734\" xlink:href=\"#DejaVuSans-114\"/>\r\n       <use x=\"99.666016\" xlink:href=\"#DejaVuSans-105\"/>\r\n       <use x=\"127.449219\" xlink:href=\"#DejaVuSans-120\"/>\r\n       <use x=\"186.628906\" xlink:href=\"#DejaVuSans-32\"/>\r\n       <use x=\"218.416016\" xlink:href=\"#DejaVuSans-109\"/>\r\n       <use x=\"315.828125\" xlink:href=\"#DejaVuSans-101\"/>\r\n       <use x=\"377.351562\" xlink:href=\"#DejaVuSans-116\"/>\r\n       <use x=\"416.560547\" xlink:href=\"#DejaVuSans-114\"/>\r\n       <use x=\"455.423828\" xlink:href=\"#DejaVuSans-101\"/>\r\n       <use x=\"516.947266\" xlink:href=\"#DejaVuSans-32\"/>\r\n       <use x=\"548.734375\" xlink:href=\"#DejaVuSans-99\"/>\r\n       <use x=\"603.714844\" xlink:href=\"#DejaVuSans-97\"/>\r\n       <use x=\"664.994141\" xlink:href=\"#DejaVuSans-114\"/>\r\n       <use x=\"704.357422\" xlink:href=\"#DejaVuSans-114\"/>\r\n       <use x=\"743.220703\" xlink:href=\"#DejaVuSans-101\"/>\r\n      </g>\r\n     </g>\r\n    </g>\r\n   </g>\r\n   <g id=\"matplotlib.axis_2\">\r\n    <g id=\"ytick_1\">\r\n     <g id=\"line2d_6\">\r\n      <defs>\r\n       <path d=\"M 0 0 \r\nL -3.5 0 \r\n\" id=\"m22e6b0afbf\" style=\"stroke:#000000;stroke-width:0.8;\"/>\r\n      </defs>\r\n      <g>\r\n       <use style=\"stroke:#000000;stroke-width:0.8;\" x=\"146.89375\" xlink:href=\"#m22e6b0afbf\" y=\"32.743219\"/>\r\n      </g>\r\n     </g>\r\n     <g id=\"text_6\">\r\n      <!-- Valeur fonciere -->\r\n      <g transform=\"translate(64.696875 36.542438)scale(0.1 -0.1)\">\r\n       <use xlink:href=\"#DejaVuSans-86\"/>\r\n       <use x=\"60.658203\" xlink:href=\"#DejaVuSans-97\"/>\r\n       <use x=\"121.9375\" xlink:href=\"#DejaVuSans-108\"/>\r\n       <use x=\"149.720703\" xlink:href=\"#DejaVuSans-101\"/>\r\n       <use x=\"211.244141\" xlink:href=\"#DejaVuSans-117\"/>\r\n       <use x=\"274.623047\" xlink:href=\"#DejaVuSans-114\"/>\r\n       <use x=\"315.736328\" xlink:href=\"#DejaVuSans-32\"/>\r\n       <use x=\"347.523438\" xlink:href=\"#DejaVuSans-102\"/>\r\n       <use x=\"382.728516\" xlink:href=\"#DejaVuSans-111\"/>\r\n       <use x=\"443.910156\" xlink:href=\"#DejaVuSans-110\"/>\r\n       <use x=\"507.289062\" xlink:href=\"#DejaVuSans-99\"/>\r\n       <use x=\"562.269531\" xlink:href=\"#DejaVuSans-105\"/>\r\n       <use x=\"590.052734\" xlink:href=\"#DejaVuSans-101\"/>\r\n       <use x=\"651.576172\" xlink:href=\"#DejaVuSans-114\"/>\r\n       <use x=\"690.439453\" xlink:href=\"#DejaVuSans-101\"/>\r\n      </g>\r\n     </g>\r\n    </g>\r\n    <g id=\"ytick_2\">\r\n     <g id=\"line2d_7\">\r\n      <g>\r\n       <use style=\"stroke:#000000;stroke-width:0.8;\" x=\"146.89375\" xlink:href=\"#m22e6b0afbf\" y=\"76.231219\"/>\r\n      </g>\r\n     </g>\r\n     <g id=\"text_7\">\r\n      <!-- Nombre pieces principales -->\r\n      <g transform=\"translate(7.2 80.030438)scale(0.1 -0.1)\">\r\n       <use xlink:href=\"#DejaVuSans-78\"/>\r\n       <use x=\"74.804688\" xlink:href=\"#DejaVuSans-111\"/>\r\n       <use x=\"135.986328\" xlink:href=\"#DejaVuSans-109\"/>\r\n       <use x=\"233.398438\" xlink:href=\"#DejaVuSans-98\"/>\r\n       <use x=\"296.875\" xlink:href=\"#DejaVuSans-114\"/>\r\n       <use x=\"335.738281\" xlink:href=\"#DejaVuSans-101\"/>\r\n       <use x=\"397.261719\" xlink:href=\"#DejaVuSans-32\"/>\r\n       <use x=\"429.048828\" xlink:href=\"#DejaVuSans-112\"/>\r\n       <use x=\"492.525391\" xlink:href=\"#DejaVuSans-105\"/>\r\n       <use x=\"520.308594\" xlink:href=\"#DejaVuSans-101\"/>\r\n       <use x=\"581.832031\" xlink:href=\"#DejaVuSans-99\"/>\r\n       <use x=\"636.8125\" xlink:href=\"#DejaVuSans-101\"/>\r\n       <use x=\"698.335938\" xlink:href=\"#DejaVuSans-115\"/>\r\n       <use x=\"750.435547\" xlink:href=\"#DejaVuSans-32\"/>\r\n       <use x=\"782.222656\" xlink:href=\"#DejaVuSans-112\"/>\r\n       <use x=\"845.699219\" xlink:href=\"#DejaVuSans-114\"/>\r\n       <use x=\"886.8125\" xlink:href=\"#DejaVuSans-105\"/>\r\n       <use x=\"914.595703\" xlink:href=\"#DejaVuSans-110\"/>\r\n       <use x=\"977.974609\" xlink:href=\"#DejaVuSans-99\"/>\r\n       <use x=\"1032.955078\" xlink:href=\"#DejaVuSans-105\"/>\r\n       <use x=\"1060.738281\" xlink:href=\"#DejaVuSans-112\"/>\r\n       <use x=\"1124.214844\" xlink:href=\"#DejaVuSans-97\"/>\r\n       <use x=\"1185.494141\" xlink:href=\"#DejaVuSans-108\"/>\r\n       <use x=\"1213.277344\" xlink:href=\"#DejaVuSans-101\"/>\r\n       <use x=\"1274.800781\" xlink:href=\"#DejaVuSans-115\"/>\r\n      </g>\r\n     </g>\r\n    </g>\r\n    <g id=\"ytick_3\">\r\n     <g id=\"line2d_8\">\r\n      <g>\r\n       <use style=\"stroke:#000000;stroke-width:0.8;\" x=\"146.89375\" xlink:href=\"#m22e6b0afbf\" y=\"119.719219\"/>\r\n      </g>\r\n     </g>\r\n     <g id=\"text_8\">\r\n      <!-- Surface terrain -->\r\n      <g transform=\"translate(65.254687 123.518438)scale(0.1 -0.1)\">\r\n       <use xlink:href=\"#DejaVuSans-83\"/>\r\n       <use x=\"63.476562\" xlink:href=\"#DejaVuSans-117\"/>\r\n       <use x=\"126.855469\" xlink:href=\"#DejaVuSans-114\"/>\r\n       <use x=\"167.96875\" xlink:href=\"#DejaVuSans-102\"/>\r\n       <use x=\"203.173828\" xlink:href=\"#DejaVuSans-97\"/>\r\n       <use x=\"264.453125\" xlink:href=\"#DejaVuSans-99\"/>\r\n       <use x=\"319.433594\" xlink:href=\"#DejaVuSans-101\"/>\r\n       <use x=\"380.957031\" xlink:href=\"#DejaVuSans-32\"/>\r\n       <use x=\"412.744141\" xlink:href=\"#DejaVuSans-116\"/>\r\n       <use x=\"451.953125\" xlink:href=\"#DejaVuSans-101\"/>\r\n       <use x=\"513.476562\" xlink:href=\"#DejaVuSans-114\"/>\r\n       <use x=\"552.839844\" xlink:href=\"#DejaVuSans-114\"/>\r\n       <use x=\"593.953125\" xlink:href=\"#DejaVuSans-97\"/>\r\n       <use x=\"655.232422\" xlink:href=\"#DejaVuSans-105\"/>\r\n       <use x=\"683.015625\" xlink:href=\"#DejaVuSans-110\"/>\r\n      </g>\r\n     </g>\r\n    </g>\r\n    <g id=\"ytick_4\">\r\n     <g id=\"line2d_9\">\r\n      <g>\r\n       <use style=\"stroke:#000000;stroke-width:0.8;\" x=\"146.89375\" xlink:href=\"#m22e6b0afbf\" y=\"163.207219\"/>\r\n      </g>\r\n     </g>\r\n     <g id=\"text_9\">\r\n      <!-- Surface -->\r\n      <g transform=\"translate(101.796875 167.006438)scale(0.1 -0.1)\">\r\n       <use xlink:href=\"#DejaVuSans-83\"/>\r\n       <use x=\"63.476562\" xlink:href=\"#DejaVuSans-117\"/>\r\n       <use x=\"126.855469\" xlink:href=\"#DejaVuSans-114\"/>\r\n       <use x=\"167.96875\" xlink:href=\"#DejaVuSans-102\"/>\r\n       <use x=\"203.173828\" xlink:href=\"#DejaVuSans-97\"/>\r\n       <use x=\"264.453125\" xlink:href=\"#DejaVuSans-99\"/>\r\n       <use x=\"319.433594\" xlink:href=\"#DejaVuSans-101\"/>\r\n      </g>\r\n     </g>\r\n    </g>\r\n    <g id=\"ytick_5\">\r\n     <g id=\"line2d_10\">\r\n      <g>\r\n       <use style=\"stroke:#000000;stroke-width:0.8;\" x=\"146.89375\" xlink:href=\"#m22e6b0afbf\" y=\"206.695219\"/>\r\n      </g>\r\n     </g>\r\n     <g id=\"text_10\">\r\n      <!-- Prix metre carre -->\r\n      <g transform=\"translate(59.420312 210.494438)scale(0.1 -0.1)\">\r\n       <use xlink:href=\"#DejaVuSans-80\"/>\r\n       <use x=\"58.552734\" xlink:href=\"#DejaVuSans-114\"/>\r\n       <use x=\"99.666016\" xlink:href=\"#DejaVuSans-105\"/>\r\n       <use x=\"127.449219\" xlink:href=\"#DejaVuSans-120\"/>\r\n       <use x=\"186.628906\" xlink:href=\"#DejaVuSans-32\"/>\r\n       <use x=\"218.416016\" xlink:href=\"#DejaVuSans-109\"/>\r\n       <use x=\"315.828125\" xlink:href=\"#DejaVuSans-101\"/>\r\n       <use x=\"377.351562\" xlink:href=\"#DejaVuSans-116\"/>\r\n       <use x=\"416.560547\" xlink:href=\"#DejaVuSans-114\"/>\r\n       <use x=\"455.423828\" xlink:href=\"#DejaVuSans-101\"/>\r\n       <use x=\"516.947266\" xlink:href=\"#DejaVuSans-32\"/>\r\n       <use x=\"548.734375\" xlink:href=\"#DejaVuSans-99\"/>\r\n       <use x=\"603.714844\" xlink:href=\"#DejaVuSans-97\"/>\r\n       <use x=\"664.994141\" xlink:href=\"#DejaVuSans-114\"/>\r\n       <use x=\"704.357422\" xlink:href=\"#DejaVuSans-114\"/>\r\n       <use x=\"743.220703\" xlink:href=\"#DejaVuSans-101\"/>\r\n      </g>\r\n     </g>\r\n    </g>\r\n   </g>\r\n   <g id=\"text_11\">\r\n    <!-- 1 -->\r\n    <g style=\"fill:#262626;\" transform=\"translate(170.4965 35.502594)scale(0.1 -0.1)\">\r\n     <defs>\r\n      <path d=\"M 12.40625 8.296875 \r\nL 28.515625 8.296875 \r\nL 28.515625 63.921875 \r\nL 10.984375 60.40625 \r\nL 10.984375 69.390625 \r\nL 28.421875 72.90625 \r\nL 38.28125 72.90625 \r\nL 38.28125 8.296875 \r\nL 54.390625 8.296875 \r\nL 54.390625 0 \r\nL 12.40625 0 \r\nz\r\n\" id=\"DejaVuSans-49\"/>\r\n     </defs>\r\n     <use xlink:href=\"#DejaVuSans-49\"/>\r\n    </g>\r\n   </g>\r\n   <g id=\"text_12\">\r\n    <!-- 0.15 -->\r\n    <g style=\"fill:#ffffff;\" transform=\"translate(216.112937 35.502594)scale(0.1 -0.1)\">\r\n     <defs>\r\n      <path d=\"M 31.78125 66.40625 \r\nQ 24.171875 66.40625 20.328125 58.90625 \r\nQ 16.5 51.421875 16.5 36.375 \r\nQ 16.5 21.390625 20.328125 13.890625 \r\nQ 24.171875 6.390625 31.78125 6.390625 \r\nQ 39.453125 6.390625 43.28125 13.890625 \r\nQ 47.125 21.390625 47.125 36.375 \r\nQ 47.125 51.421875 43.28125 58.90625 \r\nQ 39.453125 66.40625 31.78125 66.40625 \r\nz\r\nM 31.78125 74.21875 \r\nQ 44.046875 74.21875 50.515625 64.515625 \r\nQ 56.984375 54.828125 56.984375 36.375 \r\nQ 56.984375 17.96875 50.515625 8.265625 \r\nQ 44.046875 -1.421875 31.78125 -1.421875 \r\nQ 19.53125 -1.421875 13.0625 8.265625 \r\nQ 6.59375 17.96875 6.59375 36.375 \r\nQ 6.59375 54.828125 13.0625 64.515625 \r\nQ 19.53125 74.21875 31.78125 74.21875 \r\nz\r\n\" id=\"DejaVuSans-48\"/>\r\n      <path d=\"M 10.6875 12.40625 \r\nL 21 12.40625 \r\nL 21 0 \r\nL 10.6875 0 \r\nz\r\n\" id=\"DejaVuSans-46\"/>\r\n      <path d=\"M 10.796875 72.90625 \r\nL 49.515625 72.90625 \r\nL 49.515625 64.59375 \r\nL 19.828125 64.59375 \r\nL 19.828125 46.734375 \r\nQ 21.96875 47.46875 24.109375 47.828125 \r\nQ 26.265625 48.1875 28.421875 48.1875 \r\nQ 40.625 48.1875 47.75 41.5 \r\nQ 54.890625 34.8125 54.890625 23.390625 \r\nQ 54.890625 11.625 47.5625 5.09375 \r\nQ 40.234375 -1.421875 26.90625 -1.421875 \r\nQ 22.3125 -1.421875 17.546875 -0.640625 \r\nQ 12.796875 0.140625 7.71875 1.703125 \r\nL 7.71875 11.625 \r\nQ 12.109375 9.234375 16.796875 8.0625 \r\nQ 21.484375 6.890625 26.703125 6.890625 \r\nQ 35.15625 6.890625 40.078125 11.328125 \r\nQ 45.015625 15.765625 45.015625 23.390625 \r\nQ 45.015625 31 40.078125 35.4375 \r\nQ 35.15625 39.890625 26.703125 39.890625 \r\nQ 22.75 39.890625 18.8125 39.015625 \r\nQ 14.890625 38.140625 10.796875 36.28125 \r\nz\r\n\" id=\"DejaVuSans-53\"/>\r\n     </defs>\r\n     <use xlink:href=\"#DejaVuSans-48\"/>\r\n     <use x=\"63.623047\" xlink:href=\"#DejaVuSans-46\"/>\r\n     <use x=\"95.410156\" xlink:href=\"#DejaVuSans-49\"/>\r\n     <use x=\"159.033203\" xlink:href=\"#DejaVuSans-53\"/>\r\n    </g>\r\n   </g>\r\n   <g id=\"text_13\">\r\n    <!-- 0.04 -->\r\n    <g style=\"fill:#ffffff;\" transform=\"translate(269.680938 35.502594)scale(0.1 -0.1)\">\r\n     <defs>\r\n      <path d=\"M 37.796875 64.3125 \r\nL 12.890625 25.390625 \r\nL 37.796875 25.390625 \r\nz\r\nM 35.203125 72.90625 \r\nL 47.609375 72.90625 \r\nL 47.609375 25.390625 \r\nL 58.015625 25.390625 \r\nL 58.015625 17.1875 \r\nL 47.609375 17.1875 \r\nL 47.609375 0 \r\nL 37.796875 0 \r\nL 37.796875 17.1875 \r\nL 4.890625 17.1875 \r\nL 4.890625 26.703125 \r\nz\r\n\" id=\"DejaVuSans-52\"/>\r\n     </defs>\r\n     <use xlink:href=\"#DejaVuSans-48\"/>\r\n     <use x=\"63.623047\" xlink:href=\"#DejaVuSans-46\"/>\r\n     <use x=\"95.410156\" xlink:href=\"#DejaVuSans-48\"/>\r\n     <use x=\"159.033203\" xlink:href=\"#DejaVuSans-52\"/>\r\n    </g>\r\n   </g>\r\n   <g id=\"text_14\">\r\n    <!-- 0.24 -->\r\n    <g style=\"fill:#ffffff;\" transform=\"translate(323.248938 35.502594)scale(0.1 -0.1)\">\r\n     <defs>\r\n      <path d=\"M 19.1875 8.296875 \r\nL 53.609375 8.296875 \r\nL 53.609375 0 \r\nL 7.328125 0 \r\nL 7.328125 8.296875 \r\nQ 12.9375 14.109375 22.625 23.890625 \r\nQ 32.328125 33.6875 34.8125 36.53125 \r\nQ 39.546875 41.84375 41.421875 45.53125 \r\nQ 43.3125 49.21875 43.3125 52.78125 \r\nQ 43.3125 58.59375 39.234375 62.25 \r\nQ 35.15625 65.921875 28.609375 65.921875 \r\nQ 23.96875 65.921875 18.8125 64.3125 \r\nQ 13.671875 62.703125 7.8125 59.421875 \r\nL 7.8125 69.390625 \r\nQ 13.765625 71.78125 18.9375 73 \r\nQ 24.125 74.21875 28.421875 74.21875 \r\nQ 39.75 74.21875 46.484375 68.546875 \r\nQ 53.21875 62.890625 53.21875 53.421875 \r\nQ 53.21875 48.921875 51.53125 44.890625 \r\nQ 49.859375 40.875 45.40625 35.40625 \r\nQ 44.1875 33.984375 37.640625 27.21875 \r\nQ 31.109375 20.453125 19.1875 8.296875 \r\nz\r\n\" id=\"DejaVuSans-50\"/>\r\n     </defs>\r\n     <use xlink:href=\"#DejaVuSans-48\"/>\r\n     <use x=\"63.623047\" xlink:href=\"#DejaVuSans-46\"/>\r\n     <use x=\"95.410156\" xlink:href=\"#DejaVuSans-50\"/>\r\n     <use x=\"159.033203\" xlink:href=\"#DejaVuSans-52\"/>\r\n    </g>\r\n   </g>\r\n   <g id=\"text_15\">\r\n    <!-- 0.78 -->\r\n    <g style=\"fill:#262626;\" transform=\"translate(376.816937 35.502594)scale(0.1 -0.1)\">\r\n     <defs>\r\n      <path d=\"M 8.203125 72.90625 \r\nL 55.078125 72.90625 \r\nL 55.078125 68.703125 \r\nL 28.609375 0 \r\nL 18.3125 0 \r\nL 43.21875 64.59375 \r\nL 8.203125 64.59375 \r\nz\r\n\" id=\"DejaVuSans-55\"/>\r\n      <path d=\"M 31.78125 34.625 \r\nQ 24.75 34.625 20.71875 30.859375 \r\nQ 16.703125 27.09375 16.703125 20.515625 \r\nQ 16.703125 13.921875 20.71875 10.15625 \r\nQ 24.75 6.390625 31.78125 6.390625 \r\nQ 38.8125 6.390625 42.859375 10.171875 \r\nQ 46.921875 13.96875 46.921875 20.515625 \r\nQ 46.921875 27.09375 42.890625 30.859375 \r\nQ 38.875 34.625 31.78125 34.625 \r\nz\r\nM 21.921875 38.8125 \r\nQ 15.578125 40.375 12.03125 44.71875 \r\nQ 8.5 49.078125 8.5 55.328125 \r\nQ 8.5 64.0625 14.71875 69.140625 \r\nQ 20.953125 74.21875 31.78125 74.21875 \r\nQ 42.671875 74.21875 48.875 69.140625 \r\nQ 55.078125 64.0625 55.078125 55.328125 \r\nQ 55.078125 49.078125 51.53125 44.71875 \r\nQ 48 40.375 41.703125 38.8125 \r\nQ 48.828125 37.15625 52.796875 32.3125 \r\nQ 56.78125 27.484375 56.78125 20.515625 \r\nQ 56.78125 9.90625 50.3125 4.234375 \r\nQ 43.84375 -1.421875 31.78125 -1.421875 \r\nQ 19.734375 -1.421875 13.25 4.234375 \r\nQ 6.78125 9.90625 6.78125 20.515625 \r\nQ 6.78125 27.484375 10.78125 32.3125 \r\nQ 14.796875 37.15625 21.921875 38.8125 \r\nz\r\nM 18.3125 54.390625 \r\nQ 18.3125 48.734375 21.84375 45.5625 \r\nQ 25.390625 42.390625 31.78125 42.390625 \r\nQ 38.140625 42.390625 41.71875 45.5625 \r\nQ 45.3125 48.734375 45.3125 54.390625 \r\nQ 45.3125 60.0625 41.71875 63.234375 \r\nQ 38.140625 66.40625 31.78125 66.40625 \r\nQ 25.390625 66.40625 21.84375 63.234375 \r\nQ 18.3125 60.0625 18.3125 54.390625 \r\nz\r\n\" id=\"DejaVuSans-56\"/>\r\n     </defs>\r\n     <use xlink:href=\"#DejaVuSans-48\"/>\r\n     <use x=\"63.623047\" xlink:href=\"#DejaVuSans-46\"/>\r\n     <use x=\"95.410156\" xlink:href=\"#DejaVuSans-55\"/>\r\n     <use x=\"159.033203\" xlink:href=\"#DejaVuSans-56\"/>\r\n    </g>\r\n   </g>\r\n   <g id=\"text_16\">\r\n    <!-- 0.15 -->\r\n    <g style=\"fill:#ffffff;\" transform=\"translate(162.544938 78.990594)scale(0.1 -0.1)\">\r\n     <use xlink:href=\"#DejaVuSans-48\"/>\r\n     <use x=\"63.623047\" xlink:href=\"#DejaVuSans-46\"/>\r\n     <use x=\"95.410156\" xlink:href=\"#DejaVuSans-49\"/>\r\n     <use x=\"159.033203\" xlink:href=\"#DejaVuSans-53\"/>\r\n    </g>\r\n   </g>\r\n   <g id=\"text_17\">\r\n    <!-- 1 -->\r\n    <g style=\"fill:#262626;\" transform=\"translate(224.0645 78.990594)scale(0.1 -0.1)\">\r\n     <use xlink:href=\"#DejaVuSans-49\"/>\r\n    </g>\r\n   </g>\r\n   <g id=\"text_18\">\r\n    <!-- 0.07 -->\r\n    <g style=\"fill:#ffffff;\" transform=\"translate(269.680938 78.990594)scale(0.1 -0.1)\">\r\n     <use xlink:href=\"#DejaVuSans-48\"/>\r\n     <use x=\"63.623047\" xlink:href=\"#DejaVuSans-46\"/>\r\n     <use x=\"95.410156\" xlink:href=\"#DejaVuSans-48\"/>\r\n     <use x=\"159.033203\" xlink:href=\"#DejaVuSans-55\"/>\r\n    </g>\r\n   </g>\r\n   <g id=\"text_19\">\r\n    <!-- 0.48 -->\r\n    <g style=\"fill:#ffffff;\" transform=\"translate(323.248938 78.990594)scale(0.1 -0.1)\">\r\n     <use xlink:href=\"#DejaVuSans-48\"/>\r\n     <use x=\"63.623047\" xlink:href=\"#DejaVuSans-46\"/>\r\n     <use x=\"95.410156\" xlink:href=\"#DejaVuSans-52\"/>\r\n     <use x=\"159.033203\" xlink:href=\"#DejaVuSans-56\"/>\r\n    </g>\r\n   </g>\r\n   <g id=\"text_20\">\r\n    <!-- 0.02 -->\r\n    <g style=\"fill:#ffffff;\" transform=\"translate(376.816937 78.990594)scale(0.1 -0.1)\">\r\n     <use xlink:href=\"#DejaVuSans-48\"/>\r\n     <use x=\"63.623047\" xlink:href=\"#DejaVuSans-46\"/>\r\n     <use x=\"95.410156\" xlink:href=\"#DejaVuSans-48\"/>\r\n     <use x=\"159.033203\" xlink:href=\"#DejaVuSans-50\"/>\r\n    </g>\r\n   </g>\r\n   <g id=\"text_21\">\r\n    <!-- 0.04 -->\r\n    <g style=\"fill:#ffffff;\" transform=\"translate(162.544938 122.478594)scale(0.1 -0.1)\">\r\n     <use xlink:href=\"#DejaVuSans-48\"/>\r\n     <use x=\"63.623047\" xlink:href=\"#DejaVuSans-46\"/>\r\n     <use x=\"95.410156\" xlink:href=\"#DejaVuSans-48\"/>\r\n     <use x=\"159.033203\" xlink:href=\"#DejaVuSans-52\"/>\r\n    </g>\r\n   </g>\r\n   <g id=\"text_22\">\r\n    <!-- 0.07 -->\r\n    <g style=\"fill:#ffffff;\" transform=\"translate(216.112937 122.478594)scale(0.1 -0.1)\">\r\n     <use xlink:href=\"#DejaVuSans-48\"/>\r\n     <use x=\"63.623047\" xlink:href=\"#DejaVuSans-46\"/>\r\n     <use x=\"95.410156\" xlink:href=\"#DejaVuSans-48\"/>\r\n     <use x=\"159.033203\" xlink:href=\"#DejaVuSans-55\"/>\r\n    </g>\r\n   </g>\r\n   <g id=\"text_23\">\r\n    <!-- 1 -->\r\n    <g style=\"fill:#262626;\" transform=\"translate(277.6325 122.478594)scale(0.1 -0.1)\">\r\n     <use xlink:href=\"#DejaVuSans-49\"/>\r\n    </g>\r\n   </g>\r\n   <g id=\"text_24\">\r\n    <!-- 0.16 -->\r\n    <g style=\"fill:#ffffff;\" transform=\"translate(323.248938 122.478594)scale(0.1 -0.1)\">\r\n     <defs>\r\n      <path d=\"M 33.015625 40.375 \r\nQ 26.375 40.375 22.484375 35.828125 \r\nQ 18.609375 31.296875 18.609375 23.390625 \r\nQ 18.609375 15.53125 22.484375 10.953125 \r\nQ 26.375 6.390625 33.015625 6.390625 \r\nQ 39.65625 6.390625 43.53125 10.953125 \r\nQ 47.40625 15.53125 47.40625 23.390625 \r\nQ 47.40625 31.296875 43.53125 35.828125 \r\nQ 39.65625 40.375 33.015625 40.375 \r\nz\r\nM 52.59375 71.296875 \r\nL 52.59375 62.3125 \r\nQ 48.875 64.0625 45.09375 64.984375 \r\nQ 41.3125 65.921875 37.59375 65.921875 \r\nQ 27.828125 65.921875 22.671875 59.328125 \r\nQ 17.53125 52.734375 16.796875 39.40625 \r\nQ 19.671875 43.65625 24.015625 45.921875 \r\nQ 28.375 48.1875 33.59375 48.1875 \r\nQ 44.578125 48.1875 50.953125 41.515625 \r\nQ 57.328125 34.859375 57.328125 23.390625 \r\nQ 57.328125 12.15625 50.6875 5.359375 \r\nQ 44.046875 -1.421875 33.015625 -1.421875 \r\nQ 20.359375 -1.421875 13.671875 8.265625 \r\nQ 6.984375 17.96875 6.984375 36.375 \r\nQ 6.984375 53.65625 15.1875 63.9375 \r\nQ 23.390625 74.21875 37.203125 74.21875 \r\nQ 40.921875 74.21875 44.703125 73.484375 \r\nQ 48.484375 72.75 52.59375 71.296875 \r\nz\r\n\" id=\"DejaVuSans-54\"/>\r\n     </defs>\r\n     <use xlink:href=\"#DejaVuSans-48\"/>\r\n     <use x=\"63.623047\" xlink:href=\"#DejaVuSans-46\"/>\r\n     <use x=\"95.410156\" xlink:href=\"#DejaVuSans-49\"/>\r\n     <use x=\"159.033203\" xlink:href=\"#DejaVuSans-54\"/>\r\n    </g>\r\n   </g>\r\n   <g id=\"text_25\">\r\n    <!-- -0.15 -->\r\n    <g style=\"fill:#ffffff;\" transform=\"translate(375.013031 122.478594)scale(0.1 -0.1)\">\r\n     <defs>\r\n      <path d=\"M 4.890625 31.390625 \r\nL 31.203125 31.390625 \r\nL 31.203125 23.390625 \r\nL 4.890625 23.390625 \r\nz\r\n\" id=\"DejaVuSans-45\"/>\r\n     </defs>\r\n     <use xlink:href=\"#DejaVuSans-45\"/>\r\n     <use x=\"36.083984\" xlink:href=\"#DejaVuSans-48\"/>\r\n     <use x=\"99.707031\" xlink:href=\"#DejaVuSans-46\"/>\r\n     <use x=\"131.494141\" xlink:href=\"#DejaVuSans-49\"/>\r\n     <use x=\"195.117188\" xlink:href=\"#DejaVuSans-53\"/>\r\n    </g>\r\n   </g>\r\n   <g id=\"text_26\">\r\n    <!-- 0.24 -->\r\n    <g style=\"fill:#ffffff;\" transform=\"translate(162.544938 165.966594)scale(0.1 -0.1)\">\r\n     <use xlink:href=\"#DejaVuSans-48\"/>\r\n     <use x=\"63.623047\" xlink:href=\"#DejaVuSans-46\"/>\r\n     <use x=\"95.410156\" xlink:href=\"#DejaVuSans-50\"/>\r\n     <use x=\"159.033203\" xlink:href=\"#DejaVuSans-52\"/>\r\n    </g>\r\n   </g>\r\n   <g id=\"text_27\">\r\n    <!-- 0.48 -->\r\n    <g style=\"fill:#ffffff;\" transform=\"translate(216.112937 165.966594)scale(0.1 -0.1)\">\r\n     <use xlink:href=\"#DejaVuSans-48\"/>\r\n     <use x=\"63.623047\" xlink:href=\"#DejaVuSans-46\"/>\r\n     <use x=\"95.410156\" xlink:href=\"#DejaVuSans-52\"/>\r\n     <use x=\"159.033203\" xlink:href=\"#DejaVuSans-56\"/>\r\n    </g>\r\n   </g>\r\n   <g id=\"text_28\">\r\n    <!-- 0.16 -->\r\n    <g style=\"fill:#ffffff;\" transform=\"translate(269.680938 165.966594)scale(0.1 -0.1)\">\r\n     <use xlink:href=\"#DejaVuSans-48\"/>\r\n     <use x=\"63.623047\" xlink:href=\"#DejaVuSans-46\"/>\r\n     <use x=\"95.410156\" xlink:href=\"#DejaVuSans-49\"/>\r\n     <use x=\"159.033203\" xlink:href=\"#DejaVuSans-54\"/>\r\n    </g>\r\n   </g>\r\n   <g id=\"text_29\">\r\n    <!-- 1 -->\r\n    <g style=\"fill:#262626;\" transform=\"translate(331.2005 165.966594)scale(0.1 -0.1)\">\r\n     <use xlink:href=\"#DejaVuSans-49\"/>\r\n    </g>\r\n   </g>\r\n   <g id=\"text_30\">\r\n    <!-- -0.04 -->\r\n    <g style=\"fill:#ffffff;\" transform=\"translate(375.013031 165.966594)scale(0.1 -0.1)\">\r\n     <use xlink:href=\"#DejaVuSans-45\"/>\r\n     <use x=\"36.083984\" xlink:href=\"#DejaVuSans-48\"/>\r\n     <use x=\"99.707031\" xlink:href=\"#DejaVuSans-46\"/>\r\n     <use x=\"131.494141\" xlink:href=\"#DejaVuSans-48\"/>\r\n     <use x=\"195.117188\" xlink:href=\"#DejaVuSans-52\"/>\r\n    </g>\r\n   </g>\r\n   <g id=\"text_31\">\r\n    <!-- 0.78 -->\r\n    <g style=\"fill:#262626;\" transform=\"translate(162.544938 209.454594)scale(0.1 -0.1)\">\r\n     <use xlink:href=\"#DejaVuSans-48\"/>\r\n     <use x=\"63.623047\" xlink:href=\"#DejaVuSans-46\"/>\r\n     <use x=\"95.410156\" xlink:href=\"#DejaVuSans-55\"/>\r\n     <use x=\"159.033203\" xlink:href=\"#DejaVuSans-56\"/>\r\n    </g>\r\n   </g>\r\n   <g id=\"text_32\">\r\n    <!-- 0.02 -->\r\n    <g style=\"fill:#ffffff;\" transform=\"translate(216.112937 209.454594)scale(0.1 -0.1)\">\r\n     <use xlink:href=\"#DejaVuSans-48\"/>\r\n     <use x=\"63.623047\" xlink:href=\"#DejaVuSans-46\"/>\r\n     <use x=\"95.410156\" xlink:href=\"#DejaVuSans-48\"/>\r\n     <use x=\"159.033203\" xlink:href=\"#DejaVuSans-50\"/>\r\n    </g>\r\n   </g>\r\n   <g id=\"text_33\">\r\n    <!-- -0.15 -->\r\n    <g style=\"fill:#ffffff;\" transform=\"translate(267.877031 209.454594)scale(0.1 -0.1)\">\r\n     <use xlink:href=\"#DejaVuSans-45\"/>\r\n     <use x=\"36.083984\" xlink:href=\"#DejaVuSans-48\"/>\r\n     <use x=\"99.707031\" xlink:href=\"#DejaVuSans-46\"/>\r\n     <use x=\"131.494141\" xlink:href=\"#DejaVuSans-49\"/>\r\n     <use x=\"195.117188\" xlink:href=\"#DejaVuSans-53\"/>\r\n    </g>\r\n   </g>\r\n   <g id=\"text_34\">\r\n    <!-- -0.04 -->\r\n    <g style=\"fill:#ffffff;\" transform=\"translate(321.445031 209.454594)scale(0.1 -0.1)\">\r\n     <use xlink:href=\"#DejaVuSans-45\"/>\r\n     <use x=\"36.083984\" xlink:href=\"#DejaVuSans-48\"/>\r\n     <use x=\"99.707031\" xlink:href=\"#DejaVuSans-46\"/>\r\n     <use x=\"131.494141\" xlink:href=\"#DejaVuSans-48\"/>\r\n     <use x=\"195.117188\" xlink:href=\"#DejaVuSans-52\"/>\r\n    </g>\r\n   </g>\r\n   <g id=\"text_35\">\r\n    <!-- 1 -->\r\n    <g style=\"fill:#262626;\" transform=\"translate(384.7685 209.454594)scale(0.1 -0.1)\">\r\n     <use xlink:href=\"#DejaVuSans-49\"/>\r\n    </g>\r\n   </g>\r\n  </g>\r\n  <g id=\"axes_2\">\r\n   <g id=\"patch_3\">\r\n    <path clip-path=\"url(#pbea95e9db8)\" d=\"M 431.47375 228.439219 \r\nL 431.47375 227.589844 \r\nL 431.47375 11.848594 \r\nL 431.47375 10.999219 \r\nL 442.34575 10.999219 \r\nL 442.34575 11.848594 \r\nL 442.34575 227.589844 \r\nL 442.34575 228.439219 \r\nz\r\n\" style=\"fill:#ffffff;stroke:#ffffff;stroke-linejoin:miter;stroke-width:0.01;\"/>\r\n   </g>\r\n   <image height=\"217\" id=\"image6d2fc2dad6\" transform=\"scale(1 -1)translate(0 -217)\" width=\"11\" x=\"431\" xlink:href=\"data:image/png;base64,\r\niVBORw0KGgoAAAANSUhEUgAAAAsAAADZCAYAAAD2WsoCAAABYUlEQVR4nNXa0W1DMQxDUctSl+j+czZdweeDgOJvgbgiZcfPSM3P7+c8rqmq11otPlDc94aUb6zBKxikTG7kMJb43JVzY8XUUYPBUHYoJ+OOuRHDmEOz8b6SsxGLGzHeV/Lkl+KJDZK5EYubMHrH8Oes65h1OKIpZYz7+5gJw3a3KFuDz58HX+uGFIsbOYzZgWFxC/MQxhI3YhjzeZcO7sG7A4PcqJNixgYBo41ZisHooHUFZ8G0FF8pJgxUfq5VN+CUSTZoGM+1Z27/QbExAwZZF3RjwA2bOmIOWgfKF+49c3KzkSuGe4889iAGKsPN3JThXjBHMHLMhgE/m6gsTxakjMXyJhNz48izYc6NEjdOdwiDQsn5XBNrMBi3KNMehE/eqBuSYA6D3LCzjhJMWYe7O4aRa5CUm4Z/B/MXulG1Y+qoQQtFGtwRd/VPSDk5/OKzxE3/stjSoMUdO+tSDf4DqMQrIz8AaToAAAAASUVORK5CYII=\" y=\"-11\"/>\r\n   <g id=\"matplotlib.axis_3\"/>\r\n   <g id=\"matplotlib.axis_4\">\r\n    <g id=\"ytick_6\">\r\n     <g id=\"line2d_11\">\r\n      <defs>\r\n       <path d=\"M 0 0 \r\nL 3.5 0 \r\n\" id=\"m66e2cdd43a\" style=\"stroke:#000000;stroke-width:0.8;\"/>\r\n      </defs>\r\n      <g>\r\n       <use style=\"stroke:#000000;stroke-width:0.8;\" x=\"442.34575\" xlink:href=\"#m66e2cdd43a\" y=\"200.07748\"/>\r\n      </g>\r\n     </g>\r\n     <g id=\"text_36\">\r\n      <!-- 0.0 -->\r\n      <g transform=\"translate(449.34575 203.876698)scale(0.1 -0.1)\">\r\n       <use xlink:href=\"#DejaVuSans-48\"/>\r\n       <use x=\"63.623047\" xlink:href=\"#DejaVuSans-46\"/>\r\n       <use x=\"95.410156\" xlink:href=\"#DejaVuSans-48\"/>\r\n      </g>\r\n     </g>\r\n    </g>\r\n    <g id=\"ytick_7\">\r\n     <g id=\"line2d_12\">\r\n      <g>\r\n       <use style=\"stroke:#000000;stroke-width:0.8;\" x=\"442.34575\" xlink:href=\"#m66e2cdd43a\" y=\"162.261827\"/>\r\n      </g>\r\n     </g>\r\n     <g id=\"text_37\">\r\n      <!-- 0.2 -->\r\n      <g transform=\"translate(449.34575 166.061046)scale(0.1 -0.1)\">\r\n       <use xlink:href=\"#DejaVuSans-48\"/>\r\n       <use x=\"63.623047\" xlink:href=\"#DejaVuSans-46\"/>\r\n       <use x=\"95.410156\" xlink:href=\"#DejaVuSans-50\"/>\r\n      </g>\r\n     </g>\r\n    </g>\r\n    <g id=\"ytick_8\">\r\n     <g id=\"line2d_13\">\r\n      <g>\r\n       <use style=\"stroke:#000000;stroke-width:0.8;\" x=\"442.34575\" xlink:href=\"#m66e2cdd43a\" y=\"124.446175\"/>\r\n      </g>\r\n     </g>\r\n     <g id=\"text_38\">\r\n      <!-- 0.4 -->\r\n      <g transform=\"translate(449.34575 128.245394)scale(0.1 -0.1)\">\r\n       <use xlink:href=\"#DejaVuSans-48\"/>\r\n       <use x=\"63.623047\" xlink:href=\"#DejaVuSans-46\"/>\r\n       <use x=\"95.410156\" xlink:href=\"#DejaVuSans-52\"/>\r\n      </g>\r\n     </g>\r\n    </g>\r\n    <g id=\"ytick_9\">\r\n     <g id=\"line2d_14\">\r\n      <g>\r\n       <use style=\"stroke:#000000;stroke-width:0.8;\" x=\"442.34575\" xlink:href=\"#m66e2cdd43a\" y=\"86.630523\"/>\r\n      </g>\r\n     </g>\r\n     <g id=\"text_39\">\r\n      <!-- 0.6 -->\r\n      <g transform=\"translate(449.34575 90.429742)scale(0.1 -0.1)\">\r\n       <use xlink:href=\"#DejaVuSans-48\"/>\r\n       <use x=\"63.623047\" xlink:href=\"#DejaVuSans-46\"/>\r\n       <use x=\"95.410156\" xlink:href=\"#DejaVuSans-54\"/>\r\n      </g>\r\n     </g>\r\n    </g>\r\n    <g id=\"ytick_10\">\r\n     <g id=\"line2d_15\">\r\n      <g>\r\n       <use style=\"stroke:#000000;stroke-width:0.8;\" x=\"442.34575\" xlink:href=\"#m66e2cdd43a\" y=\"48.814871\"/>\r\n      </g>\r\n     </g>\r\n     <g id=\"text_40\">\r\n      <!-- 0.8 -->\r\n      <g transform=\"translate(449.34575 52.61409)scale(0.1 -0.1)\">\r\n       <use xlink:href=\"#DejaVuSans-48\"/>\r\n       <use x=\"63.623047\" xlink:href=\"#DejaVuSans-46\"/>\r\n       <use x=\"95.410156\" xlink:href=\"#DejaVuSans-56\"/>\r\n      </g>\r\n     </g>\r\n    </g>\r\n    <g id=\"ytick_11\">\r\n     <g id=\"line2d_16\">\r\n      <g>\r\n       <use style=\"stroke:#000000;stroke-width:0.8;\" x=\"442.34575\" xlink:href=\"#m66e2cdd43a\" y=\"10.999219\"/>\r\n      </g>\r\n     </g>\r\n     <g id=\"text_41\">\r\n      <!-- 1.0 -->\r\n      <g transform=\"translate(449.34575 14.798438)scale(0.1 -0.1)\">\r\n       <use xlink:href=\"#DejaVuSans-49\"/>\r\n       <use x=\"63.623047\" xlink:href=\"#DejaVuSans-46\"/>\r\n       <use x=\"95.410156\" xlink:href=\"#DejaVuSans-48\"/>\r\n      </g>\r\n     </g>\r\n    </g>\r\n   </g>\r\n   <g id=\"patch_4\">\r\n    <path d=\"M 431.47375 228.439219 \r\nL 431.47375 227.589844 \r\nL 431.47375 11.848594 \r\nL 431.47375 10.999219 \r\nL 442.34575 10.999219 \r\nL 442.34575 11.848594 \r\nL 442.34575 227.589844 \r\nL 442.34575 228.439219 \r\nz\r\n\" style=\"fill:none;\"/>\r\n   </g>\r\n  </g>\r\n </g>\r\n <defs>\r\n  <clipPath id=\"p05969d3853\">\r\n   <rect height=\"217.44\" width=\"267.84\" x=\"146.89375\" y=\"10.999219\"/>\r\n  </clipPath>\r\n  <clipPath id=\"pbea95e9db8\">\r\n   <rect height=\"217.44\" width=\"10.872\" x=\"431.47375\" y=\"10.999219\"/>\r\n  </clipPath>\r\n </defs>\r\n</svg>\r\n",
      "image/png": "[encoded data removed]"
     },
     "metadata": {
      "needs_background": "light"
     }
    }
   ],
   "source": [
    "matrice = maison_filtre.corr().round(2)\n",
    "sns.heatmap(data=matrice, annot=True)\n",
    "del(matrice)"
   ]
  },
  {
   "cell_type": "code",
   "execution_count": 17,
   "metadata": {},
   "outputs": [
    {
     "output_type": "stream",
     "name": "stdout",
     "text": [
      "156783\n"
     ]
    }
   ],
   "source": [
    "print(len(maison_filtre))\n",
    "csvLoader.save(maison_filtre, 'maison_filtre', save_index=False)"
   ]
  }
 ]
}