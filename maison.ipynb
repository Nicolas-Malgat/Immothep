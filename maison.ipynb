{
 "metadata": {
  "language_info": {
   "codemirror_mode": {
    "name": "ipython",
    "version": 3
   },
   "file_extension": ".py",
   "mimetype": "text/x-python",
   "name": "python",
   "nbconvert_exporter": "python",
   "pygments_lexer": "ipython3",
   "version": "3.6.11-final"
  },
  "orig_nbformat": 2,
  "kernelspec": {
   "name": "Python 3.6.11 64-bit",
   "display_name": "Python 3.6.11 64-bit",
   "metadata": {
    "interpreter": {
     "hash": "15519de8fbb6136aa09e019b0b4b08d477217ed268095a8a98a95fc8a7dafa78"
    }
   }
  }
 },
 "nbformat": 4,
 "nbformat_minor": 2,
 "cells": [
  {
   "cell_type": "code",
   "execution_count": 6,
   "metadata": {
    "tags": []
   },
   "outputs": [
    {
     "output_type": "stream",
     "name": "stdout",
     "text": "The autoreload extension is already loaded. To reload it, use:\n  %reload_ext autoreload\n"
    }
   ],
   "source": [
    "import pandas as pd\n",
    "import matplotlib.pyplot as plt\n",
    "\n",
    "from modules.loader import ImmothepDataLoader\n",
    "loader = ImmothepDataLoader()\n",
    "del(ImmothepDataLoader)\n",
    "\n",
    "from modules.csvLoader import csvLoader\n",
    "\n",
    "DATASET_PATH = '../datas/RAW/'\n",
    "\n",
    "%load_ext autoreload\n",
    "%autoreload 2"
   ]
  },
  {
   "source": [
    "## Lecture des csv"
   ],
   "cell_type": "markdown",
   "metadata": {}
  },
  {
   "cell_type": "code",
   "execution_count": 7,
   "metadata": {
    "tags": []
   },
   "outputs": [
    {
     "output_type": "stream",
     "name": "stdout",
     "text": "Successfully loaded  maison_filtre.csv\n"
    }
   ],
   "source": [
    "maison_filtre = csvLoader.load('maison_filtre')"
   ]
  },
  {
   "source": [
    "## Observation sur les types de mutation et leur influence sur la valeur de la maison\n",
    "```\n",
    "nb vente :\t 489535 \tsoit\t 100  % des maisons\n",
    "nb vente_achevement :\t 253 \tsoit\t 0.1  % des maisons\n",
    "nb echange :\t    694 \tsoit\t 0.1  % des maisons\n",
    "nb adjudication :\t 1124 \tsoit\t 0.2  % des maisons\n",
    "nb vente_terrain :\t 132 \tsoit\t 0.0  % des maisons\n",
    "nb expropriation :\t 10 \tsoit\t 0.0  % des maisons\n",
    "```"
   ],
   "cell_type": "markdown",
   "metadata": {}
  },
  {
   "cell_type": "code",
   "execution_count": 8,
   "metadata": {
    "tags": []
   },
   "outputs": [
    {
     "output_type": "stream",
     "name": "stdout",
     "text": "nb vente :\t 489535 \tsoit\t 100  % des maisons\nnb vente_achevement :\t 253 \tsoit\t 0.1  % des maisons\nnb echange :\t 694 \tsoit\t 0.1  % des maisons\nnb adjudication :\t 1124 \tsoit\t 0.2  % des maisons\nnb vente_terrain :\t 132 \tsoit\t 0.0  % des maisons\nnb expropriation :\t 10 \tsoit\t 0.0  % des maisons\n\n"
    }
   ],
   "source": [
    "vente = maison_filtre[maison_filtre['Nature mutation'] == 'Vente']\n",
    "vente_achevement = maison_filtre[maison_filtre['Nature mutation'] == \"Vente en l'état futur d'achèvement\"]\n",
    "echange = maison_filtre[maison_filtre['Nature mutation'] == \"Echange\"]\n",
    "adjudication = maison_filtre[maison_filtre['Nature mutation'] == \"Adjudication\"]\n",
    "vente_terrain = maison_filtre[maison_filtre['Nature mutation'] == \"Vente terrain à bâtir\"]\n",
    "expropriation = maison_filtre[maison_filtre['Nature mutation'] == \"Expropriation\"]\n",
    "\n",
    "print('nb vente :\\t', len(vente), '\\tsoit\\t', round(len(vente)/len(maison_filtre)*100), ' % des maisons' )\n",
    "print('nb vente_achevement :\\t', len(vente_achevement), '\\tsoit\\t', round(len(vente_achevement)/len(maison_filtre)*100, 1), ' % des maisons' )\n",
    "print('nb echange :\\t', len(echange), '\\tsoit\\t', round(len(echange)/len(maison_filtre)*100, 1), ' % des maisons' )\n",
    "print('nb adjudication :\\t', len(adjudication), '\\tsoit\\t', round(len(adjudication)/len(maison_filtre)*100, 1), ' % des maisons' )\n",
    "print('nb vente_terrain :\\t', len(vente_terrain), '\\tsoit\\t', round(len(vente_terrain)/len(maison_filtre)*100, 1), ' % des maisons' )\n",
    "print('nb expropriation :\\t', len(expropriation), '\\tsoit\\t', round(len(expropriation)/len(maison_filtre)*100, 1), ' % des maisons' )\n",
    "\n",
    "print()\n",
    "\n",
    "del(vente, vente_achevement, echange, adjudication, vente_terrain, expropriation)"
   ]
  },
  {
   "cell_type": "code",
   "execution_count": 41,
   "metadata": {
    "tags": []
   },
   "outputs": [
    {
     "output_type": "stream",
     "name": "stdout",
     "text": "491748\n1124\n"
    },
    {
     "output_type": "error",
     "ename": "ValueError",
     "evalue": "Item wrong length 1 instead of 491748.",
     "traceback": [
      "\u001b[1;31m---------------------------------------------------------------------------\u001b[0m",
      "\u001b[1;31mValueError\u001b[0m                                Traceback (most recent call last)",
      "\u001b[1;32m&lt;ipython-input-41-61028aa1c1b1&gt;\u001b[0m in \u001b[0;36m&lt;module&gt;\u001b[1;34m\u001b[0m\n\u001b[0;32m      6\u001b[0m \u001b[0mprint\u001b[0m\u001b[1;33m(\u001b[0m\u001b[0mechange\u001b[0m\u001b[1;33m.\u001b[0m\u001b[0msum\u001b[0m\u001b[1;33m(\u001b[0m\u001b[1;33m)\u001b[0m\u001b[1;33m)\u001b[0m\u001b[1;33m\u001b[0m\u001b[1;33m\u001b[0m\u001b[0m\n\u001b[0;32m      7\u001b[0m \u001b[1;33m\u001b[0m\u001b[0m\n\u001b[1;32m----&gt; 8\u001b[1;33m \u001b[0mechange\u001b[0m \u001b[1;33m=\u001b[0m \u001b[0mmaison_valeur\u001b[0m\u001b[1;33m[\u001b[0m\u001b[1;33m[\u001b[0m\u001b[0mmaison_valeur\u001b[0m\u001b[1;33m[\u001b[0m\u001b[1;34m&quot;Nature mutation&quot;\u001b[0m\u001b[1;33m]\u001b[0m \u001b[1;33m==\u001b[0m\u001b[1;34m&quot;Echange&quot;\u001b[0m\u001b[1;33m]\u001b[0m\u001b[1;33m]\u001b[0m\u001b[1;33m\u001b[0m\u001b[1;33m\u001b[0m\u001b[0m\n\u001b[0m\u001b[0;32m      9\u001b[0m \u001b[0mprint\u001b[0m\u001b[1;33m(\u001b[0m\u001b[0mechange\u001b[0m\u001b[1;33m.\u001b[0m\u001b[0mhead\u001b[0m\u001b[1;33m(\u001b[0m\u001b[1;33m)\u001b[0m\u001b[1;33m)\u001b[0m\u001b[1;33m\u001b[0m\u001b[1;33m\u001b[0m\u001b[0m\n\u001b[0;32m     10\u001b[0m \u001b[0mechange\u001b[0m\u001b[1;33m[\u001b[0m\u001b[1;34m&#39;Valeur fonciere&#39;\u001b[0m\u001b[1;33m]\u001b[0m\u001b[1;33m.\u001b[0m\u001b[0mmean\u001b[0m\u001b[1;33m(\u001b[0m\u001b[1;33m)\u001b[0m\u001b[1;33m\u001b[0m\u001b[1;33m\u001b[0m\u001b[0m\n",
      "\u001b[1;32m~\\anaconda3\\envs\\immobilier\\lib\\site-packages\\pandas\\core\\frame.py\u001b[0m in \u001b[0;36m__getitem__\u001b[1;34m(self, key)\u001b[0m\n\u001b[0;32m   2891\u001b[0m         \u001b[1;31m# Do we have a (boolean) 1d indexer?\u001b[0m\u001b[1;33m\u001b[0m\u001b[1;33m\u001b[0m\u001b[1;33m\u001b[0m\u001b[0m\n\u001b[0;32m   2892\u001b[0m         \u001b[1;32mif\u001b[0m \u001b[0mcom\u001b[0m\u001b[1;33m.\u001b[0m\u001b[0mis_bool_indexer\u001b[0m\u001b[1;33m(\u001b[0m\u001b[0mkey\u001b[0m\u001b[1;33m)\u001b[0m\u001b[1;33m:\u001b[0m\u001b[1;33m\u001b[0m\u001b[1;33m\u001b[0m\u001b[0m\n\u001b[1;32m-&gt; 2893\u001b[1;33m             \u001b[1;32mreturn\u001b[0m \u001b[0mself\u001b[0m\u001b[1;33m.\u001b[0m\u001b[0m_getitem_bool_array\u001b[0m\u001b[1;33m(\u001b[0m\u001b[0mkey\u001b[0m\u001b[1;33m)\u001b[0m\u001b[1;33m\u001b[0m\u001b[1;33m\u001b[0m\u001b[0m\n\u001b[0m\u001b[0;32m   2894\u001b[0m \u001b[1;33m\u001b[0m\u001b[0m\n\u001b[0;32m   2895\u001b[0m         \u001b[1;31m# We are left with two options: a single key, and a collection of keys,\u001b[0m\u001b[1;33m\u001b[0m\u001b[1;33m\u001b[0m\u001b[1;33m\u001b[0m\u001b[0m\n",
      "\u001b[1;32m~\\anaconda3\\envs\\immobilier\\lib\\site-packages\\pandas\\core\\frame.py\u001b[0m in \u001b[0;36m_getitem_bool_array\u001b[1;34m(self, key)\u001b[0m\n\u001b[0;32m   2938\u001b[0m         \u001b[1;32melif\u001b[0m \u001b[0mlen\u001b[0m\u001b[1;33m(\u001b[0m\u001b[0mkey\u001b[0m\u001b[1;33m)\u001b[0m \u001b[1;33m!=\u001b[0m \u001b[0mlen\u001b[0m\u001b[1;33m(\u001b[0m\u001b[0mself\u001b[0m\u001b[1;33m.\u001b[0m\u001b[0mindex\u001b[0m\u001b[1;33m)\u001b[0m\u001b[1;33m:\u001b[0m\u001b[1;33m\u001b[0m\u001b[1;33m\u001b[0m\u001b[0m\n\u001b[0;32m   2939\u001b[0m             raise ValueError(\n\u001b[1;32m-&gt; 2940\u001b[1;33m                 \u001b[1;34mf&quot;Item wrong length {len(key)} instead of {len(self.index)}.&quot;\u001b[0m\u001b[1;33m\u001b[0m\u001b[1;33m\u001b[0m\u001b[0m\n\u001b[0m\u001b[0;32m   2941\u001b[0m             )\n\u001b[0;32m   2942\u001b[0m \u001b[1;33m\u001b[0m\u001b[0m\n",
      "\u001b[1;31mValueError\u001b[0m: Item wrong length 1 instead of 491748."
     ]
    }
   ],
   "source": [
    "maison_valeur = maison_filtre[['Nature mutation', 'Valeur fonciere']]\n",
    "print(len(maison_valeur))\n",
    "# print( maison_valeur.groupby(['Nature mutation']).mean() )\n",
    "\n",
    "echange = maison_valeur['Nature mutation'] == \"Echange\"\n",
    "print(echange.sum())\n",
    "\n",
    "echange = maison_valeur[[maison_valeur[\"Nature mutation\"] ==\"Echange\"]]\n",
    "print(echange.head())\n",
    "echange['Valeur fonciere'].mean()"
   ]
  }
 ]
}