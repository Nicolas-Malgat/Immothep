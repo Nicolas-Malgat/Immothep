{
 "metadata": {
  "language_info": {
   "codemirror_mode": {
    "name": "ipython",
    "version": 3
   },
   "file_extension": ".py",
   "mimetype": "text/x-python",
   "name": "python",
   "nbconvert_exporter": "python",
   "pygments_lexer": "ipython3",
   "version": "3.6.11-final"
  },
  "orig_nbformat": 2,
  "kernelspec": {
   "name": "Python 3.6.11 64-bit ('immobilier': conda)",
   "display_name": "Python 3.6.11 64-bit ('immobilier': conda)",
   "metadata": {
    "interpreter": {
     "hash": "15519de8fbb6136aa09e019b0b4b08d477217ed268095a8a98a95fc8a7dafa78"
    }
   }
  }
 },
 "nbformat": 4,
 "nbformat_minor": 2,
 "cells": [
  {
   "cell_type": "code",
   "execution_count": 1,
   "metadata": {
    "tags": []
   },
   "outputs": [],
   "source": [
    "import pandas as pd\n",
    "import matplotlib.pyplot as plt\n",
    "import numpy as np\n",
    "\n",
    "from sklearn.model_selection import train_test_split, GridSearchCV\n",
    "from modules.loader import ImmothepDataLoader\n",
    "from sklearn.preprocessing import StandardScaler\n",
    "from sklearn.linear_model import SGDRegressor\n",
    "\n",
    "loader = ImmothepDataLoader()\n",
    "\n",
    "DATASET_PATH = '../datas/CURATED/'\n",
    "\n",
    "%load_ext autoreload\n",
    "%autoreload 2"
   ]
  },
  {
   "cell_type": "code",
   "execution_count": 2,
   "metadata": {
    "tags": []
   },
   "outputs": [
    {
     "output_type": "stream",
     "name": "stdout",
     "text": "Les fichiers sont correctement téléchargés\n"
    }
   ],
   "source": [
    "loader.ensure_data_loaded()"
   ]
  },
  {
   "cell_type": "code",
   "execution_count": 3,
   "metadata": {
    "tags": []
   },
   "outputs": [],
   "source": [
    "valeurs_foncieres = pd.read_csv(DATASET_PATH + \"maison_filtre.csv\", sep='|', encoding='utf-8')\n",
    "# valeurs_foncieres = valeurs_foncieres.dropna(subset=['Surface terrain'])"
   ]
  },
  {
   "cell_type": "code",
   "execution_count": 4,
   "metadata": {},
   "outputs": [],
   "source": [
    "extrait_df_valeurs_foncieres = pd.read_csv(DATASET_PATH + \"maison_filtre.csv\", sep=',', usecols=['Surface reelle bati', 'Nombre pieces principales', 'Surface terrain', 'Code postal'], encoding='utf-8')"
   ]
  },
  {
   "cell_type": "code",
   "execution_count": 5,
   "metadata": {},
   "outputs": [],
   "source": [
    "data = extrait_df_valeurs_foncieres.values\n",
    "X = data[:, 1:]  # all rows, no label\n",
    "y = data[:, 0]  # all rows, label only\n",
    "X_train, X_test, y_train, y_test = train_test_split(X, y, test_size=0.25, random_state=42)"
   ]
  },
  {
   "cell_type": "code",
   "execution_count": 6,
   "metadata": {},
   "outputs": [],
   "source": [
    "scaler = StandardScaler()\n",
    "scaler.fit(X_train)\n",
    "X_train = scaler.transform(X_train)\n",
    "X_test = scaler.transform(X_test)"
   ]
  },
  {
   "cell_type": "code",
   "execution_count": 7,
   "metadata": {},
   "outputs": [],
   "source": [
    "model = SGDRegressor()"
   ]
  },
  {
   "cell_type": "code",
   "execution_count": 8,
   "metadata": {},
   "outputs": [],
   "source": [
    "estimator = SGDRegressor()\n",
    "# estimator = LinearRegression()  # LinearRegression works with sparse matrix\n",
    "estimator.fit(X_train, y_train)\n",
    "predicted = estimator.predict(X_train)"
   ]
  },
  {
   "cell_type": "code",
   "execution_count": 9,
   "metadata": {
    "tags": []
   },
   "outputs": [
    {
     "output_type": "stream",
     "name": "stdout",
     "text": "[52091.47350436 52636.34927555 51290.15253327 ... 50854.61153281\n 51845.65291149 51933.053134  ]\n"
    }
   ],
   "source": [
    "print(predicted)"
   ]
  },
  {
   "cell_type": "code",
   "execution_count": 10,
   "metadata": {
    "tags": []
   },
   "outputs": [
    {
     "output_type": "stream",
     "name": "stdout",
     "text": "R-squared: -0.05794286297961948\n"
    }
   ],
   "source": [
    "model.fit(X_train, y_train)\n",
    "score = model.score(X_train, y_train)\n",
    "print(\"R-squared:\", score)"
   ]
  },
  {
   "cell_type": "code",
   "execution_count": 12,
   "metadata": {},
   "outputs": [],
   "source": [
    "param_grid = {\n",
    "    'alpha': 10.0 ** -np.arange(1, 7),\n",
    "    'loss': ['squared_loss', 'huber', 'epsilon_insensitive'],\n",
    "    'penalty': ['l2', 'l1', 'elasticnet'],\n",
    "    'learning_rate': ['constant', 'optimal', 'invscaling'],\n",
    "}\n",
    "print(\"a\")\n",
    "clf = GridSearchCV(model, param_grid)\n",
    "print(\"a\")\n",
    "clf.fit(X_train, y_train)\n",
    "print(\"a\")\n",
    "print(\"Best score: \" + str(clf.best_score_))"
   ]
  },
  {
   "cell_type": "code",
   "execution_count": 6,
   "metadata": {},
   "outputs": [
    {
     "output_type": "execute_result",
     "data": {
      "text/plain": "   Code postal  Surface reelle bati  Nombre pieces principales  \\\n0       1000.0                 20.0                        1.0   \n1       1000.0                 62.0                        3.0   \n2       1000.0                  0.0                        0.0   \n3       1160.0                 90.0                        4.0   \n4       1370.0                101.0                        5.0   \n\n   Surface terrain  \n0              NaN  \n1              NaN  \n2              NaN  \n3            940.0  \n4            490.0  ",
      "text/html": "<div>\n<style scoped>\n    .dataframe tbody tr th:only-of-type {\n        vertical-align: middle;\n    }\n\n    .dataframe tbody tr th {\n        vertical-align: top;\n    }\n\n    .dataframe thead th {\n        text-align: right;\n    }\n</style>\n<table border=\"1\" class=\"dataframe\">\n  <thead>\n    <tr style=\"text-align: right;\">\n      <th></th>\n      <th>Code postal</th>\n      <th>Surface reelle bati</th>\n      <th>Nombre pieces principales</th>\n      <th>Surface terrain</th>\n    </tr>\n  </thead>\n  <tbody>\n    <tr>\n      <th>0</th>\n      <td>1000.0</td>\n      <td>20.0</td>\n      <td>1.0</td>\n      <td>NaN</td>\n    </tr>\n    <tr>\n      <th>1</th>\n      <td>1000.0</td>\n      <td>62.0</td>\n      <td>3.0</td>\n      <td>NaN</td>\n    </tr>\n    <tr>\n      <th>2</th>\n      <td>1000.0</td>\n      <td>0.0</td>\n      <td>0.0</td>\n      <td>NaN</td>\n    </tr>\n    <tr>\n      <th>3</th>\n      <td>1160.0</td>\n      <td>90.0</td>\n      <td>4.0</td>\n      <td>940.0</td>\n    </tr>\n    <tr>\n      <th>4</th>\n      <td>1370.0</td>\n      <td>101.0</td>\n      <td>5.0</td>\n      <td>490.0</td>\n    </tr>\n  </tbody>\n</table>\n</div>"
     },
     "metadata": {},
     "execution_count": 6
    }
   ],
   "source": [
    "extrait_df_valeurs_foncieres.head()"
   ]
  },
  {
   "cell_type": "code",
   "execution_count": 16,
   "metadata": {
    "tags": []
   },
   "outputs": [
    {
     "output_type": "stream",
     "name": "stdout",
     "text": "0           20.0\n1           62.0\n2            0.0\n3           90.0\n4          101.0\n           ...  \n2535786    120.0\n2535787      0.0\n2535788     44.0\n2535789    100.0\n2535790     97.0\nName: Surface reelle bati, Length: 2535791, dtype: float64 0          1.0\n1          3.0\n2          0.0\n3          4.0\n4          5.0\n          ... \n2535786    5.0\n2535787    0.0\n2535788    2.0\n2535789    0.0\n2535790    3.0\nName: Nombre pieces principales, Length: 2535791, dtype: float64\n"
    }
   ],
   "source": [
    "import sklearn.datasets\n",
    "iris_dataset = sklearn.datasets.load_iris()\n",
    "X, y = extrait_df_valeurs_foncieres['Surface reelle bati'], extrait_df_valeurs_foncieres['Nombre pieces principales']\n",
    "print(X, y)"
   ]
  },
  {
   "cell_type": "code",
   "execution_count": 14,
   "metadata": {},
   "outputs": [
    {
     "output_type": "error",
     "ename": "ValueError",
     "evalue": "Found input variables with inconsistent numbers of samples: [150, 2535791]",
     "traceback": [
      "\u001b[1;31m---------------------------------------------------------------------------\u001b[0m",
      "\u001b[1;31mValueError\u001b[0m                                Traceback (most recent call last)",
      "\u001b[1;32m&lt;ipython-input-14-2a2bdb69025b&gt;\u001b[0m in \u001b[0;36m&lt;module&gt;\u001b[1;34m\u001b[0m\n\u001b[0;32m      3\u001b[0m \u001b[1;32mfrom\u001b[0m \u001b[0msklearn\u001b[0m\u001b[1;33m.\u001b[0m\u001b[0mmodel_selection\u001b[0m \u001b[1;32mimport\u001b[0m \u001b[0mtrain_test_split\u001b[0m\u001b[1;33m\u001b[0m\u001b[1;33m\u001b[0m\u001b[0m\n\u001b[0;32m      4\u001b[0m \u001b[0mx\u001b[0m \u001b[1;33m=\u001b[0m \u001b[0mrandom\u001b[0m\u001b[1;33m.\u001b[0m\u001b[0muniform\u001b[0m\u001b[1;33m(\u001b[0m\u001b[1;36m0\u001b[0m\u001b[1;33m,\u001b[0m \u001b[1;36m9\u001b[0m\u001b[1;33m)\u001b[0m\u001b[1;33m\u001b[0m\u001b[1;33m\u001b[0m\u001b[0m\n\u001b[1;32m----&gt; 5\u001b[1;33m \u001b[0msurface_reelle_bati\u001b[0m\u001b[1;33m,\u001b[0m \u001b[0mnombre_pieces_principales\u001b[0m\u001b[1;33m,\u001b[0m \u001b[0msurface_terrain\u001b[0m\u001b[1;33m,\u001b[0m \u001b[0mcode_postal\u001b[0m \u001b[1;33m=\u001b[0m \u001b[0mtrain_test_split\u001b[0m\u001b[1;33m(\u001b[0m\u001b[0mX\u001b[0m\u001b[1;33m,\u001b[0m \u001b[0mextrait_df_valeurs_foncieres\u001b[0m\u001b[1;33m)\u001b[0m\u001b[1;33m\u001b[0m\u001b[1;33m\u001b[0m\u001b[0m\n\u001b[0m",
      "\u001b[1;32m~\\anaconda3\\envs\\immobilier\\lib\\site-packages\\sklearn\\model_selection\\_split.py\u001b[0m in \u001b[0;36mtrain_test_split\u001b[1;34m(*arrays, **options)\u001b[0m\n\u001b[0;32m   2125\u001b[0m         \u001b[1;32mraise\u001b[0m \u001b[0mTypeError\u001b[0m\u001b[1;33m(\u001b[0m\u001b[1;34m&quot;Invalid parameters passed: %s&quot;\u001b[0m \u001b[1;33m%\u001b[0m \u001b[0mstr\u001b[0m\u001b[1;33m(\u001b[0m\u001b[0moptions\u001b[0m\u001b[1;33m)\u001b[0m\u001b[1;33m)\u001b[0m\u001b[1;33m\u001b[0m\u001b[1;33m\u001b[0m\u001b[0m\n\u001b[0;32m   2126\u001b[0m \u001b[1;33m\u001b[0m\u001b[0m\n\u001b[1;32m-&gt; 2127\u001b[1;33m     \u001b[0marrays\u001b[0m \u001b[1;33m=\u001b[0m \u001b[0mindexable\u001b[0m\u001b[1;33m(\u001b[0m\u001b[1;33m*\u001b[0m\u001b[0marrays\u001b[0m\u001b[1;33m)\u001b[0m\u001b[1;33m\u001b[0m\u001b[1;33m\u001b[0m\u001b[0m\n\u001b[0m\u001b[0;32m   2128\u001b[0m \u001b[1;33m\u001b[0m\u001b[0m\n\u001b[0;32m   2129\u001b[0m     \u001b[0mn_samples\u001b[0m \u001b[1;33m=\u001b[0m \u001b[0m_num_samples\u001b[0m\u001b[1;33m(\u001b[0m\u001b[0marrays\u001b[0m\u001b[1;33m[\u001b[0m\u001b[1;36m0\u001b[0m\u001b[1;33m]\u001b[0m\u001b[1;33m)\u001b[0m\u001b[1;33m\u001b[0m\u001b[1;33m\u001b[0m\u001b[0m\n",
      "\u001b[1;32m~\\anaconda3\\envs\\immobilier\\lib\\site-packages\\sklearn\\utils\\validation.py\u001b[0m in \u001b[0;36mindexable\u001b[1;34m(*iterables)\u001b[0m\n\u001b[0;32m    290\u001b[0m     &quot;&quot;&quot;\n\u001b[0;32m    291\u001b[0m     \u001b[0mresult\u001b[0m \u001b[1;33m=\u001b[0m \u001b[1;33m[\u001b[0m\u001b[0m_make_indexable\u001b[0m\u001b[1;33m(\u001b[0m\u001b[0mX\u001b[0m\u001b[1;33m)\u001b[0m \u001b[1;32mfor\u001b[0m \u001b[0mX\u001b[0m \u001b[1;32min\u001b[0m \u001b[0miterables\u001b[0m\u001b[1;33m]\u001b[0m\u001b[1;33m\u001b[0m\u001b[1;33m\u001b[0m\u001b[0m\n\u001b[1;32m--&gt; 292\u001b[1;33m     \u001b[0mcheck_consistent_length\u001b[0m\u001b[1;33m(\u001b[0m\u001b[1;33m*\u001b[0m\u001b[0mresult\u001b[0m\u001b[1;33m)\u001b[0m\u001b[1;33m\u001b[0m\u001b[1;33m\u001b[0m\u001b[0m\n\u001b[0m\u001b[0;32m    293\u001b[0m     \u001b[1;32mreturn\u001b[0m \u001b[0mresult\u001b[0m\u001b[1;33m\u001b[0m\u001b[1;33m\u001b[0m\u001b[0m\n\u001b[0;32m    294\u001b[0m \u001b[1;33m\u001b[0m\u001b[0m\n",
      "\u001b[1;32m~\\anaconda3\\envs\\immobilier\\lib\\site-packages\\sklearn\\utils\\validation.py\u001b[0m in \u001b[0;36mcheck_consistent_length\u001b[1;34m(*arrays)\u001b[0m\n\u001b[0;32m    254\u001b[0m     \u001b[1;32mif\u001b[0m \u001b[0mlen\u001b[0m\u001b[1;33m(\u001b[0m\u001b[0muniques\u001b[0m\u001b[1;33m)\u001b[0m \u001b[1;33m&gt;\u001b[0m \u001b[1;36m1\u001b[0m\u001b[1;33m:\u001b[0m\u001b[1;33m\u001b[0m\u001b[1;33m\u001b[0m\u001b[0m\n\u001b[0;32m    255\u001b[0m         raise ValueError(&quot;Found input variables with inconsistent numbers of&quot;\n\u001b[1;32m--&gt; 256\u001b[1;33m                          &quot; samples: %r&quot; % [int(l) for l in lengths])\n\u001b[0m\u001b[0;32m    257\u001b[0m \u001b[1;33m\u001b[0m\u001b[0m\n\u001b[0;32m    258\u001b[0m \u001b[1;33m\u001b[0m\u001b[0m\n",
      "\u001b[1;31mValueError\u001b[0m: Found input variables with inconsistent numbers of samples: [150, 2535791]"
     ]
    }
   ],
   "source": [
    "import sklearn.datasets\n",
    "import random\n",
    "from sklearn.model_selection import train_test_split\n",
    "x = random.uniform(0, 9)\n",
    "surface_reelle_bati, nombre_pieces_principales, surface_terrain, code_postal = train_test_split(X, extrait_df_valeurs_foncieres)"
   ]
  },
  {
   "cell_type": "code",
   "execution_count": null,
   "metadata": {},
   "outputs": [],
   "source": [
    "for local in valeurs_foncieres['Type local'].drop_duplicates().values:\n",
    "    print(local)\n",
    "print()\n",
    "# appartement = valeurs_foncieres[valeurs_foncieres['Type local'] == 'Appartement']\n",
    "maison = valeurs_foncieres[valeurs_foncieres['Type local'] == 'Maison']\n",
    "# dependance = valeurs_foncieres[valeurs_foncieres['Type local'] == 'Dépendance']\n",
    "# none_local = valeurs_foncieres[valeurs_foncieres['Type local'].isna()]\n",
    "# industriel = valeurs_foncieres[valeurs_foncieres['Type local'] == 'Local industriel. commercial ou assimilé']\n",
    "\n",
    "print('nb local :\\t', len(valeurs_foncieres), '\\tsoit\\t', round(len(valeurs_foncieres)/len(valeurs_foncieres)*100), ' % des locaux' )\n",
    "# print('nb appart :\\t', len(appartement), '\\tsoit\\t', round(len(appartement)/len(valeurs_foncieres)*100), ' % des locaux' )\n",
    "print('nb maison :\\t', len(maison), '\\tsoit\\t', round(len(maison)/len(valeurs_foncieres)*100), ' % des locaux' )\n",
    "# print('nb dependance :\\t', len(dependance), '\\tsoit\\t', round(len(dependance)/len(valeurs_foncieres)*100), ' % des locaux' )\n",
    "# print('nb none_local :\\t', len(none_local), '\\tsoit\\t', round(len(none_local)/len(valeurs_foncieres)*100), ' % des locaux' )\n",
    "# print('nb industriel :\\t', len(industriel), '\\tsoit\\t', round(len(industriel)/len(valeurs_foncieres)*100), ' % des locaux' )"
   ]
  },
  {
   "cell_type": "code",
   "execution_count": null,
   "metadata": {},
   "outputs": [],
   "source": [
    "# maison_non_bati = maison[maison['Surface reelle bati'].isna()]\n",
    "# maison_non_terrain = maison[maison['Surface terrain'].isna()]\n",
    "# maison_non_valeur = maison[maison['Valeur fonciere'].isna()]\n",
    "# maison_non_pieces = maison[maison['Nombre pieces principales'].isna()]\n",
    "# maison_non_postal = maison[maison['Code postal'].isna()]\n",
    "\n",
    "# print('nb maison non bati \\t', len(maison_non_bati), '\\tsoit\\t', round(len(maison_non_bati)/len(maison)*100, 1), ' % des maisons' )\n",
    "# print('nb maison sans terrain \\t', len(maison_non_terrain), '\\tsoit\\t', round(len(maison_non_terrain)/len(maison)*100, 1), ' % des maisons' )\n",
    "# print('nb maison sans valeur \\t', len(maison_non_valeur), '\\tsoit\\t', round(len(maison_non_valeur)/len(maison)*100, 1), ' % des maisons' )\n",
    "# print('nb maison sans piece \\t', len(maison_non_pieces), '\\tsoit\\t', round(len(maison_non_pieces)/len(maison)*100, 1), ' % des maisons' )\n",
    "# print('nb maison sans code postal \\t', len(maison_non_postal), '\\tsoit\\t', round(len(maison_non_postal)/len(maison)*100, 1), ' % des maisons' )\n",
    "\n",
    "maison_filtre = maison.dropna(subset=['Surface reelle bati','Surface terrain', 'Valeur fonciere', 'Nombre pieces principales', 'Code postal'])\n",
    "print(len(maison_filtre), ' maisons')\n",
    "maison_filtre.head()"
   ]
  },
  {
   "cell_type": "code",
   "execution_count": null,
   "metadata": {},
   "outputs": [],
   "source": [
    "or mutation in maison_filtre['Nature mutation'].drop_duplicates().values:\n",
    "    print(mutation)"
   ]
  }
 ]
}