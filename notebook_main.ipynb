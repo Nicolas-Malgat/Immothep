{
 "metadata": {
  "language_info": {
   "codemirror_mode": {
    "name": "ipython",
    "version": 3
   },
   "file_extension": ".py",
   "mimetype": "text/x-python",
   "name": "python",
   "nbconvert_exporter": "python",
   "pygments_lexer": "ipython3",
   "version": "3.6.11-final"
  },
  "orig_nbformat": 2,
  "kernelspec": {
   "name": "Python 3.6.11 64-bit ('immobilier': conda)",
   "display_name": "Python 3.6.11 64-bit ('immobilier': conda)",
   "metadata": {
    "interpreter": {
     "hash": "15519de8fbb6136aa09e019b0b4b08d477217ed268095a8a98a95fc8a7dafa78"
    }
   }
  }
 },
 "nbformat": 4,
 "nbformat_minor": 2,
 "cells": [
  {
   "cell_type": "code",
   "execution_count": null,
   "metadata": {},
   "outputs": [],
   "source": [
    "import pandas as pd\n",
    "import matplotlib.pyplot as plt\n",
    "import numpy as np\n",
    "\n",
    "from modules.loader import ImmothepDataLoader\n",
    "loader = ImmothepDataLoader()\n",
    "del(ImmothepDataLoader)\n",
    "\n",
    "from modules.csvLoader import csvLoader\n",
    "\n",
    "DATASET_PATH = '../datas/RAW/'\n",
    "\n",
    "%load_ext autoreload\n",
    "%autoreload 2"
   ]
  },
  {
   "source": [
    "## Téléchargement des données"
   ],
   "cell_type": "markdown",
   "metadata": {}
  },
  {
   "cell_type": "code",
   "execution_count": null,
   "metadata": {},
   "outputs": [],
   "source": [
    "loader.ensure_data_loaded()\n",
    "del(loader)"
   ]
  },
  {
   "source": [
    "## Lecture des CSV"
   ],
   "cell_type": "markdown",
   "metadata": {}
  },
  {
   "cell_type": "code",
   "execution_count": null,
   "metadata": {},
   "outputs": [],
   "source": [
    "valeurs_foncieres = pd.read_csv(DATASET_PATH + \"valeursfoncieres-2019.txt\", sep='|', decimal=',', encoding='utf-8')\n",
    "\n",
    "del(DATASET_PATH)"
   ]
  },
  {
   "source": [
    "## Creation des jeux de données appartement et maison"
   ],
   "cell_type": "markdown",
   "metadata": {}
  },
  {
   "cell_type": "code",
   "execution_count": null,
   "metadata": {},
   "outputs": [],
   "source": [
    "appartement = valeurs_foncieres[valeurs_foncieres['Type local'] == 'Appartement']\n",
    "maison = valeurs_foncieres[valeurs_foncieres['Type local'] == 'Maison']\n",
    "\n",
    "del(valeurs_foncieres)\n",
    "\n",
    "cols = ['Surface reelle bati', 'Surface terrain', 'Valeur fonciere', 'Nombre pieces principales', 'Code postal']\n",
    "maison = maison.dropna(how='any', subset=cols)\n",
    "appartement = appartement.dropna(how='any', subset=cols)\n",
    "\n",
    "del(cols)\n",
    "\n",
    "# suppression des COLONNES vides \n",
    "maison = maison.dropna(axis=1, how='all')\n",
    "appartement = appartement.dropna(axis=1, how='all')\n",
    "\n",
    "csvLoader.save(appartement, 'appartement', save_index=False)\n",
    "csvLoader.save(maison, 'maison', save_index=False)\n",
    "\n",
    "del(appartement, maison)"
   ]
  },
  {
   "source": [
    "## Définition de fonctions personnalisées"
   ],
   "cell_type": "markdown",
   "metadata": {}
  },
  {
   "cell_type": "code",
   "execution_count": null,
   "metadata": {},
   "outputs": [],
   "source": [
    "def drop_extreme(df, colonne, low_qt, high_qt):\n",
    "    limite_basse, limite_haute = df[colonne].quantile([low_qt, high_qt])\n",
    "    return df.query(\"{low}<=`{colonne}`<={high}\".format(low=limite_basse,high=limite_haute,colonne=colonne))\n",
    "\n",
    "import math\n",
    "\n",
    "def set_surface(row):\n",
    "    if not math.isnan(row['Surface Carrez du 1er lot']):\n",
    "        return row['Surface Carrez du 1er lot']\n",
    "    return row['Surface reelle bati']"
   ]
  },
  {
   "source": [
    "## Filtrage du jeu de données \"maison\""
   ],
   "cell_type": "markdown",
   "metadata": {}
  },
  {
   "cell_type": "code",
   "execution_count": null,
   "metadata": {},
   "outputs": [],
   "source": [
    "maison_filtre = csvLoader.load('maison')\n",
    "\n",
    "maison_filtre = maison_filtre[maison_filtre['Nature mutation'] == 'Vente']\n",
    "maison_filtre = maison_filtre.drop_duplicates(['Date mutation', 'Valeur fonciere', 'Code postal'], keep=False)\n",
    "maison_filtre = drop_extreme(maison_filtre, 'Nombre pieces principales', 0.1, 0.9)\n",
    "\n",
    "maison_filtre = maison_filtre[['Nature mutation', 'Valeur fonciere', 'Code postal', 'Voie', 'Commune', 'Surface Carrez du 1er lot', 'Nombre de lots', 'Type local', 'Surface reelle bati', 'Nombre pieces principales', 'Surface terrain']]\n",
    "maison_filtre['Surface'] = maison_filtre.apply(set_surface, axis=1)\n",
    "maison_filtre = maison_filtre.drop(columns=['Surface Carrez du 1er lot', 'Surface reelle bati', 'Nombre de lots'])\n",
    "maison_filtre = drop_extreme(maison_filtre, 'Surface', 0.1, 0.9)\n",
    "\n",
    "maison_filtre = drop_extreme(maison_filtre, 'Surface terrain', 0.1, 0.90)\n",
    "maison_filtre = drop_extreme(maison_filtre, 'Valeur fonciere', 0.05, 0.95)\n",
    "\n",
    "# Prix au m²\n",
    "maison_filtre['Prix metre carre'] = maison_filtre['Valeur fonciere']/maison_filtre['Surface']\n",
    "valeur_surface = maison_filtre.groupby('Code postal')['Prix metre carre'].mean()\n",
    "\n",
    "#Generation du csv prix au metre carre\n",
    "csvLoader.save(valeur_surface, 'prix_metre_maison.csv')\n",
    "\n",
    "maison_filtre = maison_filtre.merge(valeur_surface, on='Code postal')\n",
    "maison_filtre = maison_filtre.drop(columns=['Prix metre carre_x'])\n",
    "maison_filtre = maison_filtre.rename(columns={'Prix metre carre_y':'Prix metre carre'})\n",
    "maison_filtre = maison_filtre.drop(columns=['Code postal'])\n",
    "del(valeur_surface)\n",
    "\n",
    "print(len(maison_filtre))\n",
    "csvLoader.save(maison_filtre, 'maison_filtre', save_index=False)"
   ]
  },
  {
   "source": [
    "## Filtrage du jeu de données \"appartement\""
   ],
   "cell_type": "markdown",
   "metadata": {}
  },
  {
   "cell_type": "code",
   "execution_count": null,
   "metadata": {},
   "outputs": [],
   "source": [
    "appartement_filtre = csvLoader.load('appartement')\n",
    "\n",
    "appartement_filtre = appartement_filtre[appartement_filtre['Nature mutation'] == 'Vente']\n",
    "appartement_filtre = appartement_filtre.drop_duplicates(['Date mutation', 'Valeur fonciere', 'Code postal'], keep=False)\n",
    "appartement_filtre = drop_extreme(appartement_filtre, 'Nombre pieces principales', 0.1, 0.9)\n",
    "\n",
    "appartement_filtre = appartement_filtre[appartement_filtre['Nombre de lots'] < 2]\n",
    "appartement_filtre = appartement_filtre[['Date mutation', 'Nature mutation', 'Valeur fonciere', 'Code postal', 'Voie', 'Commune', 'Surface Carrez du 1er lot', 'Nombre de lots', 'Type local', 'Surface reelle bati', 'Nombre pieces principales', 'Surface terrain']]\n",
    "appartement_filtre['Surface'] = appartement_filtre.apply(set_surface, axis=1)\n",
    "appartement_filtre = appartement_filtre.drop(columns=['Surface Carrez du 1er lot', 'Nombre de lots', 'Surface reelle bati'])\n",
    "\n",
    "appartement_filtre = drop_extreme(appartement_filtre, 'Surface', 0.1, 0.9)\n",
    "appartement_filtre = appartement_filtre[appartement_filtre['Surface terrain'].isna()]\n",
    "appartement_filtre = appartement_filtre.drop(columns=['Surface terrain'])\n",
    "appartement_filtre = drop_extreme(appartement_filtre, 'Valeur fonciere', 0.08, 0.92)\n",
    "\n",
    "# Prix au m²\n",
    "appartement_filtre['Prix metre carre'] = appartement_filtre['Valeur fonciere']/appartement_filtre['Surface']\n",
    "valeur_surface = appartement_filtre.groupby('Code postal')['Prix metre carre'].mean()\n",
    "\n",
    "# Generation du csv prix au metre carre\n",
    "csvLoader.save(valeur_surface, 'prix_metre_appartement.csv')\n",
    "\n",
    "appartement_filtre = appartement_filtre.merge(valeur_surface, on='Code postal')\n",
    "appartement_filtre = appartement_filtre.drop(columns=['Prix metre carre_x'])\n",
    "appartement_filtre = appartement_filtre.rename(columns={'Prix metre carre_y':'Prix metre carre'})\n",
    "# Je test d'éliminer les extrèmes de prix au m²\n",
    "appartement_filtre = drop_extreme(appartement_filtre, 'Prix metre carre', 0.08, 0.92)\n",
    "appartement_filtre = appartement_filtre.drop(columns=['Code postal'])\n",
    "del(valeur_surface)\n",
    "\n",
    "print(len(appartement_filtre))\n",
    "csvLoader.save(appartement_filtre, 'appartement_filtre', save_index=False)\n",
    "\n",
    "del(appartement_filtre)"
   ]
  },
  {
   "source": [
    "# Entrainement et sauvegarde de la regression linéaire"
   ],
   "cell_type": "markdown",
   "metadata": {}
  },
  {
   "cell_type": "code",
   "execution_count": null,
   "metadata": {},
   "outputs": [],
   "source": [
    "from sklearn.model_selection import train_test_split\n",
    "from sklearn.linear_model import LinearRegression\n",
    "from sklearn.metrics import mean_squared_error\n",
    "import pickle"
   ]
  },
  {
   "source": [
    "## Maison"
   ],
   "cell_type": "markdown",
   "metadata": {}
  },
  {
   "cell_type": "code",
   "execution_count": null,
   "metadata": {},
   "outputs": [],
   "source": [
    "maison_filtre = csvLoader.load('maison_filtre')\n",
    "\n",
    "maison_filtre = maison_filtre[['Valeur fonciere','Nombre pieces principales','Surface', 'Prix metre carre']]\n",
    "\n",
    "X = pd.DataFrame(np.c_[maison_filtre['Nombre pieces principales'],maison_filtre['Surface'], maison_filtre['Prix metre carre']])\n",
    "Y = maison_filtre['Valeur fonciere'] \n",
    "#base d'apprentissage et base de test \n",
    "X_train, X_test, Y_train, Y_test = train_test_split(X, Y, test_size = 0.2, random_state=5)\n",
    "lmodellineaire = LinearRegression()\n",
    "lmodellineaire.fit(X_train, Y_train)\n",
    "pickle.dump(lmodellineaire, open(\"modele_lineaire_maison.p\", \"wb\"))\n",
    "\n",
    "del(lmodellineaire, X_train, Y_train, X_test, Y_test, X, Y, maison_filtre)"
   ]
  },
  {
   "source": [
    "## Appartement"
   ],
   "cell_type": "markdown",
   "metadata": {}
  },
  {
   "cell_type": "code",
   "execution_count": null,
   "metadata": {},
   "outputs": [],
   "source": [
    "appartement_filtre = csvLoader.load('appartement_filtre')\n",
    "\n",
    "appartement_filtre = appartement_filtre[['Valeur fonciere','Nombre pieces principales','Surface', 'Prix metre carre']]\n",
    "\n",
    "X = pd.DataFrame(np.c_[appartement_filtre['Nombre pieces principales'],appartement_filtre['Surface'], appartement_filtre['Prix metre carre']])\n",
    "Y = appartement_filtre['Valeur fonciere']\n",
    "#base d'apprentissage et base de test\n",
    "X_train, X_test, Y_train, Y_test = train_test_split(X, Y, test_size = 0.2, random_state=5)\n",
    "lmodellineaire = LinearRegression()\n",
    "lmodellineaire.fit(X_train, Y_train)\n",
    "pickle.dump(lmodellineaire, open(\"modele_lineaire_appartement.p\", \"wb\"))\n",
    "\n",
    "del(lmodellineaire, X_train, Y_train, X_test, Y_test, X, Y, appartement_filtre)"
   ]
  }
 ]
}