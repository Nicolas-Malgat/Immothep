{
 "metadata": {
  "language_info": {
   "codemirror_mode": {
    "name": "ipython",
    "version": 3
   },
   "file_extension": ".py",
   "mimetype": "text/x-python",
   "name": "python",
   "nbconvert_exporter": "python",
   "pygments_lexer": "ipython3",
   "version": "3.6.11-final"
  },
  "orig_nbformat": 2,
  "kernelspec": {
   "name": "Python 3.6.11 64-bit ('immobilier': conda)",
   "display_name": "Python 3.6.11 64-bit ('immobilier': conda)",
   "metadata": {
    "interpreter": {
     "hash": "15519de8fbb6136aa09e019b0b4b08d477217ed268095a8a98a95fc8a7dafa78"
    }
   }
  }
 },
 "nbformat": 4,
 "nbformat_minor": 2,
 "cells": [
  {
   "cell_type": "code",
   "execution_count": 1,
   "metadata": {
    "tags": []
   },
   "outputs": [],
   "source": [
    "import pandas as pd\n",
    "import matplotlib.pyplot as plt\n",
    "\n",
    "from modules.loader import IntermovieDataLoader\n",
    "loader = IntermovieDataLoader()\n",
    "\n",
    "DATASET_PATH = '../datas/RAW/'\n",
    "\n",
    "%load_ext autoreload\n",
    "%autoreload 2"
   ]
  },
  {
   "source": [
    "## Téléchargement des données"
   ],
   "cell_type": "markdown",
   "metadata": {}
  },
  {
   "cell_type": "code",
   "execution_count": 2,
   "metadata": {
    "tags": []
   },
   "outputs": [
    {
     "output_type": "stream",
     "name": "stdout",
     "text": "Les fichiers sont correctement téléchargés\n"
    }
   ],
   "source": [
    "loader.ensure_data_loaded()"
   ]
  },
  {
   "source": [
    "## Lecture des csv"
   ],
   "cell_type": "markdown",
   "metadata": {}
  },
  {
   "cell_type": "code",
   "execution_count": 3,
   "metadata": {},
   "outputs": [],
   "source": [
    "valeurs_foncieres = pd.read_csv(DATASET_PATH + \"valeursfoncieres-2019.txt\", sep='|', encoding='utf-8')\n",
    "# valeurs_foncieres = valeurs_foncieres.dropna(subset=['Surface terrain'])"
   ]
  },
  {
   "source": [
    "## Observations sur le dataframe"
   ],
   "cell_type": "markdown",
   "metadata": {}
  },
  {
   "source": [
    "Les types de biens sont donc les suivants:\n",
    "```\n",
    "Appartement\n",
    "Dépendance\n",
    "Maison\n",
    "nan\n",
    "Local industriel. commercial ou assimilé\n",
    "\n",
    "nb local :\t 2535791  soit\t 100  % des locaux\n",
    "nb appart :\t 430975  soit\t 17  % des locaux\n",
    "nb maison :\t 515398  soit\t 20  % des locaux\n",
    "nb dependance :\t 312480  soit\t 12  % des locaux\n",
    "nb none_local :\t 1182459  soit\t 47  % des locaux\n",
    "nb industriel :\t 94479  soit\t 4  % des locaux\n",
    "```\n"
   ],
   "cell_type": "markdown",
   "metadata": {}
  },
  {
   "cell_type": "code",
   "execution_count": 4,
   "metadata": {
    "tags": []
   },
   "outputs": [
    {
     "output_type": "stream",
     "name": "stdout",
     "text": "Appartement\nDépendance\nMaison\nnan\nLocal industriel. commercial ou assimilé\n\nnb local :\t 2535791 \tsoit\t 100  % des locaux\nnb maison :\t 515398 \tsoit\t 20  % des locaux\n"
    }
   ],
   "source": [
    "for local in valeurs_foncieres['Type local'].drop_duplicates().values:\n",
    "    print(local)\n",
    "print()\n",
    "# appartement = valeurs_foncieres[valeurs_foncieres['Type local'] == 'Appartement']\n",
    "maison = valeurs_foncieres[valeurs_foncieres['Type local'] == 'Maison']\n",
    "# dependance = valeurs_foncieres[valeurs_foncieres['Type local'] == 'Dépendance']\n",
    "# none_local = valeurs_foncieres[valeurs_foncieres['Type local'].isna()]\n",
    "# industriel = valeurs_foncieres[valeurs_foncieres['Type local'] == 'Local industriel. commercial ou assimilé']\n",
    "\n",
    "print('nb local :\\t', len(valeurs_foncieres), '\\tsoit\\t', round(len(valeurs_foncieres)/len(valeurs_foncieres)*100), ' % des locaux' )\n",
    "# print('nb appart :\\t', len(appartement), '\\tsoit\\t', round(len(appartement)/len(valeurs_foncieres)*100), ' % des locaux' )\n",
    "print('nb maison :\\t', len(maison), '\\tsoit\\t', round(len(maison)/len(valeurs_foncieres)*100), ' % des locaux' )\n",
    "# print('nb dependance :\\t', len(dependance), '\\tsoit\\t', round(len(dependance)/len(valeurs_foncieres)*100), ' % des locaux' )\n",
    "# print('nb none_local :\\t', len(none_local), '\\tsoit\\t', round(len(none_local)/len(valeurs_foncieres)*100), ' % des locaux' )\n",
    "# print('nb industriel :\\t', len(industriel), '\\tsoit\\t', round(len(industriel)/len(valeurs_foncieres)*100), ' % des locaux' )\n"
   ]
  },
  {
   "source": [
    "Observations sur les maisons\n",
    "\n",
    "Aucune de ces maisons n'est souhaitée dans les données du modèle IA"
   ],
   "cell_type": "markdown",
   "metadata": {}
  },
  {
   "cell_type": "code",
   "execution_count": 7,
   "metadata": {
    "tags": []
   },
   "outputs": [
    {
     "output_type": "stream",
     "name": "stdout",
     "text": "491748\n"
    },
    {
     "output_type": "execute_result",
     "data": {
      "text/plain": "    Code service CH  Reference document  1 Articles CGI  2 Articles CGI  \\\n3               NaN                 NaN             NaN             NaN   \n4               NaN                 NaN             NaN             NaN   \n5               NaN                 NaN             NaN             NaN   \n6               NaN                 NaN             NaN             NaN   \n13              NaN                 NaN             NaN             NaN   \n\n    3 Articles CGI  4 Articles CGI  5 Articles CGI  No disposition  \\\n3              NaN             NaN             NaN               1   \n4              NaN             NaN             NaN               1   \n5              NaN             NaN             NaN               1   \n6              NaN             NaN             NaN               1   \n13             NaN             NaN             NaN               1   \n\n   Date mutation Nature mutation  ... Surface Carrez du 5eme lot  \\\n3     08/01/2019           Vente  ...                        NaN   \n4     07/01/2019           Vente  ...                        NaN   \n5     03/01/2019           Vente  ...                        NaN   \n6     08/01/2019           Vente  ...                        NaN   \n13    07/01/2019           Vente  ...                        NaN   \n\n    Nombre de lots Code type local Type local Identifiant local  \\\n3                0             1.0     Maison               NaN   \n4                0             1.0     Maison               NaN   \n5                0             1.0     Maison               NaN   \n6                0             1.0     Maison               NaN   \n13               0             1.0     Maison               NaN   \n\n   Surface reelle bati  Nombre pieces principales Nature culture  \\\n3                 90.0                        4.0              S   \n4                101.0                        5.0              S   \n5                 88.0                        4.0              S   \n6                 39.0                        2.0              S   \n13               100.0                        1.0              S   \n\n   Nature culture speciale  Surface terrain  \n3                      NaN            940.0  \n4                      NaN            490.0  \n5                      NaN            708.0  \n6                      NaN            631.0  \n13                     NaN           2103.0  \n\n[5 rows x 43 columns]",
      "text/html": "<div>\n<style scoped>\n    .dataframe tbody tr th:only-of-type {\n        vertical-align: middle;\n    }\n\n    .dataframe tbody tr th {\n        vertical-align: top;\n    }\n\n    .dataframe thead th {\n        text-align: right;\n    }\n</style>\n<table border=\"1\" class=\"dataframe\">\n  <thead>\n    <tr style=\"text-align: right;\">\n      <th></th>\n      <th>Code service CH</th>\n      <th>Reference document</th>\n      <th>1 Articles CGI</th>\n      <th>2 Articles CGI</th>\n      <th>3 Articles CGI</th>\n      <th>4 Articles CGI</th>\n      <th>5 Articles CGI</th>\n      <th>No disposition</th>\n      <th>Date mutation</th>\n      <th>Nature mutation</th>\n      <th>...</th>\n      <th>Surface Carrez du 5eme lot</th>\n      <th>Nombre de lots</th>\n      <th>Code type local</th>\n      <th>Type local</th>\n      <th>Identifiant local</th>\n      <th>Surface reelle bati</th>\n      <th>Nombre pieces principales</th>\n      <th>Nature culture</th>\n      <th>Nature culture speciale</th>\n      <th>Surface terrain</th>\n    </tr>\n  </thead>\n  <tbody>\n    <tr>\n      <th>3</th>\n      <td>NaN</td>\n      <td>NaN</td>\n      <td>NaN</td>\n      <td>NaN</td>\n      <td>NaN</td>\n      <td>NaN</td>\n      <td>NaN</td>\n      <td>1</td>\n      <td>08/01/2019</td>\n      <td>Vente</td>\n      <td>...</td>\n      <td>NaN</td>\n      <td>0</td>\n      <td>1.0</td>\n      <td>Maison</td>\n      <td>NaN</td>\n      <td>90.0</td>\n      <td>4.0</td>\n      <td>S</td>\n      <td>NaN</td>\n      <td>940.0</td>\n    </tr>\n    <tr>\n      <th>4</th>\n      <td>NaN</td>\n      <td>NaN</td>\n      <td>NaN</td>\n      <td>NaN</td>\n      <td>NaN</td>\n      <td>NaN</td>\n      <td>NaN</td>\n      <td>1</td>\n      <td>07/01/2019</td>\n      <td>Vente</td>\n      <td>...</td>\n      <td>NaN</td>\n      <td>0</td>\n      <td>1.0</td>\n      <td>Maison</td>\n      <td>NaN</td>\n      <td>101.0</td>\n      <td>5.0</td>\n      <td>S</td>\n      <td>NaN</td>\n      <td>490.0</td>\n    </tr>\n    <tr>\n      <th>5</th>\n      <td>NaN</td>\n      <td>NaN</td>\n      <td>NaN</td>\n      <td>NaN</td>\n      <td>NaN</td>\n      <td>NaN</td>\n      <td>NaN</td>\n      <td>1</td>\n      <td>03/01/2019</td>\n      <td>Vente</td>\n      <td>...</td>\n      <td>NaN</td>\n      <td>0</td>\n      <td>1.0</td>\n      <td>Maison</td>\n      <td>NaN</td>\n      <td>88.0</td>\n      <td>4.0</td>\n      <td>S</td>\n      <td>NaN</td>\n      <td>708.0</td>\n    </tr>\n    <tr>\n      <th>6</th>\n      <td>NaN</td>\n      <td>NaN</td>\n      <td>NaN</td>\n      <td>NaN</td>\n      <td>NaN</td>\n      <td>NaN</td>\n      <td>NaN</td>\n      <td>1</td>\n      <td>08/01/2019</td>\n      <td>Vente</td>\n      <td>...</td>\n      <td>NaN</td>\n      <td>0</td>\n      <td>1.0</td>\n      <td>Maison</td>\n      <td>NaN</td>\n      <td>39.0</td>\n      <td>2.0</td>\n      <td>S</td>\n      <td>NaN</td>\n      <td>631.0</td>\n    </tr>\n    <tr>\n      <th>13</th>\n      <td>NaN</td>\n      <td>NaN</td>\n      <td>NaN</td>\n      <td>NaN</td>\n      <td>NaN</td>\n      <td>NaN</td>\n      <td>NaN</td>\n      <td>1</td>\n      <td>07/01/2019</td>\n      <td>Vente</td>\n      <td>...</td>\n      <td>NaN</td>\n      <td>0</td>\n      <td>1.0</td>\n      <td>Maison</td>\n      <td>NaN</td>\n      <td>100.0</td>\n      <td>1.0</td>\n      <td>S</td>\n      <td>NaN</td>\n      <td>2103.0</td>\n    </tr>\n  </tbody>\n</table>\n<p>5 rows × 43 columns</p>\n</div>"
     },
     "metadata": {},
     "execution_count": 7
    }
   ],
   "source": [
    "# maison_non_bati = maison[maison['Surface reelle bati'].isna()]\n",
    "# maison_non_terrain = maison[maison['Surface terrain'].isna()]\n",
    "# maison_non_valeur = maison[maison['Valeur fonciere'].isna()]\n",
    "# maison_non_pieces = maison[maison['Nombre pieces principales'].isna()]\n",
    "# maison_non_postal = maison[maison['Code postal'].isna()]\n",
    "\n",
    "# print('nb maison non bati \\t', len(maison_non_bati), '\\tsoit\\t', round(len(maison_non_bati)/len(maison)*100, 1), ' % des maisons' )\n",
    "# print('nb maison sans terrain \\t', len(maison_non_terrain), '\\tsoit\\t', round(len(maison_non_terrain)/len(maison)*100, 1), ' % des maisons' )\n",
    "# print('nb maison sans valeur \\t', len(maison_non_valeur), '\\tsoit\\t', round(len(maison_non_valeur)/len(maison)*100, 1), ' % des maisons' )\n",
    "# print('nb maison sans piece \\t', len(maison_non_pieces), '\\tsoit\\t', round(len(maison_non_pieces)/len(maison)*100, 1), ' % des maisons' )\n",
    "# print('nb maison sans code postal \\t', len(maison_non_postal), '\\tsoit\\t', round(len(maison_non_postal)/len(maison)*100, 1), ' % des maisons' )\n",
    "\n",
    "maison_filtre = maison.dropna(subset=['Surface reelle bati','Surface terrain', 'Valeur fonciere', 'Nombre pieces principales', 'Code postal'])\n",
    "print(len(maison_filtre), ' maisons')\n",
    "maison_filtre.head()"
   ]
  },
  {
   "source": [
    "Observation sur les types de mutation et leur influence sur la valeur de la maison\n"
   ],
   "cell_type": "markdown",
   "metadata": {}
  },
  {
   "cell_type": "code",
   "execution_count": 8,
   "metadata": {
    "tags": []
   },
   "outputs": [
    {
     "output_type": "stream",
     "name": "stdout",
     "text": "Vente\nVente en l&#39;état futur d&#39;achèvement\nEchange\nAdjudication\nVente terrain à bâtir\nExpropriation\n"
    }
   ],
   "source": [
    "for mutation in maison_filtre['Nature mutation'].drop_duplicates().values:\n",
    "    print(mutation)"
   ]
  }
 ]
}