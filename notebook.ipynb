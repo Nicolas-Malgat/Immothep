{
 "metadata": {
  "language_info": {
   "codemirror_mode": {
    "name": "ipython",
    "version": 3
   },
   "file_extension": ".py",
   "mimetype": "text/x-python",
   "name": "python",
   "nbconvert_exporter": "python",
   "pygments_lexer": "ipython3",
   "version": "3.6.11-final"
  },
  "orig_nbformat": 2,
  "kernelspec": {
   "name": "Python 3.6.11 64-bit ('immobilier': conda)",
   "display_name": "Python 3.6.11 64-bit ('immobilier': conda)",
   "metadata": {
    "interpreter": {
     "hash": "15519de8fbb6136aa09e019b0b4b08d477217ed268095a8a98a95fc8a7dafa78"
    }
   }
  }
 },
 "nbformat": 4,
 "nbformat_minor": 2,
 "cells": [
  {
   "cell_type": "code",
   "execution_count": 1,
   "metadata": {
    "tags": []
   },
   "outputs": [],
   "source": [
    "import pandas as pd\n",
    "import matplotlib.pyplot as plt\n",
    "\n",
    "from modules.loader import ImmothepDataLoader\n",
    "loader = ImmothepDataLoader()\n",
    "del(ImmothepDataLoader)\n",
    "\n",
    "from modules.csvLoader import csvLoader\n",
    "\n",
    "DATASET_PATH = '../datas/RAW/'\n",
    "\n",
    "%load_ext autoreload\n",
    "%autoreload 2"
   ]
  },
  {
   "source": [
    "## Téléchargement des données"
   ],
   "cell_type": "markdown",
   "metadata": {}
  },
  {
   "cell_type": "code",
   "execution_count": 2,
   "metadata": {
    "tags": []
   },
   "outputs": [
    {
     "output_type": "stream",
     "name": "stdout",
     "text": "Les fichiers sont correctement téléchargés\n"
    }
   ],
   "source": [
    "loader.ensure_data_loaded()\n",
    "del(loader)"
   ]
  },
  {
   "source": [
    "## Lecture des csv"
   ],
   "cell_type": "markdown",
   "metadata": {}
  },
  {
   "cell_type": "code",
   "execution_count": 3,
   "metadata": {},
   "outputs": [],
   "source": [
    "valeurs_foncieres = pd.read_csv(DATASET_PATH + \"valeursfoncieres-2019.txt\", sep='|', encoding='utf-8')\n",
    "del(DATASET_PATH)"
   ]
  },
  {
   "source": [
    "# Observations sur le dataframe"
   ],
   "cell_type": "markdown",
   "metadata": {}
  },
  {
   "source": [
    "## Les types de biens\n",
    "```\n",
    "Appartement\n",
    "Dépendance\n",
    "Maison\n",
    "nan\n",
    "Local industriel. commercial ou assimilé\n",
    "\n",
    "nb local :\t 2535791  soit\t 100  % des locaux\n",
    "nb appart :\t 430975  soit\t 17  % des locaux\n",
    "nb maison :\t 515398  soit\t 20  % des locaux\n",
    "nb dependance :\t 312480  soit\t 12  % des locaux\n",
    "nb none_local :\t 1182459  soit\t 47  % des locaux\n",
    "nb industriel :\t 94479  soit\t 4  % des locaux\n",
    "```\n"
   ],
   "cell_type": "markdown",
   "metadata": {}
  },
  {
   "cell_type": "code",
   "execution_count": 4,
   "metadata": {
    "tags": []
   },
   "outputs": [
    {
     "output_type": "stream",
     "name": "stdout",
     "text": "Appartement\nDépendance\nMaison\nnan\nLocal industriel. commercial ou assimilé\n\nnb local :\t 2535791 \tsoit\t 100  % des locaux\nnb maison :\t 515398 \tsoit\t 20  % des locaux\n"
    }
   ],
   "source": [
    "for local in valeurs_foncieres['Type local'].drop_duplicates().values:\n",
    "    print(local)\n",
    "del(local)\n",
    "print()\n",
    "# appartement = valeurs_foncieres[valeurs_foncieres['Type local'] == 'Appartement']\n",
    "maison = valeurs_foncieres[valeurs_foncieres['Type local'] == 'Maison']\n",
    "# dependance = valeurs_foncieres[valeurs_foncieres['Type local'] == 'Dépendance']\n",
    "# none_local = valeurs_foncieres[valeurs_foncieres['Type local'].isna()]\n",
    "# industriel = valeurs_foncieres[valeurs_foncieres['Type local'] == 'Local industriel. commercial ou assimilé']\n",
    "\n",
    "print('nb local :\\t', len(valeurs_foncieres), '\\tsoit\\t', round(len(valeurs_foncieres)/len(valeurs_foncieres)*100), ' % des locaux' )\n",
    "# print('nb appart :\\t', len(appartement), '\\tsoit\\t', round(len(appartement)/len(valeurs_foncieres)*100), ' % des locaux' )\n",
    "print('nb maison :\\t', len(maison), '\\tsoit\\t', round(len(maison)/len(valeurs_foncieres)*100), ' % des locaux' )\n",
    "# print('nb dependance :\\t', len(dependance), '\\tsoit\\t', round(len(dependance)/len(valeurs_foncieres)*100), ' % des locaux' )\n",
    "# print('nb none_local :\\t', len(none_local), '\\tsoit\\t', round(len(none_local)/len(valeurs_foncieres)*100), ' % des locaux' )\n",
    "# print('nb industriel :\\t', len(industriel), '\\tsoit\\t', round(len(industriel)/len(valeurs_foncieres)*100), ' % des locaux' )\n",
    "\n",
    "del(valeurs_foncieres)"
   ]
  },
  {
   "source": [
    "## Filtres sur les maisons\n",
    "\n",
    "Aucune de ces maisons n'est souhaitée dans les données du modèle IA\n",
    "- nb maison non bati \t 10 \tsoit\t 0.0  % des maisons\n",
    "- nb maison sans terrain \t 22207 \tsoit\t 4.3  % des maisons\n",
    "- nb maison sans valeur \t 1419 \tsoit\t 0.3  % des maisons\n",
    "- nb maison sans piece \t 10 \tsoit\t 0.0  % des maisons\n",
    "- nb maison sans code postal \t 45 \tsoit\t 0.0  % des maisons\n",
    "- maisons_filtre == 491748"
   ],
   "cell_type": "markdown",
   "metadata": {}
  },
  {
   "cell_type": "code",
   "execution_count": 5,
   "metadata": {
    "tags": []
   },
   "outputs": [
    {
     "output_type": "stream",
     "name": "stdout",
     "text": "nb maison non bati \t 10 \tsoit\t 0.0  % des maisons\nnb maison sans terrain \t 22207 \tsoit\t 4.3  % des maisons\nnb maison sans valeur \t 1419 \tsoit\t 0.3  % des maisons\nnb maison sans piece \t 10 \tsoit\t 0.0  % des maisons\nnb maison sans code postal \t 45 \tsoit\t 0.0  % des maisons\nmaison_filtre == 491748\n"
    }
   ],
   "source": [
    "maison_non_bati = maison[maison['Surface reelle bati'].isna()]\n",
    "maison_non_terrain = maison[maison['Surface terrain'].isna()]\n",
    "maison_non_valeur = maison[maison['Valeur fonciere'].isna()]\n",
    "maison_non_pieces = maison[maison['Nombre pieces principales'].isna()]\n",
    "maison_non_postal = maison[maison['Code postal'].isna()]\n",
    "\n",
    "print('nb maison non bati \\t', len(maison_non_bati), '\\tsoit\\t', round(len(maison_non_bati)/len(maison)*100, 1), ' % des maisons' )\n",
    "print('nb maison sans terrain \\t', len(maison_non_terrain), '\\tsoit\\t', round(len(maison_non_terrain)/len(maison)*100, 1), ' % des maisons' )\n",
    "print('nb maison sans valeur \\t', len(maison_non_valeur), '\\tsoit\\t', round(len(maison_non_valeur)/len(maison)*100, 1), ' % des maisons' )\n",
    "print('nb maison sans piece \\t', len(maison_non_pieces), '\\tsoit\\t', round(len(maison_non_pieces)/len(maison)*100, 1), ' % des maisons' )\n",
    "print('nb maison sans code postal \\t', len(maison_non_postal), '\\tsoit\\t', round(len(maison_non_postal)/len(maison)*100, 1), ' % des maisons' )\n",
    "\n",
    "del(maison_non_bati,maison_non_terrain,maison_non_valeur,maison_non_pieces,maison_non_postal)\n",
    "\n",
    "maison_filtre = maison.dropna(subset=['Surface reelle bati','Surface terrain', 'Valeur fonciere', 'Nombre pieces principales', 'Code postal'])\n",
    "del(maison)\n",
    "\n",
    "print('maison_filtre ==', len(maison_filtre))"
   ]
  },
  {
   "source": [
    "## Observation du contenu des colonnes\n",
    "\n",
    "Dans un objectif de performance, est-il nécessaire de toutes les conserver ?\n"
   ],
   "cell_type": "markdown",
   "metadata": {}
  },
  {
   "cell_type": "code",
   "execution_count": 6,
   "metadata": {
    "tags": []
   },
   "outputs": [
    {
     "output_type": "stream",
     "name": "stdout",
     "text": "Suppression des colonnes vides\n\nColonne  Code service CH\nColonne  Reference document\nColonne  1 Articles CGI\nColonne  2 Articles CGI\nColonne  3 Articles CGI\nColonne  4 Articles CGI\nColonne  5 Articles CGI\nColonne  No Volume\nColonne  2eme lot\nColonne  Surface Carrez du 2eme lot\nColonne  3eme lot\nColonne  Surface Carrez du 3eme lot\nColonne  4eme lot\nColonne  Surface Carrez du 4eme lot\nColonne  5eme lot\nColonne  Surface Carrez du 5eme lot\nColonne  Identifiant local\n\nSuppression effectuée !\n"
    }
   ],
   "source": [
    "liste_colonne_vide = []\n",
    "print('Suppression des colonnes vides\\n')\n",
    "\n",
    "for col in maison_filtre.columns:\n",
    "    if len(maison_filtre[maison_filtre[col].isna()]) == len(maison_filtre):\n",
    "        print('Colonne ', col)\n",
    "        maison_filtre = maison_filtre.drop(columns=col)\n",
    "\n",
    "print('\\nSuppression effectuée !')\n",
    "del(liste_colonne_vide, col)"
   ]
  },
  {
   "cell_type": "code",
   "execution_count": 7,
   "metadata": {
    "tags": []
   },
   "outputs": [
    {
     "output_type": "stream",
     "name": "stdout",
     "text": "Pourcentage valeur non vide par colonne\nNo disposition  :\t 100.0  %\nDate mutation  :\t 100.0  %\nNature mutation  :\t 100.0  %\nValeur fonciere  :\t 100.0  %\nNo voie  :\t 99.63761926840577  %\nB/T/Q  :\t 7.106078723248487  %\nType de voie  :\t 80.96565720653669  %\nCode voie  :\t 100.0  %\nVoie  :\t 99.99247582094894  %\nCode postal  :\t 100.0  %\nCommune  :\t 100.0  %\nCode departement  :\t 100.0  %\nCode commune  :\t 100.0  %\nPrefixe de section  :\t 3.76819021124642  %\nSection  :\t 99.99694965714146  %\nNo plan  :\t 100.0  %\n1er lot  :\t 0.27798791250803845  %\nSurface Carrez du 1er lot  :\t 0.19176488770671085  %\nNombre de lots  :\t 100.0  %\nCode type local  :\t 100.0  %\nType local  :\t 100.0  %\nSurface reelle bati  :\t 100.0  %\nNombre pieces principales  :\t 100.0  %\nNature culture  :\t 100.0  %\nNature culture speciale  :\t 3.278508504355898  %\nSurface terrain  :\t 100.0  %\n"
    }
   ],
   "source": [
    "print('Pourcentage valeur non vide par colonne')\n",
    "for col in maison_filtre.columns:\n",
    "    print( col, ' :\\t', 100 - len(maison_filtre[maison_filtre[col].isna()]) / len(maison_filtre) * 100, ' %')"
   ]
  },
  {
   "cell_type": "code",
   "execution_count": 10,
   "metadata": {
    "tags": []
   },
   "outputs": [
    {
     "output_type": "stream",
     "name": "stdout",
     "text": "Successfully created the directory ../datas/CURATED/ \n"
    }
   ],
   "source": [
    "csvLoader.save(maison_filtre, 'maison_filtre')"
   ]
  }
 ]
}