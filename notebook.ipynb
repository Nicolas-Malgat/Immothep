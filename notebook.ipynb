{
 "metadata": {
  "language_info": {
   "codemirror_mode": {
    "name": "ipython",
    "version": 3
   },
   "file_extension": ".py",
   "mimetype": "text/x-python",
   "name": "python",
   "nbconvert_exporter": "python",
   "pygments_lexer": "ipython3",
   "version": "3.6.11-final"
  },
  "orig_nbformat": 2,
  "kernelspec": {
   "name": "Python 3.6.11 64-bit ('immobilier': conda)",
   "display_name": "Python 3.6.11 64-bit ('immobilier': conda)",
   "metadata": {
    "interpreter": {
     "hash": "15519de8fbb6136aa09e019b0b4b08d477217ed268095a8a98a95fc8a7dafa78"
    }
   }
  }
 },
 "nbformat": 4,
 "nbformat_minor": 2,
 "cells": [
  {
   "cell_type": "code",
   "execution_count": 1,
   "metadata": {
    "tags": []
   },
   "outputs": [],
   "source": [
    "import pandas as pd\n",
    "import matplotlib.pyplot as plt\n",
    "\n",
    "from modules.loader import ImmothepDataLoader\n",
    "loader = ImmothepDataLoader()\n",
    "del(ImmothepDataLoader)\n",
    "\n",
    "from modules.csvLoader import csvLoader\n",
    "\n",
    "DATASET_PATH = '../datas/RAW/'\n",
    "\n",
    "%load_ext autoreload\n",
    "%autoreload 2"
   ]
  },
  {
   "source": [
    "## Téléchargement des données"
   ],
   "cell_type": "markdown",
   "metadata": {}
  },
  {
   "cell_type": "code",
   "execution_count": 2,
   "metadata": {
    "tags": []
   },
   "outputs": [
    {
     "output_type": "stream",
     "name": "stdout",
     "text": "Les fichiers sont correctement téléchargés\n"
    }
   ],
   "source": [
    "loader.ensure_data_loaded()\n",
    "del(loader)"
   ]
  },
  {
   "source": [
    "## Lecture des csv"
   ],
   "cell_type": "markdown",
   "metadata": {}
  },
  {
   "cell_type": "code",
   "execution_count": 3,
   "metadata": {},
   "outputs": [],
   "source": [
    "valeurs_foncieres = pd.read_csv(DATASET_PATH + \"valeursfoncieres-2019.txt\", sep='|', decimal=',', encoding='utf-8')\n",
    "\n",
    "del(DATASET_PATH)"
   ]
  },
  {
   "source": [
    "# Observations sur le dataframe"
   ],
   "cell_type": "markdown",
   "metadata": {}
  },
  {
   "source": [
    "## Les types de biens\n",
    "```\n",
    "Appartement\n",
    "Dépendance\n",
    "Maison\n",
    "nan\n",
    "Local industriel. commercial ou assimilé\n",
    "\n",
    "nb local :\t 2535791  soit\t 100  % des locaux\n",
    "nb appart :\t 430975  soit\t 17  % des locaux\n",
    "nb maison :\t 515398  soit\t 20  % des locaux\n",
    "nb dependance :\t 312480  soit\t 12  % des locaux\n",
    "nb none_local :\t 1182459  soit\t 47  % des locaux\n",
    "nb industriel :\t 94479  soit\t 4  % des locaux\n",
    "```\n"
   ],
   "cell_type": "markdown",
   "metadata": {}
  },
  {
   "cell_type": "code",
   "execution_count": 4,
   "metadata": {
    "tags": []
   },
   "outputs": [
    {
     "output_type": "stream",
     "name": "stdout",
     "text": "Appartement\nDépendance\nMaison\nnan\nLocal industriel. commercial ou assimilé\n\nnb local :\t 2535791 \tsoit\t 100  % des locaux\nnb appart :\t 430975 \tsoit\t 17  % des locaux\nnb maison :\t 515398 \tsoit\t 20  % des locaux\n"
    }
   ],
   "source": [
    "for local in valeurs_foncieres['Type local'].drop_duplicates().values:\n",
    "    print(local)\n",
    "del(local)\n",
    "print()\n",
    "appartement = valeurs_foncieres[valeurs_foncieres['Type local'] == 'Appartement']\n",
    "maison = valeurs_foncieres[valeurs_foncieres['Type local'] == 'Maison']\n",
    "# dependance = valeurs_foncieres[valeurs_foncieres['Type local'] == 'Dépendance']\n",
    "# none_local = valeurs_foncieres[valeurs_foncieres['Type local'].isna()]\n",
    "# industriel = valeurs_foncieres[valeurs_foncieres['Type local'] == 'Local industriel. commercial ou assimilé']\n",
    "\n",
    "print('nb local :\\t', len(valeurs_foncieres), '\\tsoit\\t', round(len(valeurs_foncieres)/len(valeurs_foncieres)*100), ' % des locaux' )\n",
    "print('nb appart :\\t', len(appartement), '\\tsoit\\t', round(len(appartement)/len(valeurs_foncieres)*100), ' % des locaux' )\n",
    "print('nb maison :\\t', len(maison), '\\tsoit\\t', round(len(maison)/len(valeurs_foncieres)*100), ' % des locaux' )\n",
    "# print('nb dependance :\\t', len(dependance), '\\tsoit\\t', round(len(dependance)/len(valeurs_foncieres)*100), ' % des locaux' )\n",
    "# print('nb none_local :\\t', len(none_local), '\\tsoit\\t', round(len(none_local)/len(valeurs_foncieres)*100), ' % des locaux' )\n",
    "# print('nb industriel :\\t', len(industriel), '\\tsoit\\t', round(len(industriel)/len(valeurs_foncieres)*100), ' % des locaux' )\n",
    "\n",
    "del(valeurs_foncieres)"
   ]
  },
  {
   "source": [
    "# Maison"
   ],
   "cell_type": "markdown",
   "metadata": {}
  },
  {
   "source": [
    "## Filtres sur les maisons\n",
    "\n",
    "Aucune de ces maisons n'est souhaitée dans les données du modèle IA\n",
    "- nb maison non bati \t 10 \tsoit\t 0.0  % des maisons\n",
    "- nb maison sans terrain \t 22207 \tsoit\t 4.3  % des maisons\n",
    "- nb maison sans valeur \t 1419 \tsoit\t 0.3  % des maisons\n",
    "- nb maison sans piece \t 10 \tsoit\t 0.0  % des maisons\n",
    "- nb maison sans code postal \t 45 \tsoit\t 0.0  % des maisons\n",
    "- maisons_filtre == 491748"
   ],
   "cell_type": "markdown",
   "metadata": {}
  },
  {
   "cell_type": "code",
   "execution_count": 5,
   "metadata": {
    "tags": []
   },
   "outputs": [
    {
     "output_type": "stream",
     "name": "stdout",
     "text": "nb Surface reelle bati \t 10 \tsoit\t 0.0  % des maisons\nnb Surface terrain \t 22207 \tsoit\t 4.3  % des maisons\nnb Valeur fonciere \t 1419 \tsoit\t 0.3  % des maisons\nnb Nombre pieces principales \t 10 \tsoit\t 0.0  % des maisons\nnb Code postal \t 45 \tsoit\t 0.0  % des maisons\nmaison_filtre == 491748\n"
    }
   ],
   "source": [
    "cols = ['Surface reelle bati', 'Surface terrain', 'Valeur fonciere', 'Nombre pieces principales', 'Code postal']\n",
    "\n",
    "for col in cols:\n",
    "    df_vide = maison[maison[col].isna()]\n",
    "    print('nb ' + col + ' \\t', len(df_vide), '\\tsoit\\t', round(len(df_vide)/len(maison)*100, 1), ' % des maisons' )\n",
    "\n",
    "maison_filtre = maison.dropna(how='any', subset=cols)\n",
    "\n",
    "del(df_vide, col, cols)\n",
    "del(maison)\n",
    "\n",
    "print('maison_filtre ==', len(maison_filtre))"
   ]
  },
  {
   "source": [
    "## Observation du contenu des colonnes\n",
    "\n",
    "Dans un objectif de performance, est-il nécessaire de toutes les conserver ?\n"
   ],
   "cell_type": "markdown",
   "metadata": {}
  },
  {
   "cell_type": "code",
   "execution_count": 6,
   "metadata": {
    "tags": []
   },
   "outputs": [
    {
     "output_type": "stream",
     "name": "stdout",
     "text": "\nSuppression effectuée !\n"
    }
   ],
   "source": [
    "maison_filtre = maison_filtre.dropna(axis=1, how='all')\n",
    "\n",
    "print('\\nSuppression effectuée !')"
   ]
  },
  {
   "cell_type": "code",
   "execution_count": 7,
   "metadata": {
    "tags": []
   },
   "outputs": [
    {
     "output_type": "stream",
     "name": "stdout",
     "text": "Pourcentage valeur non vide par colonne\nNo disposition  :\t 100.0  %\nDate mutation  :\t 100.0  %\nNature mutation  :\t 100.0  %\nValeur fonciere  :\t 100.0  %\nNo voie  :\t 99.63761926840577  %\nB/T/Q  :\t 7.106078723248487  %\nType de voie  :\t 80.96565720653669  %\nCode voie  :\t 100.0  %\nVoie  :\t 99.99247582094894  %\nCode postal  :\t 100.0  %\nCommune  :\t 100.0  %\nCode departement  :\t 100.0  %\nCode commune  :\t 100.0  %\nPrefixe de section  :\t 3.76819021124642  %\nSection  :\t 99.99694965714146  %\nNo plan  :\t 100.0  %\n1er lot  :\t 0.27798791250803845  %\nSurface Carrez du 1er lot  :\t 0.19176488770671085  %\nNombre de lots  :\t 100.0  %\nCode type local  :\t 100.0  %\nType local  :\t 100.0  %\nSurface reelle bati  :\t 100.0  %\nNombre pieces principales  :\t 100.0  %\nNature culture  :\t 100.0  %\nNature culture speciale  :\t 3.278508504355898  %\nSurface terrain  :\t 100.0  %\n"
    }
   ],
   "source": [
    "print('Pourcentage valeur non vide par colonne')\n",
    "for col in maison_filtre.columns:\n",
    "    print( col, ' :\\t', 100 - len(maison_filtre[maison_filtre[col].isna()]) / len(maison_filtre) * 100, ' %')"
   ]
  },
  {
   "cell_type": "code",
   "execution_count": 8,
   "metadata": {
    "tags": []
   },
   "outputs": [],
   "source": [
    "csvLoader.save(maison_filtre, 'maison', save_index=False)"
   ]
  },
  {
   "source": [
    "# Appartement"
   ],
   "cell_type": "markdown",
   "metadata": {}
  },
  {
   "source": [
    "## Filtres sur les appartements"
   ],
   "cell_type": "markdown",
   "metadata": {}
  },
  {
   "cell_type": "code",
   "execution_count": 9,
   "metadata": {
    "tags": []
   },
   "outputs": [
    {
     "output_type": "stream",
     "name": "stdout",
     "text": "nb Surface reelle bati \t 11 \tsoit\t 0.0  % des appartements\nnb Valeur fonciere \t 2346 \tsoit\t 0.5  % des appartements\nnb Nombre pieces principales \t 11 \tsoit\t 0.0  % des appartements\nnb Code postal \t 9 \tsoit\t 0.0  % des appartements\nappartement_filtre == 428609\n"
    }
   ],
   "source": [
    "cols = ['Surface reelle bati', 'Valeur fonciere', 'Nombre pieces principales', 'Code postal']\n",
    "\n",
    "for col in cols:\n",
    "    df_vide = appartement[appartement[col].isna()]\n",
    "    print('nb ' + col + ' \\t', len(df_vide), '\\tsoit\\t', round(len(df_vide)/len(appartement)*100, 1), ' % des appartements' )\n",
    "\n",
    "appartement_filtre = appartement.dropna(how='any', subset=cols)\n",
    "\n",
    "del(df_vide, col, cols)\n",
    "del(appartement)\n",
    "\n",
    "print('appartement_filtre ==', len(appartement_filtre))"
   ]
  },
  {
   "source": [
    "## Observation du contenu des colonnes\n",
    "\n",
    "Dans un objectif de performance, est-il nécessaire de toutes les conserver ?"
   ],
   "cell_type": "markdown",
   "metadata": {}
  },
  {
   "cell_type": "code",
   "execution_count": 10,
   "metadata": {
    "tags": []
   },
   "outputs": [
    {
     "output_type": "stream",
     "name": "stdout",
     "text": "\nSuppression effectuée !\n"
    }
   ],
   "source": [
    "appartement_filtre = appartement_filtre.dropna(axis=1, how='all')\n",
    "\n",
    "print('\\nSuppression effectuée !')"
   ]
  },
  {
   "cell_type": "code",
   "execution_count": 11,
   "metadata": {
    "tags": []
   },
   "outputs": [
    {
     "output_type": "stream",
     "name": "stdout",
     "text": "Pourcentage valeur non vide par colonne\nNo disposition  :\t 428609 \t\t 100.0  %\nDate mutation  :\t 428609 \t\t 100.0  %\nNature mutation  :\t 428609 \t\t 100.0  %\nValeur fonciere  :\t 428609 \t\t 100.0  %\nNo voie  :\t 425109 \t\t 99.18340492150188  %\nB/T/Q  :\t 25444 \t\t 5.936412907801753  %\nType de voie  :\t 415941 \t\t 97.04439244159596  %\nCode voie  :\t 428609 \t\t 100.0  %\nVoie  :\t 428607 \t\t 99.99953337424085  %\nCode postal  :\t 428609 \t\t 100.0  %\nCommune  :\t 428609 \t\t 100.0  %\nCode departement  :\t 428609 \t\t 100.0  %\nCode commune  :\t 428609 \t\t 100.0  %\nPrefixe de section  :\t 23143 \t\t 5.399559971909127  %\nSection  :\t 428598 \t\t 99.99743355832472  %\nNo plan  :\t 428609 \t\t 100.0  %\n1er lot  :\t 320057 \t\t 74.67342029682065  %\nSurface Carrez du 1er lot  :\t 176937 \t\t 41.28168097263474  %\n2eme lot  :\t 146467 \t\t 34.17263753210969  %\nSurface Carrez du 2eme lot  :\t 50561 \t\t 11.796532503983812  %\n3eme lot  :\t 19337 \t\t 4.51157115226232  %\nSurface Carrez du 3eme lot  :\t 4114 \t\t 0.959849186554635  %\n4eme lot  :\t 5552 \t\t 1.2953531073775792  %\nSurface Carrez du 4eme lot  :\t 908 \t\t 0.2118480946503638  %\n5eme lot  :\t 2129 \t\t 0.49672312060641843  %\nSurface Carrez du 5eme lot  :\t 296 \t\t 0.06906061235298466  %\nNombre de lots  :\t 428609 \t\t 100.0  %\nCode type local  :\t 428609 \t\t 100.0  %\nType local  :\t 428609 \t\t 100.0  %\nSurface reelle bati  :\t 428609 \t\t 100.0  %\nNombre pieces principales  :\t 428609 \t\t 100.0  %\nNature culture  :\t 108331 \t\t 25.275017556794182  %\nNature culture speciale  :\t 3355 \t\t 0.7827647109603362  %\nSurface terrain  :\t 108331 \t\t 25.275017556794182  %\n"
    }
   ],
   "source": [
    "print('Pourcentage valeur non vide par colonne')\n",
    "for col in appartement_filtre.columns:\n",
    "    print(col, ' :\\t', \n",
    "        len(appartement_filtre) - len(appartement_filtre[appartement_filtre[col].isna()]), \n",
    "        '\\t\\t', \n",
    "        100 - len(appartement_filtre[appartement_filtre[col].isna()]) / len(appartement_filtre) * 100, \n",
    "        ' %'\n",
    "    )\n",
    "\n",
    "del(col)"
   ]
  },
  {
   "cell_type": "code",
   "execution_count": 12,
   "metadata": {},
   "outputs": [],
   "source": [
    "csvLoader.save(appartement_filtre, 'appartement', save_index=False)"
   ]
  }
 ]
}